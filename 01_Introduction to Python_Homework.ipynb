{
 "cells": [
  {
   "cell_type": "markdown",
   "metadata": {},
   "source": [
    "#### 1. (5 pts) Given the following function:"
   ]
  },
  {
   "cell_type": "raw",
   "metadata": {},
   "source": [
    "def myFunc1(a, b, c):\n",
    "    if a > 2:\n",
    "        return b - c\n",
    "    else:\n",
    "        return b + c"
   ]
  },
  {
   "cell_type": "markdown",
   "metadata": {},
   "source": [
    "#### What does the call *myFunc1( 1, 5, 6 )* return?"
   ]
  },
  {
   "cell_type": "raw",
   "metadata": {},
   "source": [
    "myFunc1(1, 5, 6)"
   ]
  },
  {
   "cell_type": "markdown",
   "metadata": {},
   "source": [
    "#### 2. (5 pts) Using the same function from question 1, what does *myFunc1( 2, 1, 5 )* return?"
   ]
  },
  {
   "cell_type": "raw",
   "metadata": {},
   "source": [
    "myFunc1(2, 1, 5)"
   ]
  },
  {
   "cell_type": "markdown",
   "metadata": {},
   "source": [
    "#### 3. (5 pts) Using the same function from question 1, what does *myFunc1( 10, 3, -1 )* return?"
   ]
  },
  {
   "cell_type": "raw",
   "metadata": {},
   "source": [
    "myFunc1(10, 3, -1)"
   ]
  },
  {
   "cell_type": "markdown",
   "metadata": {},
   "source": [
    "#### 4. (5 pts) Given the following function:"
   ]
  },
  {
   "cell_type": "raw",
   "metadata": {},
   "source": [
    "def myFunc2(a, b):\n",
    "    if a <= 3:\n",
    "        return b + 2\n",
    "    elif a <= 7:\n",
    "        return b - 2\n",
    "    else:\n",
    "        return b + 6"
   ]
  },
  {
   "cell_type": "code",
   "execution_count": null,
   "metadata": {},
   "outputs": [],
   "source": []
  }
 ],
 "metadata": {
  "kernelspec": {
   "display_name": "Python 3",
   "language": "python",
   "name": "python3"
  },
  "language_info": {
   "codemirror_mode": {
    "name": "ipython",
    "version": 3
   },
   "file_extension": ".py",
   "mimetype": "text/x-python",
   "name": "python",
   "nbconvert_exporter": "python",
   "pygments_lexer": "ipython3",
   "version": "3.7.4"
  }
 },
 "nbformat": 4,
 "nbformat_minor": 2
}
