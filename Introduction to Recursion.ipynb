{
 "cells": [
  {
   "cell_type": "markdown",
   "metadata": {},
   "source": [
    "# Task 1 - A count down function"
   ]
  },
  {
   "cell_type": "markdown",
   "metadata": {},
   "source": [
    "* This function will take in a number and count down to zero. \n",
    "* It will print each of the numbers as it counts down."
   ]
  },
  {
   "cell_type": "markdown",
   "metadata": {},
   "source": [
    "### Step 1: Needs to take in a number; this means a parameter"
   ]
  },
  {
   "cell_type": "code",
   "execution_count": 49,
   "metadata": {},
   "outputs": [],
   "source": [
    "def count_down(number):\n",
    "    # Code will be filling this place\n",
    "    pass\n",
    "\n",
    "count_down(5)"
   ]
  },
  {
   "cell_type": "markdown",
   "metadata": {},
   "source": [
    "### Step 2: Needs to print the number"
   ]
  },
  {
   "cell_type": "code",
   "execution_count": 50,
   "metadata": {},
   "outputs": [
    {
     "name": "stdout",
     "output_type": "stream",
     "text": [
      "5\n"
     ]
    }
   ],
   "source": [
    "def count_down(number):\n",
    "    print(number)\n",
    "\n",
    "count_down(5)    "
   ]
  },
  {
   "cell_type": "markdown",
   "metadata": {},
   "source": [
    "### Step 3: Needs to change the number and repeat"
   ]
  },
  {
   "cell_type": "code",
   "execution_count": 2,
   "metadata": {},
   "outputs": [],
   "source": [
    "def count_down(number):\n",
    "    print(number)\n",
    "    count_down(number-1)\n",
    "\n",
    "# No end condition, the recursive call will end until program crash\n",
    "# count_down(5)    "
   ]
  },
  {
   "cell_type": "markdown",
   "metadata": {},
   "source": [
    "### Step 4: Needs to stop after zero"
   ]
  },
  {
   "cell_type": "markdown",
   "metadata": {},
   "source": [
    "What should our base case for this be?"
   ]
  },
  {
   "cell_type": "code",
   "execution_count": 4,
   "metadata": {},
   "outputs": [
    {
     "name": "stdout",
     "output_type": "stream",
     "text": [
      "5\n",
      "4\n",
      "3\n",
      "2\n",
      "1\n",
      "0\n"
     ]
    }
   ],
   "source": [
    "def count_down(number):\n",
    "    if number == -1:\n",
    "        pass\n",
    "    else:\n",
    "        print(number)\n",
    "        count_down(number-1)\n",
    "\n",
    "# Somet bug here, if the input value is less than -1\n",
    "# infinite recursive will happen again\n",
    "# count_down(-5)\n",
    "count_down(5)"
   ]
  },
  {
   "cell_type": "markdown",
   "metadata": {},
   "source": [
    "Refine our base case like this:"
   ]
  },
  {
   "cell_type": "code",
   "execution_count": 5,
   "metadata": {},
   "outputs": [
    {
     "name": "stdout",
     "output_type": "stream",
     "text": [
      "5\n",
      "4\n",
      "3\n",
      "2\n",
      "1\n",
      "0\n"
     ]
    }
   ],
   "source": [
    "def count_down(number):\n",
    "    if number <= -1:\n",
    "        pass\n",
    "    else:\n",
    "        print(number)\n",
    "        count_down(number-1)\n",
    "        \n",
    "count_down(5)        "
   ]
  },
  {
   "cell_type": "markdown",
   "metadata": {},
   "source": [
    "### Extra study: place the recursive call before the print\n",
    "\n",
    "It displays the numbers the other way. Why?"
   ]
  },
  {
   "cell_type": "code",
   "execution_count": 6,
   "metadata": {},
   "outputs": [
    {
     "name": "stdout",
     "output_type": "stream",
     "text": [
      "0\n",
      "1\n",
      "2\n",
      "3\n",
      "4\n",
      "5\n"
     ]
    }
   ],
   "source": [
    "def count_down(number):\n",
    "    if number <= -1:\n",
    "        pass\n",
    "    else:\n",
    "        # print(number)\n",
    "        count_down(number-1)\n",
    "        print(number)\n",
    "        \n",
    "count_down(5)         "
   ]
  },
  {
   "cell_type": "markdown",
   "metadata": {},
   "source": [
    "__Explanation__: The print is after the recursion. So it goes all the way down to -1 and prints the numbers as it comes back; returns out of the recursive calls. Swap it back to print before the recursion."
   ]
  },
  {
   "cell_type": "markdown",
   "metadata": {},
   "source": [
    "# Task 2 - Recursion and Turtle"
   ]
  },
  {
   "cell_type": "markdown",
   "metadata": {},
   "source": [
    "Write a recursive Turtle function `bulls_eye()` that draw a bullseye. \n",
    "* The function will start with a user supplied radius of the outer circle; in the form of a parameter. \n",
    "* It will draw a circle with that radius. \n",
    "* It will then move in 20 units and repeat the process; decreasing the radius by 20. \n",
    "* It will stop when the radius provided is less than zero. "
   ]
  },
  {
   "cell_type": "markdown",
   "metadata": {},
   "source": [
    "### Step 1: Needs to take in a number as radius; this means a parameter"
   ]
  },
  {
   "cell_type": "code",
   "execution_count": 74,
   "metadata": {},
   "outputs": [],
   "source": [
    "def bulls_eye(radius):\n",
    "    pass"
   ]
  },
  {
   "cell_type": "markdown",
   "metadata": {},
   "source": [
    "### Step 2: Needs to draw a circle with the provided radius"
   ]
  },
  {
   "cell_type": "code",
   "execution_count": 7,
   "metadata": {
    "scrolled": true
   },
   "outputs": [],
   "source": [
    "import turtle\n",
    "\n",
    "def bulls_eye(radius):\n",
    "    turtle.circle(radius)"
   ]
  },
  {
   "cell_type": "markdown",
   "metadata": {},
   "source": [
    "### Step 3: Move 20 unites towards the center of the circle"
   ]
  },
  {
   "cell_type": "markdown",
   "metadata": {},
   "source": [
    "Use the intuitive way to decreasing the radius:"
   ]
  },
  {
   "cell_type": "code",
   "execution_count": 63,
   "metadata": {},
   "outputs": [],
   "source": [
    "import turtle\n",
    "\n",
    "def bulls_eye(radius):\n",
    "    turtle.circle(radius)\n",
    "    bulls_eye(radius-20)"
   ]
  },
  {
   "cell_type": "markdown",
   "metadata": {},
   "source": [
    "Improve the code in the following way:"
   ]
  },
  {
   "cell_type": "code",
   "execution_count": 65,
   "metadata": {},
   "outputs": [],
   "source": [
    "import turtle\n",
    "\n",
    "def bulls_eye(radius):\n",
    "    turtle.circle(radius)\n",
    "    \n",
    "    # move to new start location\n",
    "    turtle.left(90)\n",
    "    turtle.up()\n",
    "    turtle.forward(20)\n",
    "    turtle.down()\n",
    "    turtle.right(90)\n",
    "    \n",
    "    bulls_eye(radius-20)"
   ]
  },
  {
   "cell_type": "markdown",
   "metadata": {},
   "source": [
    "### Step 4: Repeat until radius is less than zero"
   ]
  },
  {
   "cell_type": "code",
   "execution_count": 9,
   "metadata": {},
   "outputs": [],
   "source": [
    "import turtle\n",
    "\n",
    "def bulls_eye(radius):\n",
    "    if radius <= 0:\n",
    "        pass\n",
    "    else:  \n",
    "        turtle.circle(radius)\n",
    "\n",
    "        # move to new start location\n",
    "        turtle.left(90)\n",
    "        turtle.up()\n",
    "        turtle.forward(20)\n",
    "        turtle.down()\n",
    "        turtle.right(90)\n",
    "\n",
    "        bulls_eye(radius-20)"
   ]
  },
  {
   "cell_type": "markdown",
   "metadata": {},
   "source": [
    "### Run the function\n",
    "\n",
    "The code below is just for run the `bulls_eye()` function at each step."
   ]
  },
  {
   "cell_type": "code",
   "execution_count": 10,
   "metadata": {},
   "outputs": [],
   "source": [
    "import importlib\n",
    "\n",
    "# Reset the Turtle library in every run\n",
    "importlib.reload(turtle)\n",
    "\n",
    "# Prepare a window\n",
    "canvas = turtle.Screen()\n",
    "canvas.bgcolor(\"black\")\n",
    "canvas.title(\"Draw Bullseye\")\n",
    "\n",
    "# Set pen color and drawing speed\n",
    "turtle.speed(10)\n",
    "turtle.color(\"white\")\n",
    "\n",
    "# Run the function\n",
    "bulls_eye(100)\n",
    "\n",
    "# Wait for user to close window\n",
    "canvas.mainloop()"
   ]
  },
  {
   "cell_type": "markdown",
   "metadata": {},
   "source": [
    "# Question - Recursion and Turtle Extend Example"
   ]
  },
  {
   "cell_type": "markdown",
   "metadata": {},
   "source": [
    "Write a function called `square_bullseye()`. \n",
    "* This function will take in a single parameter, the side length of the square. \n",
    "* It will draw a square with that side length starting in the lower left corner of the square. \n",
    "* Then it will move to the lower left of the next square, 20 units right 20 units up. \n",
    "* Then repeat with a new side length 40 units shorter, and it will stop when the side length is less than zero."
   ]
  },
  {
   "cell_type": "markdown",
   "metadata": {},
   "source": [
    "### Functions been created to do the job"
   ]
  },
  {
   "cell_type": "code",
   "execution_count": 16,
   "metadata": {},
   "outputs": [],
   "source": [
    "import turtle\n",
    "\n",
    "# This is the draw square function should define by you\n",
    "# Since turtle does not provide the draw square function, unlike circle\n",
    "def draw_square(side_len):\n",
    "    for i in range(4):\n",
    "        turtle.forward(side_len)\n",
    "        turtle.left(90)"
   ]
  },
  {
   "cell_type": "code",
   "execution_count": 20,
   "metadata": {},
   "outputs": [],
   "source": [
    "import turtle\n",
    "\n",
    "# The square bullseye function similar to circle bullseye\n",
    "def square_bullseye(side_len):\n",
    "    if side_len <= 0:\n",
    "        pass\n",
    "    else:\n",
    "        # Run the draw square function defined by yourself here\n",
    "        # Caution: there is no turtle.square()!!!\n",
    "        # Since circle function if provided by turtle\n",
    "        # So you can have something like this for drawing a circle: turtle.circle(radius)\n",
    "        # However, for draw a square, we defined by ourself above, so we call the function here\n",
    "        draw_square(side_len)\n",
    "        \n",
    "        # Move the pen to a new start point\n",
    "        turtle.forward(20)\n",
    "        turtle.left(90)\n",
    "        turtle.up() # This means your pen is up, which means leave the canvas\n",
    "        turtle.forward(20) # So this move forward will not draw, just pen move\n",
    "        turtle.down() # This means your pen is down to the canvas\n",
    "        turtle.right(90)\n",
    "        \n",
    "        # Call the function recursively and reduced the side length\n",
    "        square_bullseye(side_len-40)"
   ]
  },
  {
   "cell_type": "markdown",
   "metadata": {},
   "source": [
    "### Run the function\n",
    "\n",
    "The code below is just for run the `square_bullseye()` function."
   ]
  },
  {
   "cell_type": "code",
   "execution_count": 19,
   "metadata": {},
   "outputs": [],
   "source": [
    "import importlib\n",
    "\n",
    "# Reset the Turtle library in every run\n",
    "importlib.reload(turtle)\n",
    "\n",
    "# Prepare a window\n",
    "canvas = turtle.Screen()\n",
    "canvas.bgcolor(\"black\")\n",
    "canvas.title(\"Draw Bullseye\")\n",
    "\n",
    "# Set pen color and drawing speed\n",
    "turtle.speed(1)\n",
    "turtle.color(\"white\")\n",
    "\n",
    "# Run the function\n",
    "# draw_square(300)\n",
    "square_bullseye(200)\n",
    "\n",
    "# Wait for user to close window\n",
    "# This is similar to canvas.exitonclick()\n",
    "# The only differnce is, the code below, you need to click the 'X' button to close the window\n",
    "# canvas.exitonclick() can click anywhere of the window to close it\n",
    "canvas.mainloop()"
   ]
  },
  {
   "cell_type": "markdown",
   "metadata": {},
   "source": [
    "### Other Examples"
   ]
  },
  {
   "cell_type": "code",
   "execution_count": 80,
   "metadata": {},
   "outputs": [
    {
     "name": "stdout",
     "output_type": "stream",
     "text": [
      "15\n"
     ]
    }
   ],
   "source": [
    "def sum_nums( num ):\n",
    "    res = 0\n",
    "    for i in range(1, num+1):\n",
    "        res += i\n",
    "    print(res)\n",
    "\n",
    "sum_nums(5)"
   ]
  },
  {
   "cell_type": "code",
   "execution_count": 91,
   "metadata": {},
   "outputs": [
    {
     "name": "stdout",
     "output_type": "stream",
     "text": [
      "15\n"
     ]
    }
   ],
   "source": [
    "def sum_nums(num):\n",
    "    if num <= 0:\n",
    "        return 0\n",
    "    else:\n",
    "        return num + sum_nums(num-1)\n",
    "\n",
    "# f(5) = f(4) + 5\n",
    "# f(4) = f(3) + 4\n",
    "# f(3) = f(2) + 3\n",
    "# f(2) = f(1) + 2\n",
    "# f(1) = f(0) + 1\n",
    "# f(0) = 0\n",
    "\n",
    "print(sum_nums(5))"
   ]
  },
  {
   "cell_type": "code",
   "execution_count": 92,
   "metadata": {},
   "outputs": [
    {
     "name": "stdout",
     "output_type": "stream",
     "text": [
      "24\n"
     ]
    }
   ],
   "source": [
    "# factorial(x) = factorial(x-1) * x\n",
    "\n",
    "def factorial(num):\n",
    "    if num <= 1:\n",
    "        return 1\n",
    "    else:\n",
    "        return num * factorial(num-1)\n",
    "\n",
    "print(factorial(4))"
   ]
  },
  {
   "cell_type": "code",
   "execution_count": null,
   "metadata": {},
   "outputs": [],
   "source": []
  }
 ],
 "metadata": {
  "kernelspec": {
   "display_name": "Python 3",
   "language": "python",
   "name": "python3"
  },
  "language_info": {
   "codemirror_mode": {
    "name": "ipython",
    "version": 3
   },
   "file_extension": ".py",
   "mimetype": "text/x-python",
   "name": "python",
   "nbconvert_exporter": "python",
   "pygments_lexer": "ipython3",
   "version": "3.7.4"
  }
 },
 "nbformat": 4,
 "nbformat_minor": 2
}
