{
 "cells": [
  {
   "cell_type": "code",
   "execution_count": 20,
   "metadata": {},
   "outputs": [
    {
     "name": "stdout",
     "output_type": "stream",
     "text": [
      "1 h\n",
      "2 he\n",
      "3 hel\n",
      "4 hell\n",
      "5 hello\n",
      "6 hellox\n",
      "7 e\n",
      "8 el\n",
      "9 ell\n",
      "10 ello\n",
      "11 ellox\n",
      "12 l\n",
      "13 ll\n",
      "14 llo\n",
      "15 llox\n",
      "16 l\n",
      "17 lo\n",
      "18 lox\n",
      "19 o\n",
      "20 ox\n",
      "21 x\n"
     ]
    }
   ],
   "source": [
    "astr = \"hellox\"\n",
    "idx = 1\n",
    "for i in range(len(astr)):\n",
    "    for j in range(i+1, len(astr)+1):\n",
    "        print(idx, astr[i:j])\n",
    "        idx += 1"
   ]
  },
  {
   "cell_type": "code",
   "execution_count": 19,
   "metadata": {},
   "outputs": [
    {
     "data": {
      "text/plain": [
       "21"
      ]
     },
     "execution_count": 19,
     "metadata": {},
     "output_type": "execute_result"
    }
   ],
   "source": [
    "def get_ans(n):\n",
    "    return (n+1)*n//2\n",
    "\n",
    "get_ans(6)"
   ]
  },
  {
   "cell_type": "code",
   "execution_count": 17,
   "metadata": {},
   "outputs": [
    {
     "name": "stdout",
     "output_type": "stream",
     "text": [
      "1 abc\n",
      "2 acb\n",
      "3 bac\n",
      "4 bca\n",
      "5 cab\n",
      "6 cba\n"
     ]
    }
   ],
   "source": [
    "cnt = 0\n",
    "\n",
    "def permutation(str_in, prefix):\n",
    "    global cnt\n",
    "    if len(str_in) == 0:\n",
    "        cnt += 1\n",
    "        print(cnt, prefix)\n",
    "    else:\n",
    "        for i in range(len(str_in)):\n",
    "            rem = str_in[:i] + str_in[i+1:]\n",
    "            # print('Rem ->', rem)\n",
    "            permutation(rem, prefix+str_in[i])\n",
    "\n",
    "def run_permutation(str_in):\n",
    "    permutation(str_in, '')\n",
    "\n",
    "run_permutation('abc')"
   ]
  },
  {
   "cell_type": "code",
   "execution_count": 11,
   "metadata": {},
   "outputs": [
    {
     "name": "stdout",
     "output_type": "stream",
     "text": [
      "0 a _bc\n",
      "1 b a_c\n",
      "2 c ab_\n",
      "[] <class 'list'> 0\n",
      " <class 'str'> 0\n"
     ]
    }
   ],
   "source": [
    "a_str = 'abc'\n",
    "for i in range(len(a_str)):\n",
    "    rem = a_str[:i] + '_' + a_str[i+1:]\n",
    "    print(i, a_str[i], rem)\n",
    "\n",
    "abc = [1, 2, 3]\n",
    "x = abc[3:]\n",
    "print(x, type(x), len(x))\n",
    "\n",
    "xyz = '123'\n",
    "x = xyz[3:]\n",
    "print(x, type(x), len(x))"
   ]
  },
  {
   "cell_type": "code",
   "execution_count": 16,
   "metadata": {},
   "outputs": [
    {
     "name": "stdout",
     "output_type": "stream",
     "text": [
      "['abc', 'acb', 'bac', 'bca', 'cab', 'cba']\n",
      "6\n"
     ]
    }
   ],
   "source": [
    "def permutation_iter(a_str):\n",
    "    res = ['']\n",
    "    queue = []\n",
    "    \n",
    "    if len(a_str) > 0:\n",
    "        queue.append(a_str)\n",
    "    \n",
    "    while len(queue) > 0:\n",
    "        buff = queue.pop(0)\n",
    "        prefix = res.pop(0)\n",
    "\n",
    "        for i in range(len(buff)):    \n",
    "            rem = buff[:i] + buff[i+1:]\n",
    "            res.append(prefix + buff[i])\n",
    "            \n",
    "            if len(rem) > 0:\n",
    "                queue.append(rem)\n",
    "    \n",
    "    return res\n",
    "\n",
    "a_str = 'abc'\n",
    "res = permutation_iter(a_str)\n",
    "print(res)\n",
    "print(len(res))"
   ]
  },
  {
   "cell_type": "code",
   "execution_count": 24,
   "metadata": {},
   "outputs": [
    {
     "data": {
      "text/plain": [
       "120"
      ]
     },
     "execution_count": 24,
     "metadata": {},
     "output_type": "execute_result"
    }
   ],
   "source": [
    "import math\n",
    "math.factorial(5)"
   ]
  },
  {
   "cell_type": "code",
   "execution_count": 15,
   "metadata": {},
   "outputs": [
    {
     "name": "stdout",
     "output_type": "stream",
     "text": [
      "[[1, 2, 3, 4], [1, 2, 4, 3], [1, 3, 2, 4], [1, 3, 4, 2], [1, 4, 2, 3], [1, 4, 3, 2], [2, 1, 3, 4], [2, 1, 4, 3], [2, 3, 1, 4], [2, 3, 4, 1], [2, 4, 1, 3], [2, 4, 3, 1], [3, 1, 2, 4], [3, 1, 4, 2], [3, 2, 1, 4], [3, 2, 4, 1], [3, 4, 1, 2], [3, 4, 2, 1], [4, 1, 2, 3], [4, 1, 3, 2], [4, 2, 1, 3], [4, 2, 3, 1], [4, 3, 1, 2], [4, 3, 2, 1]]\n",
      "24\n"
     ]
    }
   ],
   "source": [
    "def permutation_num_list(nums):\n",
    "    res = [[]]\n",
    "    queue = []\n",
    "\n",
    "    if len(nums) > 0:\n",
    "        queue.append(nums)\n",
    "\n",
    "    while len(queue) > 0:\n",
    "        buff = queue.pop(0)\n",
    "        prefix = res.pop(0)\n",
    "\n",
    "        for i in range(len(buff)):\n",
    "            rem = buff[:i] + buff[i+1:]\n",
    "\n",
    "            if len(rem) > 0:\n",
    "                queue.append(rem)\n",
    "                \n",
    "                temp = prefix.copy()\n",
    "                temp.append(buff[i])\n",
    "                res.append(temp)\n",
    "            else:\n",
    "                prefix.append(buff[i])\n",
    "                res.append(prefix)\n",
    "                \n",
    "    return res\n",
    "\n",
    "a_list = [1, 2, 3, 4]\n",
    "res = permutation_num_list(a_list)\n",
    "print(res)\n",
    "print(len(res))"
   ]
  },
  {
   "cell_type": "code",
   "execution_count": 32,
   "metadata": {},
   "outputs": [
    {
     "name": "stdout",
     "output_type": "stream",
     "text": [
      "1 \t []\n",
      "2 \t ['C']\n",
      "3 \t ['B']\n",
      "4 \t ['B', 'C']\n",
      "5 \t ['A']\n",
      "6 \t ['A', 'C']\n",
      "7 \t ['A', 'B']\n",
      "8 \t ['A', 'B', 'C']\n"
     ]
    }
   ],
   "source": [
    "values = 'ABC'\n",
    "queue = [[]]\n",
    "\n",
    "for i in range(len(values)):\n",
    "    # target1 = None\n",
    "    # target2 = values[i]\n",
    "    \n",
    "    for _ in range(2**i):\n",
    "        buf = queue.pop(0)\n",
    "\n",
    "        buf1 = buf.copy()\n",
    "        buf2 = buf.copy()\n",
    "\n",
    "        # buf1.append(target1)\n",
    "        buf2.append(values[i])\n",
    "        \n",
    "        queue.append(buf1)\n",
    "        queue.append(buf2)\n",
    "        \n",
    "idx = 0\n",
    "for q in queue:\n",
    "    idx += 1\n",
    "    print(idx, '\\t', q)"
   ]
  },
  {
   "cell_type": "code",
   "execution_count": 42,
   "metadata": {},
   "outputs": [
    {
     "name": "stdout",
     "output_type": "stream",
     "text": [
      "0 1\n",
      "1 2\n",
      "2 4\n",
      "3 8\n",
      "4 16\n"
     ]
    }
   ],
   "source": [
    "for i in range(4+1):\n",
    "    print(i, 2**i)"
   ]
  },
  {
   "cell_type": "code",
   "execution_count": 7,
   "metadata": {},
   "outputs": [
    {
     "name": "stdout",
     "output_type": "stream",
     "text": [
      "[None, None, None, None]\n",
      "[None, None, None, 4]\n",
      "[None, None, 3, None]\n",
      "[None, None, 3, 4]\n",
      "[None, 2, None, None]\n",
      "[None, 2, None, 4]\n",
      "[None, 2, 3, None]\n",
      "[None, 2, 3, 4]\n",
      "[1, None, None, None]\n",
      "[1, None, None, 4]\n",
      "[1, None, 3, None]\n",
      "[1, None, 3, 4]\n",
      "[1, 2, None, None]\n",
      "[1, 2, None, 4]\n",
      "[1, 2, 3, None]\n",
      "[1, 2, 3, 4]\n",
      "Notes:  [1, 2, 3, 4] 4\n"
     ]
    }
   ],
   "source": [
    "def helper(in_arr, subset, i):\n",
    "    if i == len(in_arr):\n",
    "        print(subset)\n",
    "    else:\n",
    "        subset[i] = None\n",
    "        helper(in_arr, subset, i+1)\n",
    "        subset[i] = in_arr[i]\n",
    "        helper(in_arr, subset, i+1)\n",
    "\n",
    "def print_all_subsets(in_arr):\n",
    "    subset = [None] * len(in_arr)\n",
    "    helper(in_arr, subset, 0)\n",
    "\n",
    "in_arr = [1, 2, 3, 4]\n",
    "print_all_subsets(in_arr)\n",
    "print('Notes: ', in_arr, len(in_arr))"
   ]
  },
  {
   "cell_type": "code",
   "execution_count": 44,
   "metadata": {},
   "outputs": [
    {
     "name": "stdout",
     "output_type": "stream",
     "text": [
      "[1, 2, 90]\n"
     ]
    }
   ],
   "source": [
    "def check(subset, i):\n",
    "    subset[i] = 90\n",
    "\n",
    "arr = [1, 2, 3]\n",
    "check(arr, 2)\n",
    "print(arr)"
   ]
  },
  {
   "cell_type": "code",
   "execution_count": 31,
   "metadata": {},
   "outputs": [
    {
     "name": "stdout",
     "output_type": "stream",
     "text": [
      "1 \t a13423b1sc\n",
      "2 \t a13423b1sC\n",
      "3 \t a13423b1Sc\n",
      "4 \t a13423b1SC\n",
      "5 \t a13423B1sc\n",
      "6 \t a13423B1sC\n",
      "7 \t a13423B1Sc\n",
      "8 \t a13423B1SC\n",
      "9 \t A13423b1sc\n",
      "10 \t A13423b1sC\n",
      "11 \t A13423b1Sc\n",
      "12 \t A13423b1SC\n",
      "13 \t A13423B1sc\n",
      "14 \t A13423B1sC\n",
      "15 \t A13423B1Sc\n",
      "16 \t A13423B1SC\n"
     ]
    }
   ],
   "source": [
    "values = 'a13423b1sc'\n",
    "values = list(values)\n",
    "queue = [[]]\n",
    "\n",
    "cnt = 0\n",
    "for i in range(len(values)):\n",
    "    target = values[i]\n",
    "    if target.isalpha():\n",
    "        for _ in range(2**cnt):\n",
    "            buf = queue.pop(0)\n",
    "            \n",
    "            buf1 = buf.copy()\n",
    "            buf2 = buf.copy()\n",
    "\n",
    "            buf1.append(target.lower())\n",
    "            buf2.append(target.upper())\n",
    "\n",
    "            queue.append(buf1)\n",
    "            queue.append(buf2)\n",
    "        cnt += 1\n",
    "    else:\n",
    "        for q in queue:\n",
    "            q.append(target)\n",
    "        \n",
    "idx = 0\n",
    "for q in queue:\n",
    "    idx += 1\n",
    "    print(idx, '\\t', ''.join(q))"
   ]
  },
  {
   "cell_type": "code",
   "execution_count": 27,
   "metadata": {},
   "outputs": [
    {
     "name": "stdout",
     "output_type": "stream",
     "text": [
      "False\n",
      "['3', '1', '3', 'a', 'b', 'd']\n",
      "313abd\n"
     ]
    }
   ],
   "source": [
    "a = '113abd'\n",
    "print(a.isalpha())\n",
    "i = list(a)\n",
    "i[0] = str(3)\n",
    "print(i)\n",
    "print(''.join(i))"
   ]
  },
  {
   "cell_type": "code",
   "execution_count": 34,
   "metadata": {},
   "outputs": [
    {
     "name": "stdout",
     "output_type": "stream",
     "text": [
      "1 \t abc\n",
      "2 \t abC\n",
      "3 \t aBc\n",
      "4 \t aBC\n",
      "5 \t Abc\n",
      "6 \t AbC\n",
      "7 \t ABc\n",
      "8 \t ABC\n"
     ]
    }
   ],
   "source": [
    "values = 'ABC'\n",
    "queue = ['']\n",
    "\n",
    "for v in values:\n",
    "    temp = []\n",
    "    for q in queue:\n",
    "        temp.append(q+v.lower())\n",
    "        temp.append(q+v.upper())\n",
    "    queue = temp\n",
    "        \n",
    "idx = 0\n",
    "for q in queue:\n",
    "    idx += 1\n",
    "    print(idx, '\\t', q)"
   ]
  },
  {
   "cell_type": "code",
   "execution_count": 38,
   "metadata": {},
   "outputs": [
    {
     "name": "stdout",
     "output_type": "stream",
     "text": [
      "1 \t []\n",
      "2 \t ['C']\n",
      "3 \t ['B']\n",
      "4 \t ['B', 'C']\n",
      "5 \t ['A']\n",
      "6 \t ['A', 'C']\n",
      "7 \t ['A', 'B']\n",
      "8 \t ['A', 'B', 'C']\n"
     ]
    }
   ],
   "source": [
    "values = 'ABC'\n",
    "# values = [-1, 2, 3]\n",
    "queue = [[]]\n",
    "\n",
    "for v in values:\n",
    "    temp = []\n",
    "    for q in queue:\n",
    "        # add nothing\n",
    "        q1 = q.copy()\n",
    "        \n",
    "        # add the char\n",
    "        q2 = q.copy()\n",
    "        q2.append(v)\n",
    "        \n",
    "        temp.append(q1)\n",
    "        temp.append(q2)\n",
    "    \n",
    "    queue = temp\n",
    "         \n",
    "idx = 0\n",
    "for q in queue:\n",
    "    idx += 1\n",
    "    print(idx, '\\t', q)"
   ]
  },
  {
   "cell_type": "code",
   "execution_count": null,
   "metadata": {},
   "outputs": [],
   "source": []
  }
 ],
 "metadata": {
  "kernelspec": {
   "display_name": "Python 3",
   "language": "python",
   "name": "python3"
  },
  "language_info": {
   "codemirror_mode": {
    "name": "ipython",
    "version": 3
   },
   "file_extension": ".py",
   "mimetype": "text/x-python",
   "name": "python",
   "nbconvert_exporter": "python",
   "pygments_lexer": "ipython3",
   "version": "3.7.0"
  }
 },
 "nbformat": 4,
 "nbformat_minor": 2
}
