{
 "cells": [
  {
   "cell_type": "markdown",
   "metadata": {},
   "source": [
    "# Introduction"
   ]
  },
  {
   "cell_type": "markdown",
   "metadata": {},
   "source": [
    "In this lesson you will convert some basic recursive Python code to iteration. \n",
    "Some using just numbers, others drawing Turtle pictures."
   ]
  },
  {
   "cell_type": "markdown",
   "metadata": {},
   "source": [
    "# Python `while` Loops - Indefinite Iteration"
   ]
  },
  {
   "cell_type": "markdown",
   "metadata": {},
   "source": [
    "### 1. Review - Python `for` loops\n",
    "\n",
    "A for loop will \"do\" something to everything which you wish to iterate through.\n",
    "\n",
    "A for loop is usually used to perform __definite iteration__. \n",
    "\n",
    "With __definite iteration__, the number of times the designated block will be executed is specified explicitly at the time the loop starts."
   ]
  },
  {
   "cell_type": "code",
   "execution_count": 17,
   "metadata": {},
   "outputs": [
    {
     "name": "stdout",
     "output_type": "stream",
     "text": [
      "Hello world!\n",
      "Hello world!\n",
      "Hello world!\n",
      "Hello world!\n",
      "Hello world!\n"
     ]
    }
   ],
   "source": [
    "for i in range(5):\n",
    "    print('Hello world!')"
   ]
  },
  {
   "cell_type": "code",
   "execution_count": 8,
   "metadata": {},
   "outputs": [
    {
     "name": "stdout",
     "output_type": "stream",
     "text": [
      "The value of i is: 2\n",
      "The value of i is: 3\n",
      "The value of i is: 4\n",
      "The value of i is: 5\n",
      "The value of i is: 6\n"
     ]
    }
   ],
   "source": [
    "for i in range(2, 7):\n",
    "    print('The value of i is:', i)"
   ]
  },
  {
   "cell_type": "markdown",
   "metadata": {},
   "source": [
    "### 2. Python `while` loops\n",
    "\n",
    "A while loop will \"do\" something as long as or until a condition is met.\n",
    "\n",
    "A while loop is usually used to perform __indefinite iteration__. \n",
    "\n",
    "With __indefinite iteration__, the number of times the loop is executed isn't specified explicitly in advance. Rather, the designated block is executed repeatedly as long as some condition is met."
   ]
  },
  {
   "cell_type": "raw",
   "metadata": {},
   "source": [
    "while condition:\n",
    "    do something\n",
    "    change something"
   ]
  },
  {
   "cell_type": "markdown",
   "metadata": {},
   "source": [
    "Example 1:"
   ]
  },
  {
   "cell_type": "code",
   "execution_count": 14,
   "metadata": {},
   "outputs": [
    {
     "name": "stdout",
     "output_type": "stream",
     "text": [
      "5\n",
      "4\n",
      "3\n",
      "2\n",
      "1\n",
      "0\n"
     ]
    }
   ],
   "source": [
    "n = 5\n",
    "# As long as the condition statement is True\n",
    "while n >= 0:\n",
    "    # do something\n",
    "    print(n)\n",
    "    \n",
    "    # change something\n",
    "    n -= 1"
   ]
  },
  {
   "cell_type": "markdown",
   "metadata": {},
   "source": [
    "Example 2:"
   ]
  },
  {
   "cell_type": "code",
   "execution_count": 15,
   "metadata": {},
   "outputs": [
    {
     "name": "stdout",
     "output_type": "stream",
     "text": [
      "5\n",
      "4\n",
      "3\n",
      "2\n",
      "1\n",
      "0\n"
     ]
    }
   ],
   "source": [
    "n = 5\n",
    "# As long as the condition statement is True\n",
    "while True:\n",
    "    # do something\n",
    "    print(n)\n",
    "    \n",
    "    if n <= 0:\n",
    "        break\n",
    "    \n",
    "    # change something\n",
    "    n -= 1"
   ]
  },
  {
   "cell_type": "markdown",
   "metadata": {},
   "source": [
    "# Basic Recursion to Iteration"
   ]
  },
  {
   "cell_type": "markdown",
   "metadata": {},
   "source": [
    "### 1. Review - A count down recursive function"
   ]
  },
  {
   "cell_type": "code",
   "execution_count": 18,
   "metadata": {},
   "outputs": [
    {
     "name": "stdout",
     "output_type": "stream",
     "text": [
      "5\n",
      "4\n",
      "3\n",
      "2\n",
      "1\n",
      "0\n"
     ]
    }
   ],
   "source": [
    "def count_down(number):\n",
    "    if number <= -1:\n",
    "        pass\n",
    "    else:\n",
    "        print(number)\n",
    "        count_down(number-1)\n",
    "        \n",
    "count_down(5)"
   ]
  },
  {
   "cell_type": "markdown",
   "metadata": {},
   "source": [
    "### 2. Patterns in recursive function\n",
    "\n",
    "The function above is recursive. In particular it is `tail recursive`. \n",
    "We now want to convert it to iteration using a while loop.\n",
    "\n",
    "There is a pattern to do this. We need to identify a few parts:\n",
    "* base case(s)"
   ]
  },
  {
   "cell_type": "raw",
   "metadata": {},
   "source": [
    "if number <= -1:\n",
    "    pass"
   ]
  },
  {
   "cell_type": "markdown",
   "metadata": {},
   "source": [
    "* repeating part"
   ]
  },
  {
   "cell_type": "raw",
   "metadata": {},
   "source": [
    "print(number)"
   ]
  },
  {
   "cell_type": "markdown",
   "metadata": {},
   "source": [
    "* recursive call and parameter changes"
   ]
  },
  {
   "cell_type": "raw",
   "metadata": {},
   "source": [
    "count_down(number-1)"
   ]
  },
  {
   "cell_type": "markdown",
   "metadata": {},
   "source": [
    "### 3. Convert recursion to iteration\n",
    "\n",
    "The easiest way to convert recursion to iteration is using a while true loop. The loop replaces the recursive call."
   ]
  },
  {
   "cell_type": "raw",
   "metadata": {},
   "source": [
    "def count_down_iter(params):\n",
    "    while True:\n",
    "        # base case to break out of loop\n",
    "        \n",
    "        # code to repeat\n",
    "        \n",
    "        # changing part between recursive calls"
   ]
  },
  {
   "cell_type": "markdown",
   "metadata": {},
   "source": [
    "__Step 1:__"
   ]
  },
  {
   "cell_type": "code",
   "execution_count": 3,
   "metadata": {},
   "outputs": [],
   "source": [
    "def count_down_iter(number):\n",
    "    while True:\n",
    "        if number <= -1:\n",
    "            print('<End>')\n",
    "            pass\n",
    "        else:\n",
    "            print(number)\n",
    "            # Remove the recursion call: count_down(number-1)\n",
    "            number -= 1\n",
    "\n",
    "# count_down_iter(5)"
   ]
  },
  {
   "cell_type": "markdown",
   "metadata": {},
   "source": [
    "__Step 2:__"
   ]
  },
  {
   "cell_type": "code",
   "execution_count": 9,
   "metadata": {},
   "outputs": [
    {
     "name": "stdout",
     "output_type": "stream",
     "text": [
      "5\n",
      "4\n",
      "3\n",
      "2\n",
      "1\n",
      "0\n"
     ]
    }
   ],
   "source": [
    "def count_down_iter(number):\n",
    "    while number > -1:\n",
    "        print(number)\n",
    "        number -= 1\n",
    "\n",
    "count_down_iter(5)"
   ]
  },
  {
   "cell_type": "code",
   "execution_count": 10,
   "metadata": {},
   "outputs": [],
   "source": [
    "import turtle\n",
    "\n",
    "def bulls_eye(radius):\n",
    "    if radius <= 0:\n",
    "        pass\n",
    "    else:  \n",
    "        turtle.circle(radius)\n",
    "\n",
    "        # move to new start location\n",
    "        turtle.left(90)\n",
    "        turtle.up()\n",
    "        turtle.forward(20)\n",
    "        turtle.down()\n",
    "        turtle.right(90)\n",
    "\n",
    "        bulls_eye(radius-20)\n",
    "\n",
    "        \n",
    "def bulls_eye_iter(radius):\n",
    "    while radius > 0:\n",
    "        \n",
    "        turtle.circle(radius)\n",
    "\n",
    "        # move to new start location\n",
    "        turtle.left(90)\n",
    "        turtle.up()\n",
    "        turtle.forward(20)\n",
    "        turtle.down()\n",
    "        turtle.right(90)\n",
    "\n",
    "        radius -= 20\n",
    "\n"
   ]
  },
  {
   "cell_type": "code",
   "execution_count": 11,
   "metadata": {},
   "outputs": [],
   "source": [
    "import importlib\n",
    "\n",
    "# Reset the Turtle library in every run\n",
    "importlib.reload(turtle)\n",
    "\n",
    "# Prepare a window\n",
    "canvas = turtle.Screen()\n",
    "canvas.bgcolor(\"black\")\n",
    "canvas.title(\"Draw Bullseye\")\n",
    "\n",
    "# Set pen color and drawing speed\n",
    "turtle.speed(10)\n",
    "turtle.color(\"white\")\n",
    "\n",
    "# Run the function\n",
    "bulls_eye_iter(200)\n",
    "\n",
    "# Wait for user to close window\n",
    "canvas.mainloop()"
   ]
  },
  {
   "cell_type": "code",
   "execution_count": null,
   "metadata": {},
   "outputs": [],
   "source": []
  }
 ],
 "metadata": {
  "kernelspec": {
   "display_name": "Python 3",
   "language": "python",
   "name": "python3"
  },
  "language_info": {
   "codemirror_mode": {
    "name": "ipython",
    "version": 3
   },
   "file_extension": ".py",
   "mimetype": "text/x-python",
   "name": "python",
   "nbconvert_exporter": "python",
   "pygments_lexer": "ipython3",
   "version": "3.7.4"
  }
 },
 "nbformat": 4,
 "nbformat_minor": 2
}
