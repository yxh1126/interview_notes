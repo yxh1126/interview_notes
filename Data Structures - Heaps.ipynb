{
 "cells": [
  {
   "cell_type": "code",
   "execution_count": 181,
   "metadata": {},
   "outputs": [],
   "source": [
    "class MinIntHeap:\n",
    "    def __init__(self, arr_in=None):\n",
    "        if arr_in is None:\n",
    "            self.__capacity = 10\n",
    "            self.__size = 0\n",
    "            self.__items = [None] * self.__capacity\n",
    "        else:\n",
    "            self.__capacity = len(arr_in)\n",
    "            self.__size = len(arr_in)\n",
    "            self.__items = arr_in.copy()\n",
    "            self.__build_heap()\n",
    "    \n",
    "    # Compute the index\n",
    "    def __get_left_child_idx(self, parent_idx):\n",
    "        return 2 * parent_idx + 1\n",
    "    \n",
    "    def __get_right_child_idx(self, parent_idx):\n",
    "        return 2 * parent_idx + 2\n",
    "    \n",
    "    def __get_parent_idx(self, child_idx):\n",
    "        return (child_idx - 1) // 2\n",
    "    \n",
    "    # Check availability\n",
    "    def __has_left_child(self, idx):\n",
    "        return self.__get_left_child_idx(idx) < self.__size\n",
    "    \n",
    "    def __has_right_child(self, idx):\n",
    "        return self.__get_right_child_idx(idx) < self.__size\n",
    "    \n",
    "    def __has_parent(self, idx):\n",
    "        return self.__get_parent_idx(idx) >= 0\n",
    "    \n",
    "    # Get the value\n",
    "    def __left_child(self, idx):\n",
    "        child_idx = self.__get_left_child_idx(idx)\n",
    "        return self.__items[child_idx]\n",
    "    \n",
    "    def __right_child(self, idx):\n",
    "        child_idx = self.__get_right_child_idx(idx)\n",
    "        return self.__items[child_idx]\n",
    "    \n",
    "    def __parent(self, idx):\n",
    "        parent_idx = self.__get_parent_idx(idx)\n",
    "        return self.__items[parent_idx]\n",
    "    \n",
    "    # Tool functions\n",
    "    def __swap(self, idx_one, idx_two):\n",
    "        temp = self.__items[idx_one]\n",
    "        self.__items[idx_one] = self.__items[idx_two]\n",
    "        self.__items[idx_two] = temp\n",
    "    \n",
    "    def __ensure_extra_capacity(self):\n",
    "        if self.__size == self.__capacity:\n",
    "            temp = self.__items\n",
    "            self.__items = [None] * self.__capacity * 2\n",
    "            self.__items[:self.__capacity] = temp\n",
    "            self.__capacity *= 2\n",
    "            # print(\"Capacity: \", self.__capacity)\n",
    "            # print(\"Items: \", self.__items)\n",
    "    \n",
    "    # Core functions\n",
    "    def __heapify_down(self, start_idx=0):\n",
    "        # Starting from the head of the array\n",
    "        idx = start_idx\n",
    "        \n",
    "        # If there is no left child, not even need to check right child\n",
    "        while self.__has_left_child(idx):\n",
    "            smaller_child_idx = self.__get_left_child_idx(idx)\n",
    "            \n",
    "            # If there is a right child, and the right child is smaller\n",
    "            # than the left child, then update the smaller child index\n",
    "            if self.__has_right_child(idx):\n",
    "                if self.__right_child(idx) < self.__left_child(idx):\n",
    "                    smaller_child_idx = self.__get_right_child_idx(idx)\n",
    "            \n",
    "            # Compare the parent value with the smaller child\n",
    "            if self.__items[idx] < self.__items[smaller_child_idx]:\n",
    "                # End the while loop\n",
    "                break\n",
    "            else:\n",
    "                self.__swap(idx, smaller_child_idx)\n",
    "                idx = smaller_child_idx\n",
    "    \n",
    "    def __heapify_up(self):\n",
    "        idx = self.__size - 1\n",
    "        while self.__has_parent(idx):\n",
    "            if self.__parent(idx) > self.__items[idx]:\n",
    "                parent_idx = self.__get_parent_idx(idx)\n",
    "                self.__swap(parent_idx, idx)\n",
    "                idx = parent_idx\n",
    "            else:\n",
    "                break\n",
    "    \n",
    "    def __build_heap(self):\n",
    "        last_parent = self.__size // 2 - 1\n",
    "        for i in range(last_parent, -1, -1):\n",
    "            self.__heapify_down(i)\n",
    "    \n",
    "    # Public functions\n",
    "    def is_empty(self):\n",
    "        if self.__size > 0:\n",
    "            return False\n",
    "        else:\n",
    "            return True\n",
    "    \n",
    "    def get_heap_size(self):\n",
    "        return self.__size\n",
    "    \n",
    "    def get_peek(self):\n",
    "        if self.__size == 0:\n",
    "            return None\n",
    "        else:\n",
    "            return self.__items[0]\n",
    "        \n",
    "    def poll_value(self):\n",
    "        if self.__size == 0:\n",
    "            return None\n",
    "        else:\n",
    "            item = self.__items[0]\n",
    "            \n",
    "            # Copy the last element to index 0\n",
    "            self.__items[0] = self.__items[self.__size-1]\n",
    "            self.__size -= 1\n",
    "            \n",
    "            # Heapify Down\n",
    "            self.__heapify_down()\n",
    "            \n",
    "            return item\n",
    "    \n",
    "    def add_value(self, item):\n",
    "        # Expand the heap size in case the capacity is not enough\n",
    "        self.__ensure_extra_capacity()\n",
    "        \n",
    "        # Added to the end of the array\n",
    "        self.__items[self.__size] = item\n",
    "        self.__size += 1\n",
    "        # print(self.__size)\n",
    "        \n",
    "        # Heapify Up\n",
    "        self.__heapify_up()"
   ]
  },
  {
   "cell_type": "code",
   "execution_count": 182,
   "metadata": {},
   "outputs": [
    {
     "name": "stdout",
     "output_type": "stream",
     "text": [
      "Array size: 10\n",
      "[164, 217, 95, 6, 288, 36, 115, 231, 388, 414]\n"
     ]
    }
   ],
   "source": [
    "import random\n",
    "\n",
    "size = random.randint(1, 20)\n",
    "print('Array size:', size)\n",
    "\n",
    "arr = []\n",
    "for _ in range(size):\n",
    "    arr.append(random.randint(1, 500))\n",
    "\n",
    "print(arr)"
   ]
  },
  {
   "cell_type": "code",
   "execution_count": 183,
   "metadata": {},
   "outputs": [
    {
     "name": "stdout",
     "output_type": "stream",
     "text": [
      "6 36 95 115 164 217 231 288 388 414 \n"
     ]
    }
   ],
   "source": [
    "m_heap = MinIntHeap()\n",
    "\n",
    "for v in arr:\n",
    "    m_heap.add_value(v)\n",
    "\n",
    "while not m_heap.is_empty():\n",
    "    print(m_heap.poll_value(), end=' ')\n",
    "print()"
   ]
  },
  {
   "cell_type": "code",
   "execution_count": 184,
   "metadata": {},
   "outputs": [
    {
     "name": "stdout",
     "output_type": "stream",
     "text": [
      "[164, 217, 95, 6, 288, 36, 115, 231, 388, 414]\n"
     ]
    }
   ],
   "source": [
    "print(arr)"
   ]
  },
  {
   "cell_type": "code",
   "execution_count": 185,
   "metadata": {},
   "outputs": [
    {
     "name": "stdout",
     "output_type": "stream",
     "text": [
      "1 6 36 95 115 164 200 217 231 288 388 414 \n"
     ]
    }
   ],
   "source": [
    "a_heap = MinIntHeap(arr)\n",
    "a_heap.add_value(1)\n",
    "a_heap.add_value(200)\n",
    "\n",
    "while True:\n",
    "    top = a_heap.poll_value()\n",
    "    if top is not None:\n",
    "        print(top, end=' ')\n",
    "    else:\n",
    "        break\n",
    "print()"
   ]
  },
  {
   "cell_type": "code",
   "execution_count": 186,
   "metadata": {},
   "outputs": [
    {
     "name": "stdout",
     "output_type": "stream",
     "text": [
      "10\n",
      "9\n",
      "8\n",
      "7\n",
      "6\n",
      "5\n",
      "4\n",
      "3\n",
      "2\n",
      "1\n",
      "0\n"
     ]
    }
   ],
   "source": [
    "for x in range(10, -1, -1):\n",
    "    print(x)"
   ]
  },
  {
   "cell_type": "code",
   "execution_count": 189,
   "metadata": {},
   "outputs": [
    {
     "data": {
      "text/plain": [
       "-1"
      ]
     },
     "execution_count": 189,
     "metadata": {},
     "output_type": "execute_result"
    }
   ],
   "source": [
    "-1 // 2"
   ]
  },
  {
   "cell_type": "code",
   "execution_count": null,
   "metadata": {},
   "outputs": [],
   "source": []
  }
 ],
 "metadata": {
  "kernelspec": {
   "display_name": "Python 3",
   "language": "python",
   "name": "python3"
  },
  "language_info": {
   "codemirror_mode": {
    "name": "ipython",
    "version": 3
   },
   "file_extension": ".py",
   "mimetype": "text/x-python",
   "name": "python",
   "nbconvert_exporter": "python",
   "pygments_lexer": "ipython3",
   "version": "3.7.0"
  }
 },
 "nbformat": 4,
 "nbformat_minor": 2
}
