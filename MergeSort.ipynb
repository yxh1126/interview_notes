{
 "cells": [
  {
   "cell_type": "code",
   "execution_count": 3,
   "metadata": {},
   "outputs": [
    {
     "name": "stdout",
     "output_type": "stream",
     "text": [
      "Array size: 13\n",
      "[116, 230, 196, 71, 368, 283, 67, 163, 299, 126, 132, 95, 16]\n"
     ]
    }
   ],
   "source": [
    "import random\n",
    "\n",
    "size = random.randint(1, 20)\n",
    "print('Array size:', size)\n",
    "\n",
    "arr = []\n",
    "\n",
    "for _ in range(size):\n",
    "    arr.append(random.randint(1, 500))\n",
    "\n",
    "print(arr)"
   ]
  },
  {
   "cell_type": "code",
   "execution_count": 11,
   "metadata": {},
   "outputs": [],
   "source": [
    "def split_arr(arr):\n",
    "#     print(arr)\n",
    "    \n",
    "    if len(arr) > 1:\n",
    "        m = len(arr)//2\n",
    "        lt = arr[:m]\n",
    "        rt = arr[m:]\n",
    "        \n",
    "        left = split_arr(lt)\n",
    "        right = split_arr(rt)\n",
    "        \n",
    "        merge = left + right\n",
    "        return merge\n",
    "        \n",
    "    else:\n",
    "#         pass\n",
    "#         print('return')\n",
    "        return arr\n",
    "        "
   ]
  },
  {
   "cell_type": "code",
   "execution_count": 8,
   "metadata": {},
   "outputs": [
    {
     "name": "stdout",
     "output_type": "stream",
     "text": [
      "[116, 230, 196, 71, 368, 283, 67, 163, 299, 126, 132, 95, 16]\n"
     ]
    }
   ],
   "source": [
    "res = split_arr(arr)\n",
    "print(res)"
   ]
  },
  {
   "cell_type": "code",
   "execution_count": 6,
   "metadata": {},
   "outputs": [],
   "source": [
    "def merge_array(lt, rt):\n",
    "    merge_list = []\n",
    "    i = j = 0\n",
    "    \n",
    "    while i < len(lt) and j < len(rt):\n",
    "        if lt[i] < rt[j]:\n",
    "            merge_list.append(lt[i])\n",
    "            i += 1\n",
    "        else:\n",
    "            merge_list.append(rt[j])\n",
    "            j += 1\n",
    "    \n",
    "    while i < len(lt):\n",
    "        merge_list.append(lt[i])\n",
    "        i += 1\n",
    "    \n",
    "    while j < len(rt):\n",
    "        merge_list.append(rt[j])\n",
    "        j += 1\n",
    "    \n",
    "    return merge_list"
   ]
  },
  {
   "cell_type": "code",
   "execution_count": 7,
   "metadata": {},
   "outputs": [
    {
     "name": "stdout",
     "output_type": "stream",
     "text": [
      "[71, 116, 196, 230, 283, 368]\n",
      "[16, 67, 95, 126, 132, 163, 299]\n",
      "[16, 67, 71, 95, 116, 126, 132, 163, 196, 230, 283, 299, 368]\n"
     ]
    }
   ],
   "source": [
    "mid = len(arr) // 2\n",
    "left = arr[:mid]\n",
    "right = arr[mid:]\n",
    "\n",
    "left.sort()\n",
    "right.sort()\n",
    "\n",
    "print(left)\n",
    "print(right)\n",
    "\n",
    "res = merge_array(left, right)\n",
    "print(res)"
   ]
  },
  {
   "cell_type": "code",
   "execution_count": 14,
   "metadata": {},
   "outputs": [],
   "source": [
    "def split_arr(arr):\n",
    "#     print(arr)\n",
    "    \n",
    "    if len(arr) > 1:\n",
    "        m = len(arr)//2\n",
    "        lt = arr[:m]\n",
    "        rt = arr[m:]\n",
    "        \n",
    "        left = split_arr(lt)\n",
    "        right = split_arr(rt)\n",
    "        \n",
    "#         merge = left + right\n",
    "        merge = merge_array(left, right)\n",
    "#         print(merge)\n",
    "        return merge\n",
    "        \n",
    "    else:\n",
    "#         pass\n",
    "#         print('return')\n",
    "        return arr"
   ]
  },
  {
   "cell_type": "code",
   "execution_count": 15,
   "metadata": {},
   "outputs": [
    {
     "name": "stdout",
     "output_type": "stream",
     "text": [
      "[16, 67, 71, 95, 116, 126, 132, 163, 196, 230, 283, 299, 368]\n"
     ]
    }
   ],
   "source": [
    "res = split_arr(arr)\n",
    "print(res)"
   ]
  },
  {
   "cell_type": "code",
   "execution_count": null,
   "metadata": {},
   "outputs": [],
   "source": []
  },
  {
   "cell_type": "code",
   "execution_count": 5,
   "metadata": {},
   "outputs": [],
   "source": [
    "import turtle\n",
    "wn = turtle.Screen()\n",
    "wn.bgcolor(\"lightgreen\")\n",
    "tess = turtle.Turtle()\n",
    "tess.shape(\"turtle\")\n",
    "tess.color(\"blue\")\n",
    "\n",
    "tess.penup()                # This is new\n",
    "size = 20\n",
    "for i in range(30):\n",
    "    tess.stamp()             # Leave an impression on the canvas\n",
    "    size = size + 3          # Increase the size on every iteration\n",
    "    tess.forward(size)       # Move tess along\n",
    "    tess.right(24)           #  ...  and turn her\n",
    "\n",
    "wn.mainloop()"
   ]
  },
  {
   "cell_type": "code",
   "execution_count": 2,
   "metadata": {},
   "outputs": [
    {
     "name": "stdout",
     "output_type": "stream",
     "text": [
      "Yes\n"
     ]
    }
   ],
   "source": [
    "a = [1,2 , 3, 4]\n",
    "\n",
    "b = 1\n",
    "\n",
    "a = 'hello'\n",
    "b = 'o'\n",
    "if b in a:\n",
    "    print('Yes')"
   ]
  },
  {
   "cell_type": "code",
   "execution_count": 8,
   "metadata": {},
   "outputs": [
    {
     "name": "stdout",
     "output_type": "stream",
     "text": [
      "[2, 3, 4, 6, 24, 32, 32, 34]\n"
     ]
    }
   ],
   "source": [
    "def quick_sort(input_arr):\n",
    "    if len(input_arr) <= 1:\n",
    "        return input_arr\n",
    "    \n",
    "    arr_len = len(input_arr)\n",
    "    pivot_idx = arr_len // 2\n",
    "    pivot = input_arr[pivot_idx]\n",
    "    \n",
    "    left = []\n",
    "    middle = []\n",
    "    right = []\n",
    "    \n",
    "    for num in input_arr:\n",
    "        if num == pivot:\n",
    "            middle.append(num)\n",
    "        # else if\n",
    "        elif num < pivot:\n",
    "            left.append(num)\n",
    "        else:\n",
    "            right.append(num)\n",
    "        \n",
    "    left_sort = quick_sort(left)\n",
    "    right_sort = quick_sort(right)\n",
    "    \n",
    "    return left_sort + middle + right_sort\n",
    "                \n",
    "    \n",
    "# Call the function here\n",
    "my_arr = [2, 4, 3, 32, 6, 24, 34, 32]\n",
    "sorted_arr = quick_sort(my_arr)\n",
    "\n",
    "# Print from samll to big\n",
    "print(sorted_arr)"
   ]
  },
  {
   "cell_type": "code",
   "execution_count": 5,
   "metadata": {},
   "outputs": [
    {
     "name": "stdout",
     "output_type": "stream",
     "text": [
      "[4]\n",
      "[4, 4]\n"
     ]
    }
   ],
   "source": [
    "a = []\n",
    "num = 4\n",
    "a.append(num)\n",
    "print(a)\n",
    "a.append(num)\n",
    "print(a)"
   ]
  },
  {
   "cell_type": "code",
   "execution_count": 1,
   "metadata": {},
   "outputs": [
    {
     "name": "stdout",
     "output_type": "stream",
     "text": [
      "[1, 2, 3, 4, 'abc', 3, 2, 32, 4.3]\n"
     ]
    }
   ],
   "source": [
    "a = [1, 2, 3, 4, 'abc']\n",
    "b = [3,2 ,32, 4.3]\n",
    "\n",
    "c = a + b\n",
    "print(c)"
   ]
  },
  {
   "cell_type": "code",
   "execution_count": 5,
   "metadata": {},
   "outputs": [
    {
     "name": "stdout",
     "output_type": "stream",
     "text": [
      "[1, 2, 100, 4, 'abc']\n"
     ]
    }
   ],
   "source": [
    "a[2] = 100\n",
    "print(a)"
   ]
  },
  {
   "cell_type": "code",
   "execution_count": 6,
   "metadata": {},
   "outputs": [
    {
     "name": "stdout",
     "output_type": "stream",
     "text": [
      "[1, 4, 9, 10, 35, 3, 45, 100, 104, 110, 200, 400, 500]\n"
     ]
    }
   ],
   "source": [
    "x = [1, 4, 9, 10, 35]\n",
    "y = [3, 45, 100, 104, 110, 200, 400, 500]\n",
    "\n",
    "# How can you merge the x, and y arry to be sigle sorted array?\n",
    "z = x + y\n",
    "print(z)"
   ]
  },
  {
   "cell_type": "code",
   "execution_count": null,
   "metadata": {},
   "outputs": [],
   "source": []
  }
 ],
 "metadata": {
  "kernelspec": {
   "display_name": "Python 3",
   "language": "python",
   "name": "python3"
  },
  "language_info": {
   "codemirror_mode": {
    "name": "ipython",
    "version": 3
   },
   "file_extension": ".py",
   "mimetype": "text/x-python",
   "name": "python",
   "nbconvert_exporter": "python",
   "pygments_lexer": "ipython3",
   "version": "3.7.0"
  }
 },
 "nbformat": 4,
 "nbformat_minor": 2
}
