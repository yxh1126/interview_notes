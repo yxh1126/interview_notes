{
 "cells": [
  {
   "cell_type": "markdown",
   "metadata": {},
   "source": [
    "# Python Recursion - Draw Sierpinski Triangle"
   ]
  },
  {
   "cell_type": "markdown",
   "metadata": {},
   "source": [
    "* Write a single recursive function called `tri_force()` that will draw the __Sierpinski Triangle__.\n",
    "* The function can take in only two parameters; the length of the side of the triangle and the depth of the recursion (in this order).\n",
    "* Each triangle is half the size of the one it is contained in."
   ]
  },
  {
   "cell_type": "markdown",
   "metadata": {},
   "source": [
    "### Step 1: Draw a single triangle"
   ]
  },
  {
   "cell_type": "code",
   "execution_count": 1,
   "metadata": {},
   "outputs": [],
   "source": [
    "import turtle\n",
    "\n",
    "def draw_triangle(length):\n",
    "    # Reset the turtle start direction\n",
    "    turtle.setheading(180)\n",
    "    # Repeat 3 times for each side\n",
    "    for _ in range(3):\n",
    "        turtle.right(120)\n",
    "        turtle.forward(length)"
   ]
  },
  {
   "cell_type": "markdown",
   "metadata": {},
   "source": [
    "### Step 2: Draw three triangles in an intuitive way\n",
    "\n",
    "It will render the same output as calling `tri_force()` at order `2`."
   ]
  },
  {
   "cell_type": "code",
   "execution_count": 2,
   "metadata": {},
   "outputs": [],
   "source": [
    "import turtle\n",
    "\n",
    "def draw_three_triangles(length):\n",
    "    # Draw the first triangle\n",
    "    draw_triangle(length)\n",
    "    \n",
    "    # Move to a new position and draw again\n",
    "    turtle.right(120)\n",
    "    turtle.forward(length)\n",
    "    draw_triangle(length)\n",
    "    \n",
    "    # Move to a new position and draw again\n",
    "    turtle.left(120)\n",
    "    turtle.forward(length)\n",
    "    draw_triangle(length)\n",
    "    \n",
    "    # Move the turtle back to the start point\n",
    "    turtle.forward(length)"
   ]
  },
  {
   "cell_type": "markdown",
   "metadata": {},
   "source": [
    "### Step 3: Draw three triangles in a recursive way\n",
    "\n",
    "Update the function at step 2, to let the `draw_triangle()` function called repeatly in the recursion.\n",
    "\n",
    "The valid value for the parameter `order` is only 1 and 2 at this step."
   ]
  },
  {
   "cell_type": "code",
   "execution_count": 3,
   "metadata": {},
   "outputs": [],
   "source": [
    "import turtle\n",
    "\n",
    "def draw_triangle_order_two(length, order=2):\n",
    "    if order == 1:\n",
    "        # Base case to draw each single triangle\n",
    "        draw_triangle(length)\n",
    "    else:\n",
    "        # Draw the triangle at order decreased by 1\n",
    "        draw_triangle_order_two(length, order-1)\n",
    "        \n",
    "        # Move to a new position and draw again\n",
    "        turtle.right(120)\n",
    "        turtle.forward(length)\n",
    "        draw_triangle_order_two(length, order-1)\n",
    "        \n",
    "        # Move to a new position and draw again\n",
    "        turtle.left(120)\n",
    "        turtle.forward(length)\n",
    "        draw_triangle_order_two(length, order-1)\n",
    "        \n",
    "        # Move the turtle back to the start point\n",
    "        turtle.forward(length)"
   ]
  },
  {
   "cell_type": "markdown",
   "metadata": {},
   "source": [
    "### Step 4: Expand the ability of function at step 3\n",
    "\n",
    "It will render the same output as calling `tri_force()` at order `3`.\n",
    "\n",
    "The valid value for the parameter `order` is 1, 2 and 3 at this step, but no more than that."
   ]
  },
  {
   "cell_type": "code",
   "execution_count": 4,
   "metadata": {},
   "outputs": [],
   "source": [
    "import turtle\n",
    "\n",
    "def draw_triangle_order_three(length, order=3):\n",
    "    if order == 1:\n",
    "        # Base case to draw each single triangle\n",
    "        draw_triangle(length)\n",
    "    else:\n",
    "        # Draw the triangle at order decreased by 1\n",
    "        draw_triangle_order_three(length, order-1)\n",
    "        \n",
    "        # Move to a new position and draw again\n",
    "        turtle.right(120)\n",
    "        turtle.forward(length * (order-1))\n",
    "        draw_triangle_order_three(length, order-1)\n",
    "        \n",
    "        # Move to a new position and draw again\n",
    "        turtle.left(120)\n",
    "        turtle.forward(length * (order-1))\n",
    "        draw_triangle_order_three(length, order-1)\n",
    "        \n",
    "        # Move the turtle back to the start point\n",
    "        turtle.forward(length * (order-1))"
   ]
  },
  {
   "cell_type": "markdown",
   "metadata": {},
   "source": [
    "### Step 5: Make the function works in a general fashion\n",
    "\n",
    "The valid value for the parameter `order` is 1, 2, 3 ... n at this step."
   ]
  },
  {
   "cell_type": "code",
   "execution_count": 5,
   "metadata": {},
   "outputs": [],
   "source": [
    "import turtle\n",
    "\n",
    "def draw_triangle_order_n(length, order):\n",
    "    if order == 1:\n",
    "        # Base case to draw each single triangle\n",
    "        draw_triangle(length)\n",
    "    else:\n",
    "        # Draw the triangle at order decreased by 1\n",
    "        draw_triangle_order_n(length, order-1)\n",
    "        \n",
    "        # Move to a new position and draw again\n",
    "        turtle.right(120)\n",
    "        turtle.forward(length * 2 ** (order-2))\n",
    "        draw_triangle_order_n(length, order-1)\n",
    "        \n",
    "        # Move to a new position and draw again\n",
    "        turtle.left(120)\n",
    "        turtle.forward(length * 2 ** (order-2))\n",
    "        draw_triangle_order_n(length, order-1)\n",
    "        \n",
    "        # Move the turtle back to the start point\n",
    "        turtle.forward(length * 2 ** (order-2))"
   ]
  },
  {
   "cell_type": "markdown",
   "metadata": {},
   "source": [
    "### Step 6: Finalize the _tri_force( )_ function\n",
    "\n",
    "The most intuitive way is that we can create a wrapper function to calibrate the length, and use the function at step 5 directly.\n",
    "\n",
    "The purpose of this step is to meet the requirement that _\"each triangle is half the size of the one it is contained in\"_."
   ]
  },
  {
   "cell_type": "code",
   "execution_count": 6,
   "metadata": {},
   "outputs": [],
   "source": [
    "def tri_force(length, order):\n",
    "    # Calibrate the length based on the order size\n",
    "    factor = 2 ** (order-1)\n",
    "    length = length / factor\n",
    "    # Call the function at step 5\n",
    "    draw_triangle_order_n(length, order)"
   ]
  },
  {
   "cell_type": "markdown",
   "metadata": {},
   "source": [
    "We can also create a single recursive function `tri_force()`, by modify the function at step 5."
   ]
  },
  {
   "cell_type": "code",
   "execution_count": 7,
   "metadata": {},
   "outputs": [],
   "source": [
    "import turtle\n",
    "\n",
    "def tri_force(length, order):\n",
    "    if order == 1:\n",
    "        # Base case to draw each single triangle\n",
    "        draw_triangle(length)\n",
    "    else:\n",
    "        # Draw the triangle at order decreased by 1\n",
    "        tri_force(length / 2, order-1)\n",
    "        \n",
    "        # Move to a new position and draw again\n",
    "        turtle.right(120)\n",
    "        turtle.forward(length / 2)\n",
    "        tri_force(length / 2, order-1)\n",
    "        \n",
    "        # Move to a new position and draw again\n",
    "        turtle.left(120)\n",
    "        turtle.forward(length / 2)\n",
    "        tri_force(length / 2, order-1)\n",
    "        \n",
    "        # Move the turtle back to the start point\n",
    "        turtle.forward(length / 2)"
   ]
  },
  {
   "cell_type": "markdown",
   "metadata": {},
   "source": [
    "Remove the dependency of `draw_triangle()` in the `tri_force()` function as the final submission."
   ]
  },
  {
   "cell_type": "code",
   "execution_count": 8,
   "metadata": {},
   "outputs": [],
   "source": [
    "import turtle\n",
    "\n",
    "def tri_force(length, order):\n",
    "    if order == 1:\n",
    "        # Base case to draw each single triangle\n",
    "        # Reset the turtle start direction\n",
    "        turtle.setheading(180)\n",
    "        # Repeat 3 times for each side\n",
    "        for _ in range(3):\n",
    "            turtle.right(120)\n",
    "            turtle.forward(length)\n",
    "    else:\n",
    "        # Draw the triangle at order decreased by 1\n",
    "        tri_force(length / 2, order-1)\n",
    "        \n",
    "        # Move to a new position and draw again\n",
    "        turtle.right(120)\n",
    "        turtle.forward(length / 2)\n",
    "        tri_force(length / 2, order-1)\n",
    "        \n",
    "        # Move to a new position and draw again\n",
    "        turtle.left(120)\n",
    "        turtle.forward(length / 2)\n",
    "        tri_force(length / 2, order-1)\n",
    "        \n",
    "        # Move the turtle back to the start point\n",
    "        turtle.forward(length / 2)"
   ]
  },
  {
   "cell_type": "markdown",
   "metadata": {},
   "source": [
    "### Helper code to run the turtle function\n",
    "\n",
    "The code below is just for run the target function at each steps or the final `tri_force()` function."
   ]
  },
  {
   "cell_type": "code",
   "execution_count": 9,
   "metadata": {},
   "outputs": [],
   "source": [
    "import importlib\n",
    "\n",
    "# Reset the Turtle library in every run\n",
    "importlib.reload(turtle)\n",
    "\n",
    "# Prepare a window\n",
    "canvas = turtle.Screen()\n",
    "canvas.bgcolor(\"black\")\n",
    "canvas.title(\"Draw Sierpinski Triangle\")\n",
    "\n",
    "# Set pen color and drawing speed\n",
    "turtle.pensize(2)\n",
    "turtle.speed(10)\n",
    "turtle.color(\"white\")\n",
    "\n",
    "# Set the start position of the pen\n",
    "turtle.up()\n",
    "turtle.goto(-350, -300)\n",
    "turtle.down()\n",
    "\n",
    "# Run the target functions below\n",
    "# Step 1 function:\n",
    "# draw_triangle(200)\n",
    "\n",
    "# Step 2 function:\n",
    "# draw_three_triangles(200)\n",
    "\n",
    "# Step 3 function:\n",
    "# draw_triangle_order_two(200)\n",
    "\n",
    "# Step 4 function:\n",
    "# draw_triangle_order_three(100)\n",
    "\n",
    "# Step 5 function:\n",
    "# draw_triangle_order_n(50, 4)\n",
    "\n",
    "# Final step - run the tri_force() function\n",
    "tri_force(400, 3)\n",
    "\n",
    "# Wait for user to close window\n",
    "canvas.mainloop()"
   ]
  },
  {
   "cell_type": "markdown",
   "metadata": {},
   "source": [
    "The output of `tri_force(400, 3)` will be visualize as follow:\n",
    "\n",
    "<img src=\"figure/sierpinski_tri.png\" align=\"left\"/>"
   ]
  }
 ],
 "metadata": {
  "kernelspec": {
   "display_name": "Python 3",
   "language": "python",
   "name": "python3"
  },
  "language_info": {
   "codemirror_mode": {
    "name": "ipython",
    "version": 3
   },
   "file_extension": ".py",
   "mimetype": "text/x-python",
   "name": "python",
   "nbconvert_exporter": "python",
   "pygments_lexer": "ipython3",
   "version": "3.7.4"
  }
 },
 "nbformat": 4,
 "nbformat_minor": 2
}
