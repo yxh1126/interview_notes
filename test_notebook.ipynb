{
 "cells": [
  {
   "cell_type": "code",
   "execution_count": 1,
   "metadata": {},
   "outputs": [],
   "source": [
    "def reassign(list):\n",
    "    print(id(list))\n",
    "    list = [0, 1]\n",
    "\n",
    "def append(list):\n",
    "    list.append(1)\n",
    "\n",
    "list = [0, 2, 3, 4]\n",
    "print(\"Outside:\", id(list))\n",
    "\n",
    "reassign(list)\n",
    "print(list)\n",
    "\n",
    "append(list)\n",
    "print(list)"
   ]
  },
  {
   "cell_type": "code",
   "execution_count": 2,
   "metadata": {},
   "outputs": [
    {
     "name": "stdout",
     "output_type": "stream",
     "text": [
      "id of argument before calling function 1760100240520\n",
      "id of received argument 1760100240520\n",
      "id of returned object 1760100240520\n",
      "['10', '20']\n",
      "['10', '20']\n"
     ]
    }
   ],
   "source": [
    "def foo(x):\n",
    "    print (\"id of received argument\", id(x))\n",
    "    x.append(\"20\")\n",
    "    return x\n",
    "\n",
    "a = [\"10\"]\n",
    "print (\"id of argument before calling function\", id(a))\n",
    "\n",
    "b = foo(a)\n",
    "print (\"id of returned object\", id(b))\n",
    "\n",
    "print (a)\n",
    "print (b)"
   ]
  },
  {
   "cell_type": "code",
   "execution_count": 3,
   "metadata": {},
   "outputs": [
    {
     "name": "stdout",
     "output_type": "stream",
     "text": [
      "[11]\n"
     ]
    }
   ],
   "source": [
    "def change_var(var):\n",
    "    var[0] = var[0] + 1\n",
    "    \n",
    "input_var = [10]\n",
    "change_var(input_var)\n",
    "\n",
    "print(input_var)"
   ]
  },
  {
   "cell_type": "code",
   "execution_count": 12,
   "metadata": {},
   "outputs": [],
   "source": [
    "import importlib, turtle\n",
    "importlib.reload(turtle)\n",
    "\n",
    "canvas = turtle.Screen()\n",
    "canvas.bgcolor(\"black\")\n",
    "canvas.title(\"Draw Square\")\n",
    "\n",
    "pen = turtle.Turtle()\n",
    "pen.speed(1)\n",
    "pen.color(\"white\")\n",
    "\n",
    "for i in range(5):\n",
    "    pen.fd(250)\n",
    "    pen.rt(144)\n",
    "# pen.fd(100)\n",
    "# pen.rt(90)\n",
    "# pen.fd(100)\n",
    "# pen.rt(90)\n",
    "# pen.fd(100)\n",
    "# pen.rt(90)\n",
    "\n",
    "canvas.exitonclick()\n"
   ]
  },
  {
   "cell_type": "code",
   "execution_count": 16,
   "metadata": {},
   "outputs": [
    {
     "name": "stdout",
     "output_type": "stream",
     "text": [
      "[3, 4]\n"
     ]
    }
   ],
   "source": [
    "def merge_list(x, y):\n",
    "    merged_array = []\n",
    "    i = 0\n",
    "    j = 0\n",
    "   \n",
    "    while i < len(x) and j < len(y):\n",
    "       \n",
    "        x_var = x[i]\n",
    "        y_var = y[j]\n",
    "       \n",
    "        if x_var < y_var:\n",
    "            merged_array.append(x_var)\n",
    "            i += 1\n",
    "        else:\n",
    "            merged_array.append(y_var)\n",
    "            j += 1\n",
    "   \n",
    "    # printing leftover y array\n",
    "    while i < len(x):\n",
    "        merged_array.append(x[i])\n",
    "        i += 1\n",
    "   \n",
    "    while j < len(y):\n",
    "        merged_array.append(y[j])\n",
    "        j += 1\n",
    "       \n",
    "    return merged_array\n",
    "\n",
    "array1 = [4]\n",
    "array2 = [3]\n",
    "\n",
    "res = merge_sort(array1, array2)\n",
    "print(res)"
   ]
  },
  {
   "cell_type": "code",
   "execution_count": 17,
   "metadata": {},
   "outputs": [
    {
     "name": "stdout",
     "output_type": "stream",
     "text": [
      "[4, 3]\n"
     ]
    }
   ],
   "source": [
    "res = array1 + array2\n",
    "print(res)"
   ]
  },
  {
   "cell_type": "code",
   "execution_count": 23,
   "metadata": {},
   "outputs": [
    {
     "name": "stdout",
     "output_type": "stream",
     "text": [
      "None\n"
     ]
    }
   ],
   "source": [
    "d = {'cat': 'cute', 'dog': 'furry'}\n",
    "# print(d['fish'])\n",
    "print(d.get('fish'))"
   ]
  },
  {
   "cell_type": "code",
   "execution_count": 28,
   "metadata": {},
   "outputs": [
    {
     "name": "stdout",
     "output_type": "stream",
     "text": [
      "[3, 4]\n"
     ]
    }
   ],
   "source": [
    "# Question:\n",
    "#taget is find a pair of values that sums to 13\n",
    "# return the index of the values in the list\n",
    "# [2, 3]\n",
    "\n",
    "def find_pair(in_arr, target):\n",
    "    # write code\n",
    "    for i in range(len(in_arr)-1):\n",
    "        val = in_arr[i]\n",
    "        \n",
    "        for j in range(i+1, len(in_arr)):\n",
    "            val2 = in_arr[j]\n",
    "            \n",
    "            if(val + val2 == target):\n",
    "                return [i, j]\n",
    "    \n",
    "    \n",
    "    return [-1, -1]\n",
    "\n",
    "inupt_list = [1, 2, 49, 3, 10] \n",
    "res = find_pair(inupt_list, 13)\n",
    "print(res)"
   ]
  },
  {
   "cell_type": "code",
   "execution_count": 30,
   "metadata": {},
   "outputs": [
    {
     "name": "stdout",
     "output_type": "stream",
     "text": [
      "[4, 3]\n"
     ]
    }
   ],
   "source": [
    "def find_pair(in_arr, target):\n",
    "    # write code\n",
    "    bag = {}\n",
    "    \n",
    "    for i in range(len(in_arr)):\n",
    "        val = in_arr[i]\n",
    "        to_find = target - val\n",
    "        \n",
    "        if to_find in bag:\n",
    "            return [i, bag[res]]\n",
    "        else:\n",
    "            bag[val] = i\n",
    "    \n",
    "    return [-1, -1]\n",
    "\n",
    "{14:0, 2:1, 49:2, 3:3}\n",
    "\n",
    "inupt_list = [14, 2, 49, 3, 10] \n",
    "res = find_pair(inupt_list, 13)\n",
    "print(res)"
   ]
  },
  {
   "cell_type": "code",
   "execution_count": 5,
   "metadata": {},
   "outputs": [
    {
     "name": "stdout",
     "output_type": "stream",
     "text": [
      "{'cat', 2, 'monkey', 'tiger'}\n"
     ]
    }
   ],
   "source": [
    "a_list = ['cat', 'monkey', 'tiger']\n",
    "\n",
    "a_dic = {'cat':1, 'fish':2}\n",
    "\n",
    "a_set = {'cat', 'monkey', 'tiger'}\n",
    "\n",
    "a_set.add(2)\n",
    "a_set.add(2)\n",
    "a_set.add(2)\n",
    "\n",
    "print(a_set)\n",
    "\n",
    "\n"
   ]
  },
  {
   "cell_type": "code",
   "execution_count": 7,
   "metadata": {},
   "outputs": [
    {
     "name": "stdout",
     "output_type": "stream",
     "text": [
      "cat\n",
      "monkey\n",
      "tiger\n",
      "1\n",
      "1\n",
      "1\n",
      "['cat', 'monkey', 'tiger', 1, 1, 1]\n"
     ]
    }
   ],
   "source": [
    "a_list = ['cat', 'monkey', 'tiger']\n",
    "a_list.append(1)\n",
    "a_list.append(1)\n",
    "a_list.append(1)\n",
    "\n",
    "for a in a_list:\n",
    "    print(a)\n",
    "\n",
    "print(a_list)"
   ]
  },
  {
   "cell_type": "code",
   "execution_count": 8,
   "metadata": {},
   "outputs": [
    {
     "name": "stdout",
     "output_type": "stream",
     "text": [
      "cat\n",
      "fish\n",
      "dog\n"
     ]
    }
   ],
   "source": [
    "animals = {'cat', 'dog', 'fish'}\n",
    "for a in animals:\n",
    "    print(a)"
   ]
  },
  {
   "cell_type": "code",
   "execution_count": 10,
   "metadata": {},
   "outputs": [],
   "source": [
    "input_arr = [1, 2, 3, 2, 3, 45, 34, 345, 3, 4]"
   ]
  },
  {
   "cell_type": "code",
   "execution_count": 15,
   "metadata": {},
   "outputs": [],
   "source": [
    "def remove_duplicates(arr):\n",
    "    pool = set()  # empty set\n",
    "    for num in arr:\n",
    "        pool.add(num)\n",
    "        \n",
    "    return list(pool)\n",
    "    "
   ]
  },
  {
   "cell_type": "code",
   "execution_count": 18,
   "metadata": {},
   "outputs": [
    {
     "name": "stdout",
     "output_type": "stream",
     "text": [
      "[1, 2, 3, 34, 4, 45, 345]\n"
     ]
    }
   ],
   "source": [
    "res = remove_duplicates(input_arr)\n",
    "print(res)"
   ]
  },
  {
   "cell_type": "code",
   "execution_count": 27,
   "metadata": {},
   "outputs": [
    {
     "name": "stdout",
     "output_type": "stream",
     "text": [
      "[100, 2, 3, 4]\n"
     ]
    }
   ],
   "source": [
    "# Tuple\n",
    "a = (1, 2, 3, 4)\n",
    "# List\n",
    "b = [1, 2, 3, 4]\n",
    "\n",
    "b[0] = 100\n",
    "print(b)"
   ]
  },
  {
   "cell_type": "code",
   "execution_count": 29,
   "metadata": {},
   "outputs": [
    {
     "name": "stdout",
     "output_type": "stream",
     "text": [
      "(2, 3)\n"
     ]
    }
   ],
   "source": [
    "a = (2, 3)\n",
    "print(a)"
   ]
  },
  {
   "cell_type": "code",
   "execution_count": 30,
   "metadata": {},
   "outputs": [
    {
     "name": "stdout",
     "output_type": "stream",
     "text": [
      "{(1, 1): 'red', (3, 2): 'blue'}\n"
     ]
    }
   ],
   "source": [
    "point1 = (1, 1)\n",
    "point2 = (3, 2)\n",
    "\n",
    "my_dic = {point1: 'red', point2: 'blue'}\n",
    "\n",
    "print(my_dic)"
   ]
  },
  {
   "cell_type": "code",
   "execution_count": 31,
   "metadata": {},
   "outputs": [
    {
     "ename": "TypeError",
     "evalue": "unhashable type: 'list'",
     "output_type": "error",
     "traceback": [
      "\u001b[1;31m---------------------------------------------------------------------------\u001b[0m",
      "\u001b[1;31mTypeError\u001b[0m                                 Traceback (most recent call last)",
      "\u001b[1;32m<ipython-input-31-40493e40746e>\u001b[0m in \u001b[0;36m<module>\u001b[1;34m()\u001b[0m\n\u001b[0;32m      2\u001b[0m \u001b[0mpoint2\u001b[0m \u001b[1;33m=\u001b[0m \u001b[1;33m[\u001b[0m\u001b[1;36m3\u001b[0m\u001b[1;33m,\u001b[0m \u001b[1;36m2\u001b[0m\u001b[1;33m]\u001b[0m\u001b[1;33m\u001b[0m\u001b[0m\n\u001b[0;32m      3\u001b[0m \u001b[1;33m\u001b[0m\u001b[0m\n\u001b[1;32m----> 4\u001b[1;33m \u001b[0mmy_dic\u001b[0m \u001b[1;33m=\u001b[0m \u001b[1;33m{\u001b[0m\u001b[0mpoint1\u001b[0m\u001b[1;33m:\u001b[0m \u001b[1;34m'red'\u001b[0m\u001b[1;33m,\u001b[0m \u001b[0mpoint2\u001b[0m\u001b[1;33m:\u001b[0m \u001b[1;34m'blue'\u001b[0m\u001b[1;33m}\u001b[0m\u001b[1;33m\u001b[0m\u001b[0m\n\u001b[0m\u001b[0;32m      5\u001b[0m \u001b[1;33m\u001b[0m\u001b[0m\n\u001b[0;32m      6\u001b[0m \u001b[0mprint\u001b[0m\u001b[1;33m(\u001b[0m\u001b[0mmy_dic\u001b[0m\u001b[1;33m)\u001b[0m\u001b[1;33m\u001b[0m\u001b[0m\n",
      "\u001b[1;31mTypeError\u001b[0m: unhashable type: 'list'"
     ]
    }
   ],
   "source": [
    "point1 = [1, 1]\n",
    "point2 = [3, 2]\n",
    "\n",
    "my_dic = {point1: 'red', point2: 'blue'}\n",
    "\n",
    "print(my_dic)"
   ]
  },
  {
   "cell_type": "code",
   "execution_count": 42,
   "metadata": {},
   "outputs": [
    {
     "name": "stdout",
     "output_type": "stream",
     "text": [
      "5\n"
     ]
    }
   ],
   "source": [
    "# Each element repeat twice, except 1 element\n",
    "# Pick single element\n",
    "a_list = [1, 2, 1, 2, 3, 5, 3, 6, 8, 6, 8]\n",
    "\n",
    "def pick_single(a_list):\n",
    "    pool = {}\n",
    "    for a in a_list:\n",
    "        if a in pool:\n",
    "            pool[a] += 1\n",
    "        else:\n",
    "            pool[a] = 1\n",
    "\n",
    "    for p in pool:\n",
    "        if pool[p] == 1:\n",
    "            return p\n",
    "    \n",
    "    return None\n",
    "\n",
    "res = pick_single(a_list)    \n",
    "\n",
    "print(res)"
   ]
  },
  {
   "cell_type": "code",
   "execution_count": 43,
   "metadata": {},
   "outputs": [
    {
     "name": "stdout",
     "output_type": "stream",
     "text": [
      "5\n"
     ]
    }
   ],
   "source": [
    "def pick_element(a_list):\n",
    "    \n",
    "    # 1 loop\n",
    "    pool = set()\n",
    "    for a in a_list:\n",
    "        pool.add(a)\n",
    "      \n",
    "    # 2 loop\n",
    "    sum_all = 0\n",
    "    for b in a_list:\n",
    "        sum_all = b + sum_all\n",
    "    \n",
    "    # 3 loop\n",
    "    sum_pool = 0\n",
    "    for p in pool:\n",
    "        sum_pool = p + sum_pool\n",
    "        \n",
    "    return sum_pool * 2 - sum_all\n",
    "\n",
    "\n",
    "a_list = [1, 2, 1, 2, 3, 5, 3, 6, 8, 6, 8]\n",
    "res = pick_element(a_list)  \n",
    "print(res)"
   ]
  },
  {
   "cell_type": "code",
   "execution_count": 2,
   "metadata": {},
   "outputs": [
    {
     "data": {
      "text/plain": [
       "'12'"
      ]
     },
     "execution_count": 2,
     "metadata": {},
     "output_type": "execute_result"
    }
   ],
   "source": [
    "\"\".join(['1', '2'])"
   ]
  },
  {
   "cell_type": "code",
   "execution_count": 4,
   "metadata": {},
   "outputs": [
    {
     "name": "stdout",
     "output_type": "stream",
     "text": [
      "[1, 2]\n"
     ]
    }
   ],
   "source": [
    "def add(a):\n",
    "    b = a.copy()\n",
    "    b.append(10)\n",
    "\n",
    "t = [1, 2]\n",
    "add(t)\n",
    "print(t)"
   ]
  },
  {
   "cell_type": "code",
   "execution_count": null,
   "metadata": {},
   "outputs": [],
   "source": [
    "def calc_length:\n",
    "    pass\n",
    "\n",
    "def calc_are:\n",
    "    pass\n",
    "\n",
    "n function"
   ]
  },
  {
   "cell_type": "code",
   "execution_count": null,
   "metadata": {},
   "outputs": [],
   "source": []
  },
  {
   "cell_type": "code",
   "execution_count": 12,
   "metadata": {},
   "outputs": [
    {
     "name": "stdout",
     "output_type": "stream",
     "text": [
      "this is a string a\tanother string\n"
     ]
    }
   ],
   "source": [
    "# String and List\n",
    "\n",
    "a = 'this is a string a'\n",
    "b = 'another string'\n",
    "\n",
    "print(a, end='\\n')\n",
    "print(b)"
   ]
  },
  {
   "cell_type": "code",
   "execution_count": 17,
   "metadata": {},
   "outputs": [
    {
     "name": "stdout",
     "output_type": "stream",
     "text": [
      "this is a string a\n",
      "\n",
      "another string\n",
      "\n",
      "hello\n",
      "\n"
     ]
    }
   ],
   "source": [
    "a_list = ['this is a string a\\n', 'another string\\n', 'hello\\n']\n",
    "\n",
    "for a in a_list:\n",
    "    print(a)"
   ]
  },
  {
   "cell_type": "code",
   "execution_count": 1,
   "metadata": {},
   "outputs": [
    {
     "name": "stdout",
     "output_type": "stream",
     "text": [
      "['12 0 obj\\n', '<</Type/Font/Subtype/TrueType/Name/F2/BaseFont/ABCDEE+Calibri/Encoding/WinAnsiEncoding/FontDescriptor 13 0 R/FirstChar 32/LastChar 122/Widths 510 0 R>>\\n', 'endobj\\n', '13 0 obj\\n', '<</Type/FontDescriptor/FontName/ABCDEE+Calibri/Flags 32/ItalicAngle 0/Ascent 750/Descent -250/CapHeight 750/AvgWidth 521/MaxWidth 1743/FontWeight 400/XHeight 250/StemV 52/FontBBox[ -503 -250 1240 750] /FontFile2 511 0 R>>\\n', 'endobj\\n', '14 0 obj\\n', '<</Subtype/Link/Rect[ 538.13 517.39 728.98 527.83] /BS<</W 0>>/F 4/A<</Type/Action/S/URI/URI(mailto:erin.kamenoff@advantageresourcing.com;) >>/StructParent 1>>\\n', 'endobj\\n', '15 0 obj\\n', '<</Subtype/Link/Rect[ 538.13 503.04 737.72 513.48] /BS<</W 0>>/F 4/A<</Type/Action/S/URI/URI(mailto:lindsay.shattuck@advantageresourcing.com;) >>/StructParent 2>>\\n', 'endobj\\n', '16 0 obj\\n', '<</Subtype/Link/Rect[ 538.13 488.7 713.59 499.13] /BS<</W 0>>/F 4/A<</Type/Action/S/URI/URI(mailto:james.cole@advantageresourcing.com;) >>/StructParent 3>>\\n', 'endobj\\n', '17 0 obj\\n', '<</Subtype/Link/Rect[ 538.13 474.35 779.48 484.78] /BS<</W 0>>/F 4/A<</Type/Action/S/URI/URI(mailto:andrea.schimmelpfenneg@advantageresourcing.com;) >>/StructParent 4>>\\n', 'endobj\\n', '18 0 obj\\n', '<</Subtype/Link/Rect[ 538.13 460 740.46 470.43] /BS<</W 0>>/F 4/A<</Type/Action/S/URI/URI(mailto:monique.carwile@advantageresourcing.com;) >>/StructParent 5>>\\n', 'endobj\\n', '19 0 obj\\n', '<</Subtype/Link/Rect[ 538.13 445.65 730.15 456.09] /BS<</W 0>>/F 4/A<</Type/Action/S/URI/URI(mailto:anna.ferguson@advantageresourcing.com;) >>/StructParent 6>>\\n', 'endobj\\n', '20 0 obj\\n', '<</Subtype/Link/Rect[ 19.565 431.3 76.196 441.74] /BS<</W 0>>/F 4/A<</Type/Action/S/URI/URI(mailto:jaoneal@aerotek.com) >>/StructParent 7>>\\n', 'endobj\\n', '21 0 obj\\n', '<</Subtype/Link/Rect[ 538.13 431.3 652.41 441.74] /BS<</W 0>>/F 4/A<</Type/Action/S/URI/URI(mailto:abezemek@aerotek.com;) >>/StructParent 8>>\\n', 'endobj\\n', '22 0 obj\\n', '<</Subtype/Link/Rect[ 19.565 416.93 76.196 427.39] /BS<</W 0>>/F 4/A<</Type/Action/S/URI/URI(mailto:jaoneal@aerotek.com) >>/StructParent 9>>\\n', 'endobj\\n', '23 0 obj\\n', '<</Subtype/Link/Rect[ 538.13 416.93 639.5 427.39] /BS<</W 0>>/F 4/A<</Type/Action/S/URI/URI(mailto:jaoneal@aerotek.com;) >>/StructParent 10>>\\n', 'endobj\\n', '24 0 obj\\n', '<</Subtype/Link/Rect[ 538.13 402.59 743.46 413.02] /BS<</W 0>>/F 4/A<</Type/Action/S/URI/URI(mailto:Service@altairpd.com) >>/StructParent 11>>\\n', 'endobj\\n', '25 0 obj\\n', '<</Subtype/Link/Rect[ 538.13 388.24 652.93 398.67] /BS<</W 0>>/F 4/A<</Type/Action/S/URI/URI(mailto:bpancotto@altairpd.com;) >>/StructParent 12>>\\n', 'endobj\\n', '26 0 obj\\n', '<</Subtype/Link/Rect[ 19.565 373.89 54.152 384.33] /BS<</W 0>>/F 4/A<</Type/Action/S/URI/URI(mailto:mcarlson@eta.com) >>/StructParent 13>>\\n', 'endobj\\n', '27 0 obj\\n', '<</Subtype/Link/Rect[ 538.13 373.89 639.5 384.33] /BS<</W 0>>/F 4/A<</Type/Action/S/URI/URI(mailto:dross@bartechinc.net;) >>/StructParent 14>>\\n', 'endobj\\n', '28 0 obj\\n', '<</Subtype/Link/Rect[ 19.565 359.54 54.152 369.98] /BS<</W 0>>/F 4/A<</Type/Action/S/URI/URI(mailto:mcarlson@eta.com) >>/StructParent 15>>\\n', 'endobj\\n', '29 0 obj\\n', '<</Subtype/Link/Rect[ 538.13 359.54 668.2 369.98] /BS<</W 0>>/F 4/A<</Type/Action/S/URI/URI(mailto:kroeder@bartechgroup.com;) >>/StructParent 16>>\\n', 'endobj\\n', '30 0 obj\\n', '<</Subtype/Link/Rect[ 538.13 345.2 627.76 355.63] /BS<</W 0>>/F 4/A<</Type/Action/S/URI/URI(mailto:mcarlson@eta.com;) >>/StructParent 17>>\\n', 'endobj\\n', '31 0 obj\\n', '<</Subtype/Link/Rect[ 538.13 330.85 651.5 341.28] /BS<</W 0>>/F 4/A<</Type/Action/S/URI/URI(mailto:lcampbell@gogtech.com;) >>/StructParent 18>>\\n', 'endobj\\n', '32 0 obj\\n', '<</Subtype/Link/Rect[ 538.13 316.5 640.67 326.93] /BS<</W 0>>/F 4/A<</Type/Action/S/URI/URI(mailto:nmadis@gogtech.com;) >>/StructParent 19>>\\n', 'endobj\\n', '33 0 obj\\n', '<</Subtype/Link/Rect[ 538.13 302.13 646.02 312.59] /BS<</W 0>>/F 4/A<</Type/Action/S/URI/URI(mailto:mbrown@gogtech.com;) >>/StructParent 20>>\\n', 'endobj\\n', '34 0 obj\\n', '<</Subtype/Link/Rect[ 538.13 287.78 647.46 298.22] /BS<</W 0>>/F 4/A<</Type/Action/S/URI/URI(mailto:tracey.duenas@isa.com;) >>/StructParent 21>>\\n', 'endobj\\n', '35 0 obj\\n', '<</Subtype/Link/Rect[ 538.13 273.43 664.28 283.87] /BS<</W 0>>/F 4/A<</Type/Action/S/URI/URI(mailto:bernard.barrow@j-2llc.com;) >>/StructParent 22>>\\n', 'endobj\\n', '36 0 obj\\n', '<</Subtype/Link/Rect[ 538.13 259.09 664.28 269.52] /BS<</W 0>>/F 4/A<</Type/Action/S/URI/URI(mailto:matusje@kellyservices.com;) >>/StructParent 23>>\\n', 'endobj\\n', '37 0 obj\\n', '<</Subtype/Link/Rect[ 538.13 244.74 667.28 255.17] /BS<</W 0>>/F 4/A<</Type/Action/S/URI/URI(mailto:mackotn@kellyservices.com;) >>/StructParent 24>>\\n', 'endobj\\n', '38 0 obj\\n', '<</Subtype/Link/Rect[ 538.13 230.39 621.76 240.83] /BS<</W 0>>/F 4/A<</Type/Action/S/URI/URI(mailto:ncilluff@ford.com;) >>/StructParent 25>>\\n', 'endobj\\n', '39 0 obj\\n', '<</Subtype/Link/Rect[ 19.565 216.04 99.935 226.48] /BS<</W 0>>/F 4/A<</Type/Action/S/URI/URI(mailto:krobert@aerotek.com) >>/StructParent 26>>\\n', 'endobj\\n', '40 0 obj\\n', '<</Subtype/Link/Rect[ 538.13 216.04 615.5 226.48] /BS<</W 0>>/F 4/A<</Type/Action/S/URI/URI(mailto:aleto@msxi.com;) >>/StructParent 27>>\\n', 'endobj\\n', '41 0 obj\\n', '<</Subtype/Link/Rect[ 538.13 201.7 682.93 212.13] /BS<</W 0>>/F 4/A<</Type/Action/S/URI/URI(mailto:tom.kauffman@optimalinc.com;) >>/StructParent 28>>\\n', 'endobj\\n', '42 0 obj\\n', '<</Subtype/Link/Rect[ 538.13 172.98 631.67 183.41] /BS<</W 0>>/F 4/A<</Type/Action/S/URI/URI(mailto:vivian@roninllc.com;) >>/StructParent 29>>\\n', 'endobj\\n', '43 0 obj\\n', '<</Subtype/Link/Rect[ 538.13 158.63 682.67 169.07] /BS<</W 0>>/F 4/A<</Type/Action/S/URI/URI(mailto:Tony.Tarkowski@sygnetics.com;) >>/StructParent 30>>\\n', 'endobj\\n', '44 0 obj\\n', '<</Subtype/Link/Rect[ 538.13 144.28 660.76 154.72] /BS<</W 0>>/F 4/A<</Type/Action/S/URI/URI(mailto:mweldon@weglobalit.com;) >>/StructParent 31>>\\n', 'endobj\\n', '53 0 obj\\n', '<</Type/ObjStm/N 462/First 4369/Filter/FlateDecode/Length 6288>>']\n"
     ]
    }
   ],
   "source": [
    "import sys\n",
    "\n",
    "def read_file(filename):\n",
    "    \"\"\" \n",
    "    Read the text file with the given filename;\n",
    "    return a list of the lines of text in the file.\n",
    "    \"\"\"\n",
    "    try:\n",
    "        f = open(filename, 'r')\n",
    "        text = f.readlines()\n",
    "        f.close()\n",
    "        return text\n",
    "    except IOError:\n",
    "        print(\"Error opening or reading input file: \",filename)\n",
    "        sys.exit()\n",
    "\n",
    "# Test the function\n",
    "read_text = read_file('emails.txt')\n",
    "print(read_text)"
   ]
  },
  {
   "cell_type": "code",
   "execution_count": 14,
   "metadata": {},
   "outputs": [
    {
     "name": "stdout",
     "output_type": "stream",
     "text": [
      "1 \t ('erin.kamenoff@advantageresourcing.com', '@', '.')\n",
      "2 \t ('lindsay.shattuck@advantageresourcing.com', '@', '.')\n",
      "3 \t ('james.cole@advantageresourcing.com', '@', '.')\n",
      "4 \t ('andrea.schimmelpfenneg@advantageresourcing.com', '@', '.')\n",
      "5 \t ('monique.carwile@advantageresourcing.com', '@', '.')\n",
      "6 \t ('anna.ferguson@advantageresourcing.com', '@', '.')\n",
      "7 \t ('jaoneal@aerotek.com', '@', '.')\n",
      "8 \t ('abezemek@aerotek.com', '@', '.')\n",
      "9 \t ('ervice@altairpd.com', '@', '.')\n",
      "10 \t ('bpancotto@altairpd.com', '@', '.')\n",
      "11 \t ('mcarlson@eta.com', '@', '.')\n",
      "12 \t ('dross@bartechinc.net', '@', '.')\n",
      "13 \t ('kroeder@bartechgroup.com', '@', '.')\n",
      "14 \t ('lcampbell@gogtech.com', '@', '.')\n",
      "15 \t ('nmadis@gogtech.com', '@', '.')\n",
      "16 \t ('mbrown@gogtech.com', '@', '.')\n",
      "17 \t ('tracey.duenas@isa.com', '@', '.')\n",
      "18 \t ('bernard.barrow@j-2llc.com', '@', '.')\n",
      "19 \t ('matusje@kellyservices.com', '@', '.')\n",
      "20 \t ('mackotn@kellyservices.com', '@', '.')\n",
      "21 \t ('ncilluff@ford.com', '@', '.')\n",
      "22 \t ('krobert@aerotek.com', '@', '.')\n",
      "23 \t ('aleto@msxi.com', '@', '.')\n",
      "24 \t ('tom.kauffman@optimalinc.com', '@', '.')\n",
      "25 \t ('vivian@roninllc.com', '@', '.')\n",
      "26 \t ('arkowski@sygnetics.com', '@', '.')\n",
      "27 \t ('mweldon@weglobalit.com', '@', '.')\n"
     ]
    }
   ],
   "source": [
    "import re\n",
    "\n",
    "regex = re.compile((\"([a-z0-9!#$%&'*+\\/=?^_`{|}~-]+(?:\\.[a-z0-9!#$%&'*+\\/=?^_`\"\n",
    "                    \"{|}~-]+)*(@|\\sat\\s)(?:[a-z0-9](?:[a-z0-9-]*[a-z0-9])?(\\.|\"\n",
    "                    \"\\sdot\\s))+[a-z0-9](?:[a-z0-9-]*[a-z0-9])?)\"))\n",
    "\n",
    "idx = 0\n",
    "s = []\n",
    "for t in read_text: \n",
    "    emails = re.findall(regex, t)\n",
    "    if len(emails) != 0:\n",
    "        if emails[0] not in s:\n",
    "            s.append(emails[0])\n",
    "\n",
    "for x in s:\n",
    "    idx += 1\n",
    "    print(idx, '\\t', x)\n",
    "\n",
    "\n"
   ]
  },
  {
   "cell_type": "code",
   "execution_count": null,
   "metadata": {},
   "outputs": [],
   "source": []
  },
  {
   "cell_type": "code",
   "execution_count": null,
   "metadata": {},
   "outputs": [],
   "source": []
  },
  {
   "cell_type": "code",
   "execution_count": null,
   "metadata": {},
   "outputs": [],
   "source": []
  },
  {
   "cell_type": "code",
   "execution_count": null,
   "metadata": {},
   "outputs": [],
   "source": []
  },
  {
   "cell_type": "code",
   "execution_count": null,
   "metadata": {},
   "outputs": [],
   "source": []
  },
  {
   "cell_type": "code",
   "execution_count": null,
   "metadata": {},
   "outputs": [],
   "source": []
  },
  {
   "cell_type": "code",
   "execution_count": null,
   "metadata": {},
   "outputs": [],
   "source": []
  },
  {
   "cell_type": "code",
   "execution_count": null,
   "metadata": {},
   "outputs": [],
   "source": []
  },
  {
   "cell_type": "code",
   "execution_count": null,
   "metadata": {},
   "outputs": [],
   "source": []
  },
  {
   "cell_type": "code",
   "execution_count": null,
   "metadata": {},
   "outputs": [],
   "source": []
  },
  {
   "cell_type": "code",
   "execution_count": null,
   "metadata": {},
   "outputs": [],
   "source": []
  }
 ],
 "metadata": {
  "kernelspec": {
   "display_name": "Python 3",
   "language": "python",
   "name": "python3"
  },
  "language_info": {
   "codemirror_mode": {
    "name": "ipython",
    "version": 3
   },
   "file_extension": ".py",
   "mimetype": "text/x-python",
   "name": "python",
   "nbconvert_exporter": "python",
   "pygments_lexer": "ipython3",
   "version": "3.7.0"
  }
 },
 "nbformat": 4,
 "nbformat_minor": 2
}
