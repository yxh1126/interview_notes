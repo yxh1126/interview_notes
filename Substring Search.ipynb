{
 "cells": [
  {
   "cell_type": "markdown",
   "metadata": {},
   "source": [
    "### 1. Build-in Method"
   ]
  },
  {
   "cell_type": "code",
   "execution_count": 12,
   "metadata": {},
   "outputs": [
    {
     "name": "stdout",
     "output_type": "stream",
     "text": [
      "15\n",
      "exam\n"
     ]
    }
   ],
   "source": [
    "haystack = \"this is string example....wow!!!\"\n",
    "needle = \"exam\"\n",
    "ans = haystack.find(needle)\n",
    "\n",
    "print(ans)\n",
    "print(haystack[ans : ans+len(needle)])"
   ]
  },
  {
   "cell_type": "markdown",
   "metadata": {},
   "source": [
    "### 2. Simple Solution"
   ]
  },
  {
   "cell_type": "code",
   "execution_count": 13,
   "metadata": {},
   "outputs": [
    {
     "name": "stdout",
     "output_type": "stream",
     "text": [
      "15\n",
      "exam\n"
     ]
    }
   ],
   "source": [
    "# Python 3 program to check if  \n",
    "# a string is substring of other. \n",
    "  \n",
    "# Returns true if s1 is substring of s2 \n",
    "def isSubstring(s1, s2): \n",
    "    M = len(s1) \n",
    "    N = len(s2) \n",
    "  \n",
    "    # A loop to slide pat[] one by one  \n",
    "    for i in range(M - N + 1): \n",
    "  \n",
    "        # For current index i, \n",
    "        # check for pattern match  \n",
    "        j = -1\n",
    "        for j in range(N): \n",
    "            if s2[j] != s1[i + j]: \n",
    "                break\n",
    "              \n",
    "        if j == N - 1: \n",
    "            return i \n",
    "  \n",
    "    return -1\n",
    "\n",
    "\n",
    "haystack = \"this is string example....wow!!!\"\n",
    "needle = \"exam\"\n",
    "ans = isSubstring(haystack, needle)\n",
    "\n",
    "print(ans)\n",
    "print(haystack[ans : ans+len(needle)])"
   ]
  },
  {
   "cell_type": "markdown",
   "metadata": {},
   "source": [
    "### 3. Knuth–Morris–Pratt (KMP) Pattern Matching\n",
    "\n",
    "https://www.geeksforgeeks.org/kmp-algorithm-for-pattern-searching/\n",
    "\n",
    "https://youtu.be/GTJr8OvyEVQ\n",
    "\n",
    "https://github.com/mission-peace/interview/blob/master/src/com/interview/string/SubstringSearch.java"
   ]
  },
  {
   "cell_type": "code",
   "execution_count": 39,
   "metadata": {},
   "outputs": [
    {
     "name": "stdout",
     "output_type": "stream",
     "text": [
      "[0, 1, 0, 1, 2, 3, 4, 5, 2]\n"
     ]
    }
   ],
   "source": [
    "# Step 1: create lps[] that will hold the \n",
    "# longest prefix suffix values for pattern \n",
    "\n",
    "def computeLPSArray(pattern_str):\n",
    "    lps_arr = [0] * len(pattern_str)\n",
    "\n",
    "    i = 1\n",
    "    j = 0\n",
    "    while i < len(pattern_str):\n",
    "        if pattern_str[j] != pattern_str[i]:\n",
    "            if j == 0:\n",
    "                lps_arr[i] = 0\n",
    "                i += 1\n",
    "            else:\n",
    "                j = lps_arr[j-1]\n",
    "        else:\n",
    "            lps_arr[i] = j + 1\n",
    "            j += 1\n",
    "            i += 1\n",
    "    \n",
    "    return lps_arr\n",
    "\n",
    "test = \"aabaabaaa\"\n",
    "lps_res = computeLPSArray(test)\n",
    "print(lps_res)"
   ]
  },
  {
   "cell_type": "code",
   "execution_count": 40,
   "metadata": {},
   "outputs": [
    {
     "name": "stdout",
     "output_type": "stream",
     "text": [
      "15\n",
      "exam\n"
     ]
    }
   ],
   "source": [
    "# Step 2: KMP algorithm of pattern matching.\n",
    "\n",
    "def KPMSearch(haystack, needle):\n",
    "    lps = computeLPSArray(needle)\n",
    "    \n",
    "    i = j = 0\n",
    "    while i < len(haystack) and j < len(needle):\n",
    "        if haystack[i] == needle[j]:\n",
    "            i += 1\n",
    "            j += 1\n",
    "        else:\n",
    "            if j != 0:\n",
    "                j = lps[j-1]\n",
    "            else:\n",
    "                i += 1\n",
    "                \n",
    "    if j == len(needle):\n",
    "        return i - j\n",
    "    else:\n",
    "        return -1\n",
    "    \n",
    "    \n",
    "haystack = \"this is string example....wow!!!\"\n",
    "needle = \"exam\"\n",
    "ans = KPMSearch(haystack, needle)\n",
    "\n",
    "print(ans)\n",
    "print(haystack[ans : ans+len(needle)])   "
   ]
  },
  {
   "cell_type": "code",
   "execution_count": null,
   "metadata": {},
   "outputs": [],
   "source": []
  }
 ],
 "metadata": {
  "kernelspec": {
   "display_name": "Python 3",
   "language": "python",
   "name": "python3"
  },
  "language_info": {
   "codemirror_mode": {
    "name": "ipython",
    "version": 3
   },
   "file_extension": ".py",
   "mimetype": "text/x-python",
   "name": "python",
   "nbconvert_exporter": "python",
   "pygments_lexer": "ipython3",
   "version": "3.7.0"
  }
 },
 "nbformat": 4,
 "nbformat_minor": 2
}
