{
 "cells": [
  {
   "cell_type": "markdown",
   "metadata": {},
   "source": [
    "### Functions needs to create by us"
   ]
  },
  {
   "cell_type": "code",
   "execution_count": 1,
   "metadata": {},
   "outputs": [],
   "source": [
    "import turtle\n",
    "\n",
    "# This is the draw square function should define by you\n",
    "# Since turtle does not provide the draw square function, unlike circle\n",
    "def draw_square(side_len):\n",
    "    for i in range(4):\n",
    "        turtle.forward(side_len)\n",
    "        turtle.left(90)\n",
    "\n",
    "# The square bullseye function similar to circle bullseye\n",
    "def square_bullseye(side_len):\n",
    "    if side_len <= 0:\n",
    "        pass\n",
    "    else:\n",
    "        # Run the draw square function defined by yourself here\n",
    "        # Caution: there is no turtle.square()!!!\n",
    "        # Since circle function if provided by turtle\n",
    "        # So you can have something like this for drawing a circle: turtle.circle(radius)\n",
    "        # However, for draw a square, we defined by ourself above, so we call the function here\n",
    "        draw_square(side_len)\n",
    "        \n",
    "        # Move the pen to a new start point\n",
    "        turtle.forward(20)\n",
    "        turtle.left(90)\n",
    "        turtle.up() # This means your pen is up, which means leave the canvas\n",
    "        turtle.forward(20) # So this move forward will not draw, just pen move\n",
    "        turtle.down() # This means your pen is down to the canvas\n",
    "        turtle.right(90)\n",
    "        \n",
    "        # Call the function recursively and reduced the side length\n",
    "        square_bullseye(side_len-40)"
   ]
  },
  {
   "cell_type": "markdown",
   "metadata": {},
   "source": [
    "### Run the functions below"
   ]
  },
  {
   "cell_type": "code",
   "execution_count": 2,
   "metadata": {},
   "outputs": [],
   "source": [
    "import importlib\n",
    "\n",
    "# Reset the Turtle library in every run\n",
    "importlib.reload(turtle)\n",
    "\n",
    "# Prepare a window\n",
    "canvas = turtle.Screen()\n",
    "canvas.bgcolor(\"black\")\n",
    "canvas.title(\"Draw Bullseye\")\n",
    "\n",
    "# Set pen color and drawing speed\n",
    "turtle.speed(10)\n",
    "turtle.color(\"white\")\n",
    "\n",
    "# Run the function\n",
    "square_bullseye(200)\n",
    "\n",
    "# Wait for user to close window\n",
    "# This is similar to canvas.exitonclick()\n",
    "# The only differnce is, the code below, you need to click the 'X' button to close the window\n",
    "# canvas.exitonclick() can click anywhere of the window to close it\n",
    "canvas.mainloop()"
   ]
  },
  {
   "cell_type": "code",
   "execution_count": null,
   "metadata": {},
   "outputs": [],
   "source": []
  }
 ],
 "metadata": {
  "kernelspec": {
   "display_name": "Python 3",
   "language": "python",
   "name": "python3"
  },
  "language_info": {
   "codemirror_mode": {
    "name": "ipython",
    "version": 3
   },
   "file_extension": ".py",
   "mimetype": "text/x-python",
   "name": "python",
   "nbconvert_exporter": "python",
   "pygments_lexer": "ipython3",
   "version": "3.7.4"
  }
 },
 "nbformat": 4,
 "nbformat_minor": 2
}
