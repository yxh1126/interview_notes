{
 "cells": [
  {
   "cell_type": "markdown",
   "metadata": {},
   "source": [
    "### 1. Create a Node data type"
   ]
  },
  {
   "cell_type": "code",
   "execution_count": 12,
   "metadata": {},
   "outputs": [],
   "source": [
    " class Node: \n",
    "    # Function to initialise the node object \n",
    "    def __init__(self, data): \n",
    "        self.data = data  # Assign data \n",
    "        self.next = None  # Initialize next as null\n",
    "        \n",
    "    def __str__(self):\n",
    "        return str(self.data)"
   ]
  },
  {
   "cell_type": "markdown",
   "metadata": {},
   "source": [
    "### 2. First Simple Linked List"
   ]
  },
  {
   "cell_type": "code",
   "execution_count": 13,
   "metadata": {},
   "outputs": [],
   "source": [
    "a = Node(100)\n",
    "b = Node(223)\n",
    "c = Node(32)"
   ]
  },
  {
   "cell_type": "markdown",
   "metadata": {},
   "source": [
    "```\n",
    "Three nodes have been created. \n",
    "We have references to these three blocks as head, \n",
    "second and third \n",
    "\n",
    "    head            second             third \n",
    "     |                 |                 | \n",
    "     |                 |                 | \n",
    "+----+------+     +----+------+     +----+------+ \n",
    "| 1  | None |     | 2  | None |     |  3 | None | \n",
    "+----+------+     +----+------+     +----+------+ \n",
    "```"
   ]
  },
  {
   "cell_type": "code",
   "execution_count": 14,
   "metadata": {},
   "outputs": [],
   "source": [
    "# Link first node with second \n",
    "a.next = b"
   ]
  },
  {
   "cell_type": "markdown",
   "metadata": {},
   "source": [
    "```\n",
    "Now next of first Node refers to second.  So they \n",
    "both are linked. \n",
    "\n",
    "   head             second             third \n",
    "     |                 |                 | \n",
    "     |                 |                 | \n",
    "+----+------+     +----+------+     +----+------+ \n",
    "| 1  |  o-------->| 2  | null |     |  3 | null | \n",
    "+----+------+     +----+------+     +----+------+\n",
    "```"
   ]
  },
  {
   "cell_type": "code",
   "execution_count": 15,
   "metadata": {},
   "outputs": [],
   "source": [
    "# Link second node with the third node \n",
    "b.next = c"
   ]
  },
  {
   "cell_type": "markdown",
   "metadata": {},
   "source": [
    "```\n",
    "Now next of second Node refers to third.  So all three \n",
    "nodes are linked. \n",
    "\n",
    "   head             second              third \n",
    "     |                 |                 | \n",
    "     |                 |                 | \n",
    "+----+------+     +----+------+     +----+------+ \n",
    "| 1  |  o-------->| 2  |  o-------->|  3 | null | \n",
    "+----+------+     +----+------+     +----+------+  \n",
    "```"
   ]
  },
  {
   "cell_type": "markdown",
   "metadata": {},
   "source": [
    "### 3. Linked List Traversal"
   ]
  },
  {
   "cell_type": "code",
   "execution_count": 16,
   "metadata": {},
   "outputs": [
    {
     "name": "stdout",
     "output_type": "stream",
     "text": [
      "List is: 100  223  32  \n"
     ]
    }
   ],
   "source": [
    "def print_list(node):\n",
    "    print(\"List is: \", end='')\n",
    "    while node is not None:\n",
    "        print(node.data, end=' '*2)\n",
    "        node = node.next\n",
    "    print()\n",
    "\n",
    "print_list(a)"
   ]
  },
  {
   "cell_type": "markdown",
   "metadata": {},
   "source": [
    "### 4. Inserting a node at beginning"
   ]
  },
  {
   "cell_type": "code",
   "execution_count": 17,
   "metadata": {},
   "outputs": [],
   "source": [
    "def insert(head, num):\n",
    "    # Done 3 things automatically\n",
    "    # 1. Assign memory to the new node\n",
    "    # 2. Assign num to the data member of the node\n",
    "    # 3. Assign None to the next member of the node\n",
    "    curr = Node(num)\n",
    "    \n",
    "    # If head is None, then curr.next will be given None\n",
    "    # curr node will be insert infront of head node, so curr.next points to head node\n",
    "    curr.next = head\n",
    "    \n",
    "    # Return curr as the new head node\n",
    "    return curr"
   ]
  },
  {
   "cell_type": "code",
   "execution_count": 18,
   "metadata": {},
   "outputs": [
    {
     "name": "stdout",
     "output_type": "stream",
     "text": [
      "List is: 1  \n",
      "List is: 2  1  \n",
      "List is: 3  2  1  \n",
      "List is: 4  3  2  1  \n",
      "List is: 5  4  3  2  1  \n",
      "List is: 6  5  4  3  2  1  \n",
      "List is: 7  6  5  4  3  2  1  \n",
      "List is: 8  7  6  5  4  3  2  1  \n",
      "List is: 9  8  7  6  5  4  3  2  1  \n",
      "List is: 10  9  8  7  6  5  4  3  2  1  \n"
     ]
    }
   ],
   "source": [
    "head = None\n",
    "for i in range(10):\n",
    "    head = insert(head, i+1)\n",
    "    print_list(head)"
   ]
  },
  {
   "cell_type": "markdown",
   "metadata": {},
   "source": [
    "### 5. Appending a node at end"
   ]
  },
  {
   "cell_type": "code",
   "execution_count": 19,
   "metadata": {},
   "outputs": [
    {
     "name": "stdout",
     "output_type": "stream",
     "text": [
      "2\n",
      "3\n",
      "4\n",
      "5\n",
      "6\n",
      "7\n",
      "8\n",
      "9\n",
      "10\n",
      "1\n"
     ]
    }
   ],
   "source": [
    "def append(tail, num):\n",
    "    if tail is None:\n",
    "        return Node(num)\n",
    "    else:\n",
    "        curr = Node(num)\n",
    "        tail.next = curr\n",
    "        tail = curr\n",
    "        return tail\n",
    "\n",
    "head = tail = None\n",
    "\n",
    "for i in range(10):\n",
    "    if head is None:\n",
    "        head = tail = append(tail, i+1)\n",
    "    else:\n",
    "        tail = append(tail, i+1)\n",
    "    # print_list(head) \n",
    "    \n",
    "tail.next = head\n",
    "\n",
    "tag = head\n",
    "while head is not None:\n",
    "    head = head.next\n",
    "    print(head.data)\n",
    "    \n",
    "    if(head == tag):\n",
    "        break"
   ]
  },
  {
   "cell_type": "code",
   "execution_count": 20,
   "metadata": {},
   "outputs": [
    {
     "name": "stdout",
     "output_type": "stream",
     "text": [
      "List is: 0  \n",
      "List is: 0  1  \n",
      "List is: 0  1  2  \n",
      "List is: 0  1  2  3  \n",
      "List is: 0  1  2  3  4  \n",
      "List is: 0  1  2  3  4  5  \n",
      "List is: 0  1  2  3  4  5  6  \n",
      "List is: 0  1  2  3  4  5  6  7  \n",
      "List is: 0  1  2  3  4  5  6  7  8  \n",
      "List is: 0  1  2  3  4  5  6  7  8  9  \n"
     ]
    }
   ],
   "source": [
    "def append(head, num):\n",
    "    if head is None:\n",
    "        return Node(num)\n",
    "    else:\n",
    "        curr = head\n",
    "        while curr is not None:\n",
    "            tial = curr\n",
    "            curr = curr.next\n",
    "        tial.next = Node(num)\n",
    "        return head\n",
    "\n",
    "head = None\n",
    "for i in range(10):\n",
    "    head = append(head, i)\n",
    "    print_list(head)"
   ]
  },
  {
   "cell_type": "code",
   "execution_count": 21,
   "metadata": {},
   "outputs": [
    {
     "name": "stdout",
     "output_type": "stream",
     "text": [
      "List is: 0  \n",
      "List is: 0  1  \n",
      "List is: 0  1  2  \n",
      "List is: 0  1  2  3  \n",
      "List is: 0  1  2  3  4  \n",
      "List is: 0  1  2  3  4  5  \n",
      "List is: 0  1  2  3  4  5  6  \n",
      "List is: 0  1  2  3  4  5  6  7  \n",
      "List is: 0  1  2  3  4  5  6  7  8  \n",
      "List is: 0  1  2  3  4  5  6  7  8  9  \n"
     ]
    }
   ],
   "source": [
    "def append(head, num):\n",
    "    if head is None:\n",
    "        return Node(num)\n",
    "    else:\n",
    "        head.next = append(head.next, num)\n",
    "        return head\n",
    "\n",
    "head = None\n",
    "for i in range(10):\n",
    "    head = append(head, i)\n",
    "    print_list(head)"
   ]
  },
  {
   "cell_type": "code",
   "execution_count": 20,
   "metadata": {},
   "outputs": [
    {
     "name": "stdout",
     "output_type": "stream",
     "text": [
      "head = 10 -> 9 -> 8 -> 7 -> 6 -> 5 -> 4 -> 3 -> (None)\n"
     ]
    }
   ],
   "source": [
    "# Use this class to create linked lists.\n",
    "class Node:\n",
    "    def __init__(self, value, child=None):\n",
    "        self.value = value\n",
    "        self.child = child\n",
    "\n",
    "    # The string representation of this node.\n",
    "    # Will be used for testing.\n",
    "    def __str__(self):\n",
    "        return str(self.value)\n",
    "\n",
    "    \n",
    "# NOTE: Feel free to use the following function for testing.\n",
    "# It converts the given linked list into an easy-to-read string format.\n",
    "# Example: 7 -> 6 -> 5 -> 4 -> 3 -> 2 -> 1 -> (None)\n",
    "def linked_list_to_string(head):\n",
    "    current = head\n",
    "    str_list = []\n",
    "    while current:\n",
    "        str_list.append(str(current.value))\n",
    "        current = current.child\n",
    "    str_list.append('(None)')\n",
    "    return 'head = ' + ' -> '.join(str_list)\n",
    "\n",
    "\n",
    "def insert(head, num):\n",
    "    # Do 3 things:\n",
    "    # 1. Assign memory to the new node\n",
    "    # 2. Assign num to the data member of the node\n",
    "    if head is None:\n",
    "        head = Node(num)\n",
    "        return head\n",
    "    else:\n",
    "        curr = Node(num)\n",
    "    \n",
    "        # 3. Assign Head to the child member of the node\n",
    "        # curr node will be insert infront of head node, so curr.child points to head node\n",
    "        curr.child = head\n",
    "        head = curr\n",
    "    \n",
    "    # Return head as the new head node\n",
    "    return head\n",
    "\n",
    "\n",
    "# NOTE: The following input values will be used for testing your solution.\n",
    "head = None\n",
    "for i in range(3, 11):\n",
    "    head = insert(head, i)\n",
    "\n",
    "# head = 7 -> 6 -> 5 -> 4 -> 3 -> 2 -> 1 -> (None)\n",
    "\n",
    "print(linked_list_to_string(head))"
   ]
  },
  {
   "cell_type": "code",
   "execution_count": 22,
   "metadata": {},
   "outputs": [
    {
     "name": "stdout",
     "output_type": "stream",
     "text": [
      "10\n"
     ]
    }
   ],
   "source": [
    "print(head)"
   ]
  },
  {
   "cell_type": "code",
   "execution_count": 31,
   "metadata": {},
   "outputs": [
    {
     "name": "stdout",
     "output_type": "stream",
     "text": [
      "3\n",
      "4\n",
      "5\n",
      "6\n",
      "7\n",
      "8\n",
      "9\n",
      "10\n"
     ]
    }
   ],
   "source": [
    "def print_link_list(a_node):\n",
    "    buffer = []\n",
    "    \n",
    "    while(a_node is not None):\n",
    "        buffer.append(a_node.value)\n",
    "        a_node = a_node.child\n",
    "    \n",
    "    for i in reversed(buffer):\n",
    "        print(i)\n",
    "    \n",
    "#     for i in buffer:\n",
    "#         print(i)\n",
    "\n",
    "print_link_list(head)"
   ]
  },
  {
   "cell_type": "code",
   "execution_count": 34,
   "metadata": {},
   "outputs": [
    {
     "name": "stdout",
     "output_type": "stream",
     "text": [
      "0\n",
      "1\n",
      "2\n",
      "3\n",
      "4\n",
      "5\n",
      "6\n",
      "7\n",
      "8\n",
      "9\n",
      "10\n"
     ]
    }
   ],
   "source": [
    "def count_down(number):\n",
    "    if number <= -1:\n",
    "        pass\n",
    "    else:\n",
    "        #print(number)\n",
    "        count_down(number-1)\n",
    "        print(number)\n",
    "        \n",
    "        \n",
    "count_down(10)"
   ]
  },
  {
   "cell_type": "code",
   "execution_count": 37,
   "metadata": {},
   "outputs": [
    {
     "name": "stdout",
     "output_type": "stream",
     "text": [
      "3\n",
      "4\n",
      "5\n",
      "6\n",
      "7\n",
      "8\n",
      "9\n",
      "10\n"
     ]
    }
   ],
   "source": [
    "def print_link_list(a_node):\n",
    "    if(a_node is None):\n",
    "        pass\n",
    "    else:\n",
    "        \n",
    "\n",
    "        print_link_list(a_node.child)\n",
    "        print(a_node)\n",
    "        \n",
    "print_link_list(head)"
   ]
  },
  {
   "cell_type": "code",
   "execution_count": null,
   "metadata": {},
   "outputs": [],
   "source": []
  }
 ],
 "metadata": {
  "kernelspec": {
   "display_name": "Python 3",
   "language": "python",
   "name": "python3"
  },
  "language_info": {
   "codemirror_mode": {
    "name": "ipython",
    "version": 3
   },
   "file_extension": ".py",
   "mimetype": "text/x-python",
   "name": "python",
   "nbconvert_exporter": "python",
   "pygments_lexer": "ipython3",
   "version": "3.7.0"
  }
 },
 "nbformat": 4,
 "nbformat_minor": 2
}
