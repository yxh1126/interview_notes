{
 "cells": [
  {
   "cell_type": "markdown",
   "metadata": {},
   "source": [
    "# Python Iteration - Draw Sierpinski Triangle"
   ]
  },
  {
   "cell_type": "markdown",
   "metadata": {},
   "source": [
    "* Write a single iteration function called `tri_force_iter()` that will draw the __Sierpinski Triangle__.\n",
    "* The function can take in only two parameters; the length of the side of the triangle and the depth of the iteration (in this order).\n",
    "* Each triangle is half the size of the one it is contained in."
   ]
  },
  {
   "cell_type": "markdown",
   "metadata": {},
   "source": [
    "### 1. Review: Breadth first search using queue"
   ]
  },
  {
   "cell_type": "markdown",
   "metadata": {},
   "source": [
    "__Algorithm__:\n",
    "\n",
    "For each node, first the node is visited and then it’s child nodes are put in a FIFO queue.\n",
    "\n",
    "__Implementation__:\n",
    "\n",
    "```python\n",
    "def breadth_first_search(node):\n",
    "    # Create an empty queue\n",
    "    node_queue = []\n",
    "    \n",
    "    # Add the first node to the queue if it is not None\n",
    "    # If the node is None, while loop will not execute, function will reach end\n",
    "    if node is not None:\n",
    "        node_queue.append(node)\n",
    "        \n",
    "    # Always check the front value in the queue\n",
    "    while len(node_queue) > 0:\n",
    "        # Pop out the front value and print the data\n",
    "        front = node_queue.pop(0)\n",
    "        print(front.data, end=' '*2)   \n",
    "        \n",
    "        if front.left is not None:\n",
    "            node_queue.append(front.left)\n",
    "        \n",
    "        if front.right is not None:\n",
    "            node_queue.append(front.right)\n",
    "    print()\n",
    "```"
   ]
  },
  {
   "cell_type": "markdown",
   "metadata": {},
   "source": [
    "### 2. Imagine a tree that has Left, Middle and Right leaf\n",
    "\n",
    "Treat the outermost triangle as the root, the tree height is depends on the order. Each parent node has 3 children - left, middle and right.\n",
    "\n",
    "For each node, first the node is visited and then it’s child nodes are put in a FIFO queue."
   ]
  },
  {
   "cell_type": "code",
   "execution_count": 1,
   "metadata": {},
   "outputs": [
    {
     "name": "stdout",
     "output_type": "stream",
     "text": [
      "400 \t 3 \t START\n",
      "200 \t 2 \t LEFT\n",
      "200 \t 2 \t MIDDLE\n",
      "200 \t 2 \t RIGHT\n",
      "100 \t 1 \t LEFT\n",
      "100 \t 1 \t MIDDLE\n",
      "100 \t 1 \t RIGHT\n",
      "100 \t 1 \t LEFT\n",
      "100 \t 1 \t MIDDLE\n",
      "100 \t 1 \t RIGHT\n",
      "100 \t 1 \t LEFT\n",
      "100 \t 1 \t MIDDLE\n",
      "100 \t 1 \t RIGHT\n"
     ]
    }
   ],
   "source": [
    "def tri_force_iter(length, order):\n",
    "    # Create a empty FIFO queue\n",
    "    node_queue = []\n",
    "    # If the order is greater than zero, store the current length and order info\n",
    "    if order > 0:\n",
    "        node_queue.append((length, order, 'START'))\n",
    "        \n",
    "    while len(node_queue) > 0:\n",
    "        # Pop out the front node, depends on the order size left the child in the FIFO queue\n",
    "        curr_len, curr_order, curr_node = node_queue.pop(0)\n",
    "        \n",
    "        # Print the triangle lenght, just as if we drawing a triangle here\n",
    "        print(curr_len, '\\t', curr_order, '\\t', curr_node)\n",
    "        \n",
    "        # After print out the data, the order decrease 1, means the tree heights decrease 1\n",
    "        curr_order -= 1\n",
    "        \n",
    "        # If the order value is still larger than 1, means the child is exist and add the child to FIFO\n",
    "        # The length of the child node is half the size of its parent\n",
    "        if curr_order > 0:\n",
    "            # Left child node\n",
    "            node_queue.append((curr_len//2, curr_order, 'LEFT'))\n",
    "            # Middle child node\n",
    "            node_queue.append((curr_len//2, curr_order, 'MIDDLE'))\n",
    "            # Right child node\n",
    "            node_queue.append((curr_len//2, curr_order, 'RIGHT'))\n",
    "\n",
    "# Run the function here\n",
    "tri_force_iter(400, 3)"
   ]
  },
  {
   "cell_type": "markdown",
   "metadata": {},
   "source": [
    "### 3. Define the function to draw a single triangle"
   ]
  },
  {
   "cell_type": "code",
   "execution_count": 2,
   "metadata": {},
   "outputs": [],
   "source": [
    "import turtle\n",
    "\n",
    "def draw_triangle(length):\n",
    "    # Reset the turtle start direction\n",
    "    turtle.setheading(180)\n",
    "    # Repeat 3 times for each side\n",
    "    for _ in range(3):\n",
    "        turtle.right(120)\n",
    "        turtle.forward(length)"
   ]
  },
  {
   "cell_type": "markdown",
   "metadata": {},
   "source": [
    "### 4. Replace the `print()` function to `draw_triangle()` function "
   ]
  },
  {
   "cell_type": "code",
   "execution_count": 3,
   "metadata": {},
   "outputs": [],
   "source": [
    "def tri_force_iter(length, order):\n",
    "    # Create a empty FIFO queue\n",
    "    node_queue = []\n",
    "    # If the order is greater than zero, store the current length and order info\n",
    "    if order > 0:\n",
    "        node_queue.append((length, order, 'START'))\n",
    "        \n",
    "    while len(node_queue) > 0:\n",
    "        # Pop out the front node, depends on the order size left the child in the FIFO queue\n",
    "        curr_len, curr_order, curr_node = node_queue.pop(0)\n",
    "        \n",
    "        # Print the triangle lenght, just as if we drawing a triangle here\n",
    "        print(curr_len, '\\t', curr_order, '\\t', curr_node)\n",
    "        draw_triangle(curr_len)\n",
    "        \n",
    "        # After print out the data, the order decrease 1, means the tree heights decrease 1\n",
    "        curr_order -= 1\n",
    "        \n",
    "        # If the order value is still larger than 1, means the child is exist and add the child to FIFO\n",
    "        # The length of the child node is half the size of its parent\n",
    "        if curr_order > 0:\n",
    "            # Left child node\n",
    "            node_queue.append((curr_len//2, curr_order, 'LEFT'))\n",
    "            # Middle child node\n",
    "            node_queue.append((curr_len//2, curr_order, 'MIDDLE'))\n",
    "            # Right child node\n",
    "            node_queue.append((curr_len//2, curr_order, 'RIGHT'))"
   ]
  },
  {
   "cell_type": "markdown",
   "metadata": {},
   "source": [
    "### 5. Figure out the start position of the triangle for each child node"
   ]
  },
  {
   "cell_type": "markdown",
   "metadata": {},
   "source": [
    "* Function that return the turtle's current location (x, y) as avector.\n",
    "\n",
    "```python\n",
    ">>> turtle.pos()\n",
    "(440.00, -0.00)\n",
    "```\n",
    "\n",
    "* Function move turtle to an absolute position. If the pen is down, draw line. Do not change the turtle’s orientation.\n",
    "\n",
    "```python\n",
    ">>> turtle.setpos(60, 30)\n",
    ">>> turtle.pos()\n",
    "(60.00, 30.00)\n",
    "```\n",
    "\n",
    "* The start position of the LEFT child is given from the start position of its parent node.\n",
    "\n",
    "```python\n",
    ">>> start_pos = turtle.pos()\n",
    ">>> node_queue.append((length, order, start_pos))\n",
    ">>> while len(node_queue) > 0:\n",
    ">>>        curr_len, curr_order, pos_left = node_queue.pop(0)\n",
    "```\n",
    "\n",
    "* The start position of the MIDDLE and RIGHT child is calculate by this function:"
   ]
  },
  {
   "cell_type": "code",
   "execution_count": 4,
   "metadata": {},
   "outputs": [],
   "source": [
    "import turtle\n",
    "\n",
    "def next_start_position(length):\n",
    "    # Let the pen up, so it will not draw a line while moving the position\n",
    "    turtle.up()\n",
    "    \n",
    "    turtle.right(120)\n",
    "    turtle.forward(length/2)\n",
    "    # Get the current position as the middle child node's start position\n",
    "    pos_middle = turtle.pos()\n",
    "\n",
    "    turtle.right(120)\n",
    "    turtle.forward(length/2)\n",
    "    # Get the current position as the right child node's start position\n",
    "    pos_right = turtle.pos()\n",
    "    \n",
    "    # Put the pen down to resume drawing lines\n",
    "    turtle.down()\n",
    "    \n",
    "    return (pos_middle, pos_right)"
   ]
  },
  {
   "cell_type": "markdown",
   "metadata": {},
   "source": [
    "### 6. Draw Sierpinski Triangle using iteration"
   ]
  },
  {
   "cell_type": "code",
   "execution_count": 5,
   "metadata": {},
   "outputs": [],
   "source": [
    "import turtle\n",
    "\n",
    "def tri_force_iter(length, order):\n",
    "    # Create a empty FIFO queue\n",
    "    node_queue = []\n",
    "    \n",
    "    # Get the current position as the outermost triangle's start position\n",
    "    start_pos = turtle.pos()\n",
    "    \n",
    "    # If the order is greater than zero, store the current length and order info\n",
    "    if order > 0:\n",
    "        node_queue.append((length, order, start_pos))\n",
    "        \n",
    "    while len(node_queue) > 0:\n",
    "        # Pop out the front node, depends on the order size, add its children into the FIFO queue\n",
    "        curr_len, curr_order, start_left_pos = node_queue.pop(0)\n",
    "        \n",
    "        # Set the start position for each child node\n",
    "        turtle.up() # Not drawing while moving the position\n",
    "        turtle.setpos(start_left_pos)\n",
    "        turtle.down() # Resume drawing\n",
    "        \n",
    "        # Draw a triangle here with the updated starting point, and the current length\n",
    "        draw_triangle(curr_len)\n",
    "        \n",
    "        # After print out the data, the order decrease 1, means the tree heights decrease 1\n",
    "        curr_order -= 1\n",
    "        \n",
    "        # If the order value is still larger than 1, means the child is exist and add the child to FIFO\n",
    "        # The length of the child node is half the size of its parent\n",
    "        if curr_order > 0:\n",
    "            # Based on the current node's position and current triangle length\n",
    "            # calculate the start position of the middle child node and right child node\n",
    "            start_middle_pos, start_right_pos = next_start_position(curr_len)\n",
    "            \n",
    "            # Left child node\n",
    "            node_queue.append((curr_len/2, curr_order, start_left_pos))\n",
    "            # Middle child node\n",
    "            node_queue.append((curr_len/2, curr_order, start_middle_pos))\n",
    "            # Right child node\n",
    "            node_queue.append((curr_len/2, curr_order, start_right_pos))\n",
    "    \n",
    "    # Back to the start position of this function\n",
    "    turtle.setpos(start_pos)"
   ]
  },
  {
   "cell_type": "markdown",
   "metadata": {},
   "source": [
    "### Helper code to run the turtle function"
   ]
  },
  {
   "cell_type": "code",
   "execution_count": 6,
   "metadata": {},
   "outputs": [],
   "source": [
    "import importlib\n",
    "\n",
    "# Reset the Turtle library in every run\n",
    "importlib.reload(turtle)\n",
    "\n",
    "# Prepare a window\n",
    "canvas = turtle.Screen()\n",
    "canvas.bgcolor(\"black\")\n",
    "canvas.title(\"Draw Sierpinski Triangle\")\n",
    "\n",
    "# Set pen color, size and drawing speed\n",
    "turtle.pensize(2)\n",
    "turtle.speed(10)\n",
    "turtle.color(\"white\")\n",
    "\n",
    "# Set the start position of the pen\n",
    "turtle.up()\n",
    "turtle.goto(-350, -300)\n",
    "turtle.down()\n",
    "\n",
    "# Run the target functions below\n",
    "tri_force_iter(400, 3)\n",
    "\n",
    "# Wait for user to close window\n",
    "canvas.mainloop()"
   ]
  },
  {
   "cell_type": "markdown",
   "metadata": {},
   "source": [
    "The output of `tri_force_iter(400, 3)` will be visualize as follow:\n",
    "\n",
    "<img src=\"figure/sierpinski_tri.png\" align=\"left\"/>"
   ]
  }
 ],
 "metadata": {
  "kernelspec": {
   "display_name": "Python 3",
   "language": "python",
   "name": "python3"
  },
  "language_info": {
   "codemirror_mode": {
    "name": "ipython",
    "version": 3
   },
   "file_extension": ".py",
   "mimetype": "text/x-python",
   "name": "python",
   "nbconvert_exporter": "python",
   "pygments_lexer": "ipython3",
   "version": "3.7.4"
  }
 },
 "nbformat": 4,
 "nbformat_minor": 2
}
