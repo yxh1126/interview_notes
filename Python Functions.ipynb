{
 "cells": [
  {
   "cell_type": "code",
   "execution_count": 1,
   "metadata": {
    "scrolled": true
   },
   "outputs": [],
   "source": [
    "from importlib import reload\n",
    "import turtle\n",
    "\n",
    "reload(turtle)\n",
    "canvas = turtle.Screen()\n",
    "\n",
    "canvas.bgcolor('black')\n",
    "\n",
    "pen = turtle.Turtle()\n",
    "pen.color('white') \n",
    "pen.shape('turtle')\n",
    "pen.speed(3)\n",
    "\n",
    "for i in range(4):\n",
    "    pen.fd(200)\n",
    "    pen.lt(90)\n",
    "    \n",
    "canvas.exitonclick()"
   ]
  },
  {
   "cell_type": "code",
   "execution_count": 5,
   "metadata": {},
   "outputs": [],
   "source": [
    "def draw_square(side_len):\n",
    "    for i in range(4):\n",
    "        pen.fd(side_len)\n",
    "        pen.lt(90)"
   ]
  },
  {
   "cell_type": "code",
   "execution_count": 10,
   "metadata": {},
   "outputs": [],
   "source": [
    "import turtle as t\n",
    "import importlib\n",
    "\n",
    "importlib.reload(t)\n",
    "\n",
    "canvas = t.Screen()\n",
    "\n",
    "canvas.bgcolor('black')\n",
    "\n",
    "pen = t.Turtle()\n",
    "pen.color('white') \n",
    "pen.shape('turtle')\n",
    "pen.speed(3)\n",
    "\n",
    "draw_square(100)\n",
    "    \n",
    "canvas.exitonclick()"
   ]
  },
  {
   "cell_type": "markdown",
   "metadata": {},
   "source": [
    "# Define a function"
   ]
  },
  {
   "cell_type": "code",
   "execution_count": 2,
   "metadata": {},
   "outputs": [
    {
     "name": "stdout",
     "output_type": "stream",
     "text": [
      "This is Timothy, he is saying: hello world\n"
     ]
    }
   ],
   "source": [
    "def say_hello(say):\n",
    "    print(\"This is Timothy, he is saying:\", say)\n",
    "    \n",
    "say_hello(\"hello world\")"
   ]
  },
  {
   "cell_type": "code",
   "execution_count": 2,
   "metadata": {},
   "outputs": [
    {
     "name": "stdout",
     "output_type": "stream",
     "text": [
      "('The sum of the number', 10, 'and', 20, 'is', 30)\n"
     ]
    }
   ],
   "source": [
    "def sum_two_numbers(a, b):\n",
    "    c = a + b\n",
    "    print(\"The sum of the number\", a, \"and\", b, \"is\", c)\n",
    "    \n",
    "sum_two_numbers(10, 20)"
   ]
  },
  {
   "cell_type": "code",
   "execution_count": 26,
   "metadata": {},
   "outputs": [
    {
     "name": "stdout",
     "output_type": "stream",
     "text": [
      "The result is:  59\n"
     ]
    }
   ],
   "source": [
    "def sum_two(a, b):\n",
    "    c = a + b\n",
    "    return c\n",
    "\n",
    "res = sum_two(20, 39)\n",
    "print(\"The result is: \", res)"
   ]
  },
  {
   "cell_type": "code",
   "execution_count": 27,
   "metadata": {},
   "outputs": [
    {
     "name": "stdout",
     "output_type": "stream",
     "text": [
      "Hello world!\n"
     ]
    }
   ],
   "source": [
    "def func1():\n",
    "    print('Hello world!')\n",
    "\n",
    "func1()"
   ]
  },
  {
   "cell_type": "code",
   "execution_count": 6,
   "metadata": {},
   "outputs": [
    {
     "name": "stdout",
     "output_type": "stream",
     "text": [
      "Hello world!\n"
     ]
    }
   ],
   "source": [
    "def func2():\n",
    "    word = \"Hello world!\"\n",
    "    return word\n",
    "\n",
    "print(func2())"
   ]
  },
  {
   "cell_type": "code",
   "execution_count": 31,
   "metadata": {},
   "outputs": [
    {
     "name": "stdout",
     "output_type": "stream",
     "text": [
      "None\n"
     ]
    }
   ],
   "source": [
    "def func3():\n",
    "    a = 1\n",
    "    b = 2\n",
    "    c = a + b\n",
    "    return c\n",
    "    \n",
    "print(func3())"
   ]
  },
  {
   "cell_type": "code",
   "execution_count": 36,
   "metadata": {},
   "outputs": [
    {
     "name": "stdout",
     "output_type": "stream",
     "text": [
      "5050\n"
     ]
    }
   ],
   "source": [
    "# res = 1 * 2 * 3 * 4...  * N \n",
    "def multiply_n_numbers(N):\n",
    "    res = 1\n",
    "    \n",
    "    for i in range(N+1):\n",
    "        res = res * i\n",
    "    \n",
    "    print(res)\n",
    "\n",
    "sum_n_numbers(100)"
   ]
  },
  {
   "cell_type": "code",
   "execution_count": 5,
   "metadata": {},
   "outputs": [
    {
     "data": {
      "text/plain": [
       "10"
      ]
     },
     "execution_count": 5,
     "metadata": {},
     "output_type": "execute_result"
    }
   ],
   "source": [
    "10"
   ]
  },
  {
   "cell_type": "code",
   "execution_count": null,
   "metadata": {},
   "outputs": [],
   "source": []
  }
 ],
 "metadata": {
  "kernelspec": {
   "display_name": "Python 3",
   "language": "python",
   "name": "python3"
  },
  "language_info": {
   "codemirror_mode": {
    "name": "ipython",
    "version": 3
   },
   "file_extension": ".py",
   "mimetype": "text/x-python",
   "name": "python",
   "nbconvert_exporter": "python",
   "pygments_lexer": "ipython3",
   "version": "3.7.0"
  }
 },
 "nbformat": 4,
 "nbformat_minor": 2
}
