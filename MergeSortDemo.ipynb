{
 "cells": [
  {
   "cell_type": "code",
   "execution_count": 6,
   "metadata": {},
   "outputs": [
    {
     "name": "stdout",
     "output_type": "stream",
     "text": [
      "[3, 45, 100, 104, 110, 200, 400, 500, 1, 4, 9, 10, 35]\n"
     ]
    }
   ],
   "source": [
    "x = [3, 45, 100, 104, 110, 200, 400, 500]\n",
    "y = [1, 4, 9, 10, 35]\n",
    "\n",
    "# How can you merge the x, and y arry to be sigle sorted array?\n",
    "z = x + y\n",
    "print(z)"
   ]
  },
  {
   "cell_type": "code",
   "execution_count": 12,
   "metadata": {},
   "outputs": [
    {
     "name": "stdout",
     "output_type": "stream",
     "text": [
      "[1, 3, 4, 9, 10, 35, 45, 100, 104, 110, 200, 400, 500]\n"
     ]
    }
   ],
   "source": [
    "def merge_array(x, y):\n",
    "    merged_arr = []\n",
    "    \n",
    "    i = 0\n",
    "    j = 0\n",
    "\n",
    "    while i < len(x) and j < len(y):\n",
    "\n",
    "        x_var = x[i]\n",
    "        y_var = y[j]\n",
    "\n",
    "        if x_var < y_var:\n",
    "            merged_arr.append(x_var)\n",
    "            i += 1\n",
    "        else:\n",
    "            merged_arr.append(y_var)\n",
    "            j += 1\n",
    "\n",
    "    # This while loop is for appending the value which is reaminng in the y arrary\n",
    "    while j < len(y):\n",
    "        merged_arr.append(y[j])\n",
    "        j += 1\n",
    "\n",
    "    while i < len(x):\n",
    "        merged_arr.append(x[i])\n",
    "        i += 1\n",
    "    \n",
    "    return merged_arr\n",
    "\n",
    "arr_1 = [3, 45, 100, 104, 110, 200, 400, 500]\n",
    "arr_2 = [1, 4, 9, 10, 35]\n",
    "\n",
    "res = merge_array(arr_2, arr_1)\n",
    "print(res)"
   ]
  },
  {
   "cell_type": "code",
   "execution_count": 16,
   "metadata": {},
   "outputs": [
    {
     "name": "stdout",
     "output_type": "stream",
     "text": [
      "[-10, -1, 0, 1, 2, 3, 100]\n"
     ]
    }
   ],
   "source": [
    "def split_arr(arr_in):\n",
    "    if len(arr_in) <= 1:\n",
    "        return arr_in\n",
    "    \n",
    "    arr_len = len(arr_in)\n",
    "    mid_len = arr_len // 2\n",
    "\n",
    "    left = arr_in[:mid_len]\n",
    "    right = arr_in[mid_len:]\n",
    "\n",
    "    x = split_arr(left)\n",
    "    y = split_arr(right)\n",
    "    \n",
    "    z = merge_array(x, y)\n",
    "    \n",
    "    return z\n",
    "\n",
    "res = split_arr([3, 2, 1, 0 , -1, -10, 100])\n",
    "print(res)"
   ]
  },
  {
   "cell_type": "code",
   "execution_count": 15,
   "metadata": {},
   "outputs": [
    {
     "name": "stdout",
     "output_type": "stream",
     "text": [
      "[1]\n",
      "[2]\n"
     ]
    }
   ],
   "source": [
    "sample = [1, 2]\n",
    "m = len(sample) // 2\n",
    "\n",
    "left = sample[:m]\n",
    "right = sample[m:]\n",
    "\n",
    "print(left)\n",
    "print(right)"
   ]
  },
  {
   "cell_type": "code",
   "execution_count": null,
   "metadata": {},
   "outputs": [],
   "source": []
  }
 ],
 "metadata": {
  "kernelspec": {
   "display_name": "Python 3",
   "language": "python",
   "name": "python3"
  },
  "language_info": {
   "codemirror_mode": {
    "name": "ipython",
    "version": 3
   },
   "file_extension": ".py",
   "mimetype": "text/x-python",
   "name": "python",
   "nbconvert_exporter": "python",
   "pygments_lexer": "ipython3",
   "version": "3.7.0"
  }
 },
 "nbformat": 4,
 "nbformat_minor": 2
}
