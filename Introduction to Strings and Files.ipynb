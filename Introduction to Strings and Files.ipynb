{
 "cells": [
  {
   "cell_type": "markdown",
   "metadata": {},
   "source": [
    "# Introduction"
   ]
  },
  {
   "cell_type": "markdown",
   "metadata": {},
   "source": [
    "In this lesson you will work with string and files in a Python program; this includes looping strings and looping files."
   ]
  },
  {
   "cell_type": "markdown",
   "metadata": {},
   "source": [
    "# Python String Basics"
   ]
  },
  {
   "cell_type": "markdown",
   "metadata": {},
   "source": [
    "In Python code, a string is written withing __double quotes__, e.g. `\"Hello\"`, or alternately within __single quotes__ like `'Hi'`. \n",
    "\n",
    "Use the `len(s)` function to get the length of a string, and use square brackets to access individual chars inside the string. \n",
    "\n",
    "The chars are numbered starting with 0, and running up to `len(s)-1`."
   ]
  },
  {
   "cell_type": "code",
   "execution_count": 12,
   "metadata": {},
   "outputs": [
    {
     "name": "stdout",
     "output_type": "stream",
     "text": [
      "5\n",
      "H\n",
      "e\n",
      "o\n"
     ]
    }
   ],
   "source": [
    "s = 'Hello'\n",
    "print(len(s))   # 5\n",
    "\n",
    "# Chars are numbered starting with 0\n",
    "print(s[0])     # 'H'\n",
    "print(s[1])     # 'e'\n",
    "print(s[4])     # 'o'  -- last char is at length-1\n",
    "# print(s[5])     # ERROR, index out of bounds"
   ]
  },
  {
   "cell_type": "markdown",
   "metadata": {},
   "source": [
    "Python strings are \"__immutable__\" which means a string can never be changed once created. \n",
    "\n",
    "Use `+` between two strings to put them together to make a larger string:"
   ]
  },
  {
   "cell_type": "code",
   "execution_count": 10,
   "metadata": {},
   "outputs": [
    {
     "name": "stdout",
     "output_type": "stream",
     "text": [
      "Hello\n",
      "Hello hi!\n"
     ]
    }
   ],
   "source": [
    "s = 'Hello'\n",
    "t = 'Hello' + ' hi!'   # t is 'Hello hi!'\n",
    "print(s)\n",
    "print(t)"
   ]
  },
  {
   "cell_type": "markdown",
   "metadata": {},
   "source": [
    "__Negative Index:__ \n",
    "\n",
    "As an alternative, Python supports using `negative numbers` to index into a string: `-1` means the `last char`, `-2` is the `next to last`, and so on. \n",
    "\n",
    "In other words `-1` is the same as the index `len(s)-1`, `-2` is the same as `len(s)-2`. \n",
    "\n",
    "* The regular index numbers make it convenient to refer to the chars at the start of the string, using 0, 1, etc. \n",
    "\n",
    "* The negative numbers work analogously for the chars at the end of the string with -1, -2, etc. working from the right side."
   ]
  },
  {
   "cell_type": "code",
   "execution_count": 13,
   "metadata": {},
   "outputs": [
    {
     "name": "stdout",
     "output_type": "stream",
     "text": [
      "n\n",
      "o\n"
     ]
    }
   ],
   "source": [
    "s = 'Monty Python'\n",
    "#      -987654321     # negative index numbers\n",
    "\n",
    "print(s[-1])  #  'n', refer to the last character\n",
    "print(s[-2])  #  'o', refer to the next to last character"
   ]
  },
  {
   "cell_type": "markdown",
   "metadata": {},
   "source": [
    "<img src=\"figure/str_index.jpg\" align=\"left\"/>"
   ]
  },
  {
   "cell_type": "markdown",
   "metadata": {},
   "source": [
    "# String Slices"
   ]
  },
  {
   "cell_type": "markdown",
   "metadata": {},
   "source": [
    "A \"__slice__\" in Python is powerful way of referring to sub-parts of a string. The syntax is `s[i:j]` meaning the substring starting at index `i`, running up to but not including index `j`.\n",
    "\n",
    "```python\n",
    "  s = 'Hello'\n",
    "  #    01234    #  Showing the index numbers for the 'Hello'\n",
    "  s[1:4]  #  'ell' -- starting at 1, up to but not including 4\n",
    "  s[0:2]  #  'He'\n",
    "```\n",
    "\n",
    "If the first slice number is omitted, it just uses the start of the string, and likewise if the second slice number is omitted, the slice runs through the end of the string.\n",
    "\n",
    "```python\n",
    "  s = 'Hello'\n",
    "  #    01234\n",
    "  s[:2]  #  'He', omit first number uses start of string\n",
    "  s[2:]  #  'llo', omit second number uses end of string\n",
    "```\n",
    "\n",
    "Use the slice syntax to refer to parts of a string and `+` to put parts together to make bigger strings.\n",
    "\n",
    "```python\n",
    "  a = 'Hi!'\n",
    "  b = 'Hello'\n",
    "\n",
    "  # Compute c as the first 2 chars of a followed by the last 2 chars of b\n",
    "  c = a[:2] + b[len(b)-2:]  #  'Hilo'\n",
    "```\n",
    "\n",
    "A bad index in Python, e.g. `s[100]` for the string `\"Hello\"`, is a runtime error. \n",
    "\n",
    "However, slices work differently. If an index number in a slice is out of bounds, it is ignored and the slice uses the start or end of the string."
   ]
  },
  {
   "cell_type": "markdown",
   "metadata": {},
   "source": [
    "My favorite search engine is [Duck Duck Go](https://codingbat.com/doc/python-strings.html)."
   ]
  },
  {
   "cell_type": "code",
   "execution_count": null,
   "metadata": {},
   "outputs": [],
   "source": []
  },
  {
   "cell_type": "markdown",
   "metadata": {},
   "source": [
    "# Python `print()` Function Basics"
   ]
  },
  {
   "cell_type": "code",
   "execution_count": null,
   "metadata": {},
   "outputs": [],
   "source": [
    "# new line symbol\n",
    "print('abc', end='\\n')\n",
    "print('abc')\n",
    "\n",
    "print('safsabc', end='\\n')\n",
    "\n",
    "print('hello', end='\\n')\n",
    "print('dsfa')"
   ]
  },
  {
   "cell_type": "markdown",
   "metadata": {},
   "source": [
    "# Basic `for` Loop"
   ]
  },
  {
   "cell_type": "markdown",
   "metadata": {},
   "source": [
    "First, create a very basic function, called `loop_string()`, that will take in a string and print each character on a separate line."
   ]
  },
  {
   "cell_type": "code",
   "execution_count": 25,
   "metadata": {},
   "outputs": [
    {
     "name": "stdout",
     "output_type": "stream",
     "text": [
      "M\n",
      "o\n",
      "n\n",
      "t\n",
      "y\n",
      " \n",
      "P\n",
      "y\n",
      "t\n",
      "h\n",
      "o\n",
      "n\n"
     ]
    }
   ],
   "source": [
    "def loop_string(strs):\n",
    "    for chars in strs:\n",
    "        print(chars)\n",
    "\n",
    "my_str = \"Monty Python\"\n",
    "loop_string(my_str)"
   ]
  },
  {
   "cell_type": "markdown",
   "metadata": {},
   "source": [
    "We can also do this loop using a range:"
   ]
  },
  {
   "cell_type": "code",
   "execution_count": 6,
   "metadata": {},
   "outputs": [
    {
     "name": "stdout",
     "output_type": "stream",
     "text": [
      "M\n",
      "o\n",
      "n\n",
      "t\n",
      "y\n",
      " \n",
      "P\n",
      "y\n",
      "t\n",
      "h\n",
      "o\n",
      "n\n"
     ]
    }
   ],
   "source": [
    "def loop_string(strs):\n",
    "    for i in range(len(strs)):\n",
    "        print(strs[i])\n",
    "\n",
    "my_str = \"Monty Python\"\n",
    "loop_string(my_str)    "
   ]
  },
  {
   "cell_type": "markdown",
   "metadata": {},
   "source": [
    "This will loop starting at zero and go up to but not including the length of the string. \n",
    "\n",
    "Lets change the print statement to `print(i, strs[i])`. This will add the index number before the character."
   ]
  },
  {
   "cell_type": "code",
   "execution_count": 7,
   "metadata": {},
   "outputs": [
    {
     "name": "stdout",
     "output_type": "stream",
     "text": [
      "0 M\n",
      "1 o\n",
      "2 n\n",
      "3 t\n",
      "4 y\n",
      "5  \n",
      "6 P\n",
      "7 y\n",
      "8 t\n",
      "9 h\n",
      "10 o\n",
      "11 n\n"
     ]
    }
   ],
   "source": [
    "def loop_string(strs):\n",
    "    for i in range(len(strs)):\n",
    "        print(i, strs[i])\n",
    "\n",
    "my_str = \"Monty Python\"\n",
    "loop_string(my_str) "
   ]
  },
  {
   "cell_type": "markdown",
   "metadata": {},
   "source": [
    "Note: Strings are zero indexed, therefore the first character is at index 0. Also nothing the line with just the 5. This is due to the space at index 5. It is a character but does not actually print anything; a whitespace character."
   ]
  },
  {
   "cell_type": "markdown",
   "metadata": {},
   "source": [
    "# Reading from a File"
   ]
  },
  {
   "cell_type": "code",
   "execution_count": 24,
   "metadata": {},
   "outputs": [
    {
     "name": "stdout",
     "output_type": "stream",
     "text": [
      "The Zen of Python, by Tim Peters\n",
      "\n",
      "\n",
      "\n",
      "Beautiful is better than ugly.\n",
      "\n",
      "Explicit is better than implicit.\n",
      "\n",
      "Simple is better than complex.\n",
      "\n",
      "Complex is better than complicated.\n",
      "\n",
      "Flat is better than nested.\n",
      "\n",
      "Sparse is better than dense.\n",
      "\n",
      "Readability counts.\n",
      "\n",
      "Special cases aren't special enough to break the rules.\n",
      "\n",
      "Although practicality beats purity.\n",
      "\n",
      "Errors should never pass silently.\n",
      "\n",
      "Unless explicitly silenced.\n",
      "\n",
      "In the face of ambiguity, refuse the temptation to guess.\n",
      "\n",
      "There should be one-- and preferably only one --obvious way to do it.\n",
      "\n",
      "Although that way may not be obvious at first unless you're Dutch.\n",
      "\n",
      "Now is better than never.\n",
      "\n",
      "Although never is often better than *right* now.\n",
      "\n",
      "If the implementation is hard to explain, it's a bad idea.\n",
      "\n",
      "If the implementation is easy to explain, it may be a good idea.\n",
      "\n",
      "Namespaces are one honking great idea -- let's do more of those!\n"
     ]
    }
   ],
   "source": [
    "poem = open('./files/zen_of_python.txt')\n",
    "for line in poem:\n",
    "    print(line)\n",
    "\n",
    "    \n"
   ]
  },
  {
   "cell_type": "code",
   "execution_count": 22,
   "metadata": {},
   "outputs": [
    {
     "name": "stdout",
     "output_type": "stream",
     "text": [
      "The Zen of Python, by Tim Peters\n",
      "\n",
      "Beautiful is better than ugly.\n",
      "Explicit is better than implicit.\n",
      "Simple is better than complex.\n",
      "Complex is better than complicated.\n",
      "Flat is better than nested.\n",
      "Sparse is better than dense.\n",
      "Readability counts.\n",
      "Special cases aren't special enough to break the rules.\n",
      "Although practicality beats purity.\n",
      "Errors should never pass silently.\n",
      "Unless explicitly silenced.\n",
      "In the face of ambiguity, refuse the temptation to guess.\n",
      "There should be one-- and preferably only one --obvious way to do it.\n",
      "Although that way may not be obvious at first unless you're Dutch.\n",
      "Now is better than never.\n",
      "Although never is often better than *right* now.\n",
      "If the implementation is hard to explain, it's a bad idea.\n",
      "If the implementation is easy to explain, it may be a good idea.\n",
      "Namespaces are one honking great idea -- let's do more of those!\n",
      "abcdef\n",
      "abcefsd\n",
      "\n",
      "\n"
     ]
    }
   ],
   "source": [
    "import this\n",
    "\n",
    "def read_file( file_name ):\n",
    "    for line in open( file_name ):\n",
    "        print( line.strip() )\n",
    "read_file('input1.txt')"
   ]
  },
  {
   "cell_type": "code",
   "execution_count": null,
   "metadata": {},
   "outputs": [],
   "source": [
    "\n",
    "\n",
    "\n",
    "\n"
   ]
  },
  {
   "cell_type": "code",
   "execution_count": 24,
   "metadata": {},
   "outputs": [
    {
     "name": "stdout",
     "output_type": "stream",
     "text": [
      "['this', 'is', 'a', 'python', 'string']\n",
      "5\n"
     ]
    }
   ],
   "source": [
    "my_str = \"this is a python string\"\n",
    "\n",
    "my_words = my_str.split()\n",
    "\n",
    "print(my_words)\n",
    "print(len(my_words))\n"
   ]
  },
  {
   "cell_type": "code",
   "execution_count": 18,
   "metadata": {},
   "outputs": [
    {
     "name": "stdout",
     "output_type": "stream",
     "text": [
      "n\n",
      "12\n",
      "Python\n",
      "Monty\n",
      "Monty\n",
      "Python\n"
     ]
    }
   ],
   "source": [
    "my_str1 = 'Monty Python'\n",
    "print(my_str1[-1])\n",
    "print(len(my_str1))\n",
    "\n",
    "print(my_str1[6:12])\n",
    "print(my_str1[0:5])\n",
    "\n",
    "print(my_str1[:5])\n",
    "\n",
    "print(my_str1[6:])"
   ]
  },
  {
   "cell_type": "code",
   "execution_count": 12,
   "metadata": {},
   "outputs": [
    {
     "name": "stdout",
     "output_type": "stream",
     "text": [
      "M\n",
      "o\n",
      "n\n",
      "t\n",
      "y\n",
      " \n",
      "P\n",
      "y\n",
      "t\n",
      "h\n",
      "o\n",
      "n\n"
     ]
    }
   ],
   "source": [
    "for c in my_str1:\n",
    "    print(c)"
   ]
  },
  {
   "cell_type": "code",
   "execution_count": 11,
   "metadata": {},
   "outputs": [
    {
     "name": "stdout",
     "output_type": "stream",
     "text": [
      "M\n",
      "o\n",
      "n\n",
      "t\n",
      "y\n",
      " \n",
      "P\n",
      "y\n",
      "t\n",
      "h\n",
      "o\n",
      "n\n"
     ]
    }
   ],
   "source": [
    "for c in range(len(my_str1)):\n",
    "    print(my_str1[c])"
   ]
  },
  {
   "cell_type": "code",
   "execution_count": 28,
   "metadata": {},
   "outputs": [
    {
     "name": "stdout",
     "output_type": "stream",
     "text": [
      "hello world1\n",
      "1\n",
      "1\n"
     ]
    }
   ],
   "source": [
    "st = 'hello world'\n",
    "\n",
    "print(st + str(1))\n",
    "\n",
    "print(1)\n",
    "print(str(1))"
   ]
  },
  {
   "cell_type": "code",
   "execution_count": 44,
   "metadata": {},
   "outputs": [
    {
     "name": "stdout",
     "output_type": "stream",
     "text": [
      "2\n"
     ]
    }
   ],
   "source": [
    "my_str1 = 'hello there'\n",
    "\n",
    "# question: count how many 'e' in the string?\n",
    "res = my_str1.count('h')\n",
    "print(res)"
   ]
  },
  {
   "cell_type": "code",
   "execution_count": 46,
   "metadata": {},
   "outputs": [
    {
     "name": "stdout",
     "output_type": "stream",
     "text": [
      "3\n"
     ]
    }
   ],
   "source": [
    "def count_char(str_var, target_char):\n",
    "    counter = 0\n",
    "    \n",
    "    for s in str_var:\n",
    "        if s == target_char:\n",
    "            counter += 1\n",
    "        \n",
    "my_str1 = 'hello there'\n",
    "res = count_ch\n",
    "    return counter\n",
    "ar(my_str1, 'e')\n",
    "\n",
    "print(res)\n",
    "    "
   ]
  },
  {
   "cell_type": "code",
   "execution_count": 48,
   "metadata": {},
   "outputs": [
    {
     "name": "stdout",
     "output_type": "stream",
     "text": [
      "2\n"
     ]
    }
   ],
   "source": [
    "def chars_in_file(file_name, target_char):\n",
    "    contents = open(file_name)\n",
    "    res = 0\n",
    "    for s in contents:\n",
    "        res += count_char(s, target_char)\n",
    "        \n",
    "    return res\n",
    "\n",
    "ans = chars_in_file('input1.txt', 'a')\n",
    "print(ans)"
   ]
  },
  {
   "cell_type": "code",
   "execution_count": 27,
   "metadata": {},
   "outputs": [
    {
     "name": "stdout",
     "output_type": "stream",
     "text": [
      "Mandy ZHU\n"
     ]
    }
   ],
   "source": [
    "def full_name(first_name, last_name):\n",
    "    return (\"%s %s\" % (first_name.capitalize(), last_name.upper()))\n",
    "print(full_name('mandy', 'zhu'))"
   ]
  },
  {
   "cell_type": "code",
   "execution_count": null,
   "metadata": {},
   "outputs": [],
   "source": []
  },
  {
   "cell_type": "code",
   "execution_count": null,
   "metadata": {},
   "outputs": [],
   "source": []
  }
 ],
 "metadata": {
  "kernelspec": {
   "display_name": "Python 3",
   "language": "python",
   "name": "python3"
  },
  "language_info": {
   "codemirror_mode": {
    "name": "ipython",
    "version": 3
   },
   "file_extension": ".py",
   "mimetype": "text/x-python",
   "name": "python",
   "nbconvert_exporter": "python",
   "pygments_lexer": "ipython3",
   "version": "3.7.4"
  }
 },
 "nbformat": 4,
 "nbformat_minor": 2
}
