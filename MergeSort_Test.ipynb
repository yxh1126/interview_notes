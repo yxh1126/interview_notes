{
 "cells": [
  {
   "cell_type": "code",
   "execution_count": 146,
   "metadata": {},
   "outputs": [
    {
     "name": "stdout",
     "output_type": "stream",
     "text": [
      "9\n",
      "[4119, 1716, 5052, 4553, 3296, 8302, 3068, 3562, 1102]\n"
     ]
    }
   ],
   "source": [
    "import random\n",
    "\n",
    "num_list = []\n",
    "length = random.randint(5, 21)\n",
    "print(length)\n",
    "\n",
    "for i in range(length):\n",
    "    num_list.append(random.randint(0, 10000))\n",
    "\n",
    "print(num_list)"
   ]
  },
  {
   "cell_type": "code",
   "execution_count": 147,
   "metadata": {},
   "outputs": [
    {
     "name": "stdout",
     "output_type": "stream",
     "text": [
      "4\n"
     ]
    }
   ],
   "source": [
    "list_len = len(num_list)\n",
    "div = list_len // 2\n",
    "print(div)"
   ]
  },
  {
   "cell_type": "code",
   "execution_count": 148,
   "metadata": {},
   "outputs": [
    {
     "name": "stdout",
     "output_type": "stream",
     "text": [
      "[4119, 1716, 5052, 4553]\n",
      "[3296, 8302, 3068, 3562, 1102]\n"
     ]
    }
   ],
   "source": [
    "print(num_list[:div])\n",
    "print(num_list[div:])"
   ]
  },
  {
   "cell_type": "code",
   "execution_count": 149,
   "metadata": {},
   "outputs": [
    {
     "name": "stdout",
     "output_type": "stream",
     "text": [
      "e\n"
     ]
    }
   ],
   "source": [
    "a = 'abcdefghijklmn'\n",
    "print(a[4:5])"
   ]
  },
  {
   "cell_type": "code",
   "execution_count": 150,
   "metadata": {},
   "outputs": [],
   "source": [
    "def mergeSort(alist, layer):\n",
    "#     print(\"Splitting:\", alist)\n",
    "    \n",
    "    if len(alist) > 1:\n",
    "        mid = len(alist) // 2\n",
    "        lefthalf = alist[:mid]\n",
    "        righthalf = alist[mid:]\n",
    "\n",
    "        # Recursion\n",
    "        layer += 1\n",
    "        mergeSort(lefthalf, layer)\n",
    "        mergeSort(righthalf, layer)\n",
    "    else:\n",
    "        print(layer)\n",
    "        print(alist)"
   ]
  },
  {
   "cell_type": "code",
   "execution_count": 151,
   "metadata": {},
   "outputs": [
    {
     "name": "stdout",
     "output_type": "stream",
     "text": [
      "3\n",
      "[4119]\n",
      "3\n",
      "[1716]\n",
      "3\n",
      "[5052]\n",
      "3\n",
      "[4553]\n",
      "3\n",
      "[3296]\n",
      "3\n",
      "[8302]\n",
      "3\n",
      "[3068]\n",
      "4\n",
      "[3562]\n",
      "4\n",
      "[1102]\n"
     ]
    }
   ],
   "source": [
    "mergeSort(num_list, 0)"
   ]
  },
  {
   "cell_type": "code",
   "execution_count": 152,
   "metadata": {},
   "outputs": [
    {
     "name": "stdout",
     "output_type": "stream",
     "text": [
      "1\n",
      "[12]\n",
      "[13]\n"
     ]
    }
   ],
   "source": [
    "print(2//2)\n",
    "b = [12, 13]\n",
    "print(b[:1])\n",
    "print(b[1:])"
   ]
  },
  {
   "cell_type": "code",
   "execution_count": 153,
   "metadata": {},
   "outputs": [
    {
     "name": "stdout",
     "output_type": "stream",
     "text": [
      "0\n",
      "[]\n",
      "[12]\n"
     ]
    }
   ],
   "source": [
    "print(1//2)\n",
    "b = [12]\n",
    "print(b[:0])\n",
    "print(b[0:])"
   ]
  },
  {
   "cell_type": "code",
   "execution_count": 154,
   "metadata": {},
   "outputs": [
    {
     "name": "stdout",
     "output_type": "stream",
     "text": [
      "1\n",
      "18\n",
      "[4119, 1716, 5052, 4553, 3296, 8302, 3068, 3562, 1102]\n",
      "[1716, 1102]\n"
     ]
    }
   ],
   "source": [
    "0//2\n",
    "a = [18]\n",
    "print(len(a))\n",
    "print(a[0])\n",
    "print(num_list)\n",
    "res = [a for a in num_list if a <= 3000]\n",
    "print(res)"
   ]
  },
  {
   "cell_type": "code",
   "execution_count": 155,
   "metadata": {},
   "outputs": [
    {
     "name": "stdout",
     "output_type": "stream",
     "text": [
      "[1102, 1716, 3068, 3296, 3562, 4119, 4553, 5052, 8302]\n"
     ]
    }
   ],
   "source": [
    "def quickSort(alist):\n",
    "    if len(alist) <= 1:\n",
    "        return alist\n",
    "    else:\n",
    "        pivot = alist[len(alist)//2]\n",
    "        left = [i for i in alist if i < pivot]\n",
    "        middle = [j for j in alist if j == pivot]\n",
    "        right = [k for k in alist if k > pivot]\n",
    "        return quickSort(left) + middle + quickSort(right)\n",
    "\n",
    "print(quickSort(num_list))"
   ]
  },
  {
   "cell_type": "code",
   "execution_count": 156,
   "metadata": {},
   "outputs": [
    {
     "name": "stdout",
     "output_type": "stream",
     "text": [
      "[1716, 4119, 4553, 5052]\n",
      "[1102, 3068, 3296, 3562, 8302]\n"
     ]
    }
   ],
   "source": [
    "mid = len(num_list) // 2\n",
    "lefthalf = quickSort(num_list[:mid])\n",
    "righthalf = quickSort(num_list[mid:])\n",
    "print(lefthalf)\n",
    "print(righthalf)"
   ]
  },
  {
   "cell_type": "code",
   "execution_count": 157,
   "metadata": {},
   "outputs": [
    {
     "name": "stdout",
     "output_type": "stream",
     "text": [
      "[1102, 1716, 3068, 3296, 3562, 4119, 4553, 5052, 8302]\n",
      "4 5\n"
     ]
    }
   ],
   "source": [
    "i = j = 0\n",
    "m = []\n",
    "while i < len(lefthalf) and j < len(righthalf):\n",
    "    if lefthalf[i] < righthalf[j]:\n",
    "        m.append(lefthalf[i])\n",
    "        i += 1\n",
    "    else:\n",
    "        m.append(righthalf[j])\n",
    "        j += 1\n",
    "\n",
    "while i < len(lefthalf):\n",
    "    m.append(lefthalf[i])\n",
    "    i += 1\n",
    "\n",
    "while j < len(righthalf):\n",
    "    m.append(righthalf[j])\n",
    "    j += 1\n",
    "\n",
    "print(m)\n",
    "print(i, j)       "
   ]
  },
  {
   "cell_type": "code",
   "execution_count": 158,
   "metadata": {},
   "outputs": [
    {
     "name": "stdout",
     "output_type": "stream",
     "text": [
      "[10, 11, 12, 13, 14, 15, 16, 17, 18, 19, 30, 31, 32, 33, 34, 35, 36, 37, 38, 39]\n"
     ]
    }
   ],
   "source": [
    "def merge_list(lefthalf, righthalf):\n",
    "    i = j = 0\n",
    "    m = []\n",
    "    while i < len(lefthalf) and j < len(righthalf):\n",
    "        if lefthalf[i] < righthalf[j]:\n",
    "            m.append(lefthalf[i])\n",
    "            i += 1\n",
    "        else:\n",
    "            m.append(righthalf[j])\n",
    "            j += 1\n",
    "\n",
    "    while i < len(lefthalf):\n",
    "        m.append(lefthalf[i])\n",
    "        i += 1\n",
    "\n",
    "    while j < len(righthalf):\n",
    "        m.append(righthalf[j])\n",
    "        j += 1\n",
    "    \n",
    "    return m\n",
    "\n",
    "a = list(range(30, 40))\n",
    "b = list(range(10, 20))\n",
    "\n",
    "print(merge_list(a, b))"
   ]
  },
  {
   "cell_type": "code",
   "execution_count": 159,
   "metadata": {},
   "outputs": [],
   "source": [
    "def merge_sort(alist): \n",
    "    if len(alist) > 1:\n",
    "        mid = len(alist) // 2\n",
    "        lefthalf = alist[:mid]\n",
    "        righthalf = alist[mid:]\n",
    "\n",
    "        # Recursion\n",
    "        left = merge_sort(lefthalf)\n",
    "        right = merge_sort(righthalf)\n",
    "        \n",
    "        return left + right\n",
    "    else:\n",
    "        return alist"
   ]
  },
  {
   "cell_type": "code",
   "execution_count": 166,
   "metadata": {},
   "outputs": [
    {
     "name": "stdout",
     "output_type": "stream",
     "text": [
      "[1102, 1716, 3068, 3296, 3562, 4119, 4553, 5052, 8302]\n",
      "[1102]\n",
      "[1716]\n",
      "0 1102\n",
      "1 1716\n",
      "[1102, 1716]\n",
      "[3068]\n",
      "[3296]\n",
      "0 3068\n",
      "1 3296\n",
      "[3068, 3296]\n",
      "0 1102\n",
      "1 1716\n",
      "2 3068\n",
      "3 3296\n",
      "[1102, 1716, 3068, 3296]\n",
      "[3562]\n",
      "[4119]\n",
      "0 3562\n",
      "1 4119\n",
      "[3562, 4119]\n",
      "[4553]\n",
      "[5052]\n",
      "[8302]\n",
      "0 5052\n",
      "1 8302\n",
      "[5052, 8302]\n",
      "0 4553\n",
      "1 5052\n",
      "2 8302\n",
      "[4553, 5052, 8302]\n",
      "0 3562\n",
      "1 4119\n",
      "2 4553\n",
      "3 5052\n",
      "4 8302\n",
      "[3562, 4119, 4553, 5052, 8302]\n",
      "0 1102\n",
      "1 1716\n",
      "2 3068\n",
      "3 3296\n",
      "4 3562\n",
      "5 4119\n",
      "6 4553\n",
      "7 5052\n",
      "8 8302\n",
      "[1102, 1716, 3068, 3296, 3562, 4119, 4553, 5052, 8302]\n",
      "[1102, 1716, 3068, 3296, 3562, 4119, 4553, 5052, 8302]\n"
     ]
    }
   ],
   "source": [
    "def mergeSort(myList):\n",
    "#     print(myList)\n",
    "    if len(myList) > 1:\n",
    "        mid = len(myList) // 2\n",
    "        left = myList[:mid]\n",
    "        right = myList[mid:]\n",
    "\n",
    "        # Recursive call on each half\n",
    "        mergeSort(left)\n",
    "        mergeSort(right)\n",
    "\n",
    "        # Two iterators for traversing the two halves\n",
    "        i = 0\n",
    "        j = 0\n",
    "        \n",
    "        # Iterator for the main list\n",
    "        k = 0\n",
    "        \n",
    "        while i < len(left) and j < len(right):\n",
    "            if left[i] < right[j]:\n",
    "                # The value from the left half has been used\n",
    "                myList[k] = left[i]\n",
    "                # Move the iterator forward\n",
    "                i += 1\n",
    "            else:\n",
    "                myList[k] = right[j]\n",
    "                j += 1\n",
    "                \n",
    "            print(k, myList[k])\n",
    "            # Move to the next slot\n",
    "            k += 1\n",
    "            \n",
    "        # For all the remaining values\n",
    "        while i < len(left):\n",
    "            myList[k] = left[i]\n",
    "            print(k, myList[k])\n",
    "            i += 1\n",
    "            k += 1\n",
    "            \n",
    "        while j < len(right):\n",
    "            myList[k]=right[j]\n",
    "            print(k, myList[k])\n",
    "            j += 1\n",
    "            k += 1\n",
    "    print(myList)\n",
    "\n",
    "print(num_list)\n",
    "myList = [54,26,93,17,77,31,44,55,20]\n",
    "mergeSort(num_list)\n",
    "print(num_list)"
   ]
  },
  {
   "cell_type": "code",
   "execution_count": null,
   "metadata": {},
   "outputs": [],
   "source": []
  }
 ],
 "metadata": {
  "kernelspec": {
   "display_name": "Python 3",
   "language": "python",
   "name": "python3"
  },
  "language_info": {
   "codemirror_mode": {
    "name": "ipython",
    "version": 3
   },
   "file_extension": ".py",
   "mimetype": "text/x-python",
   "name": "python",
   "nbconvert_exporter": "python",
   "pygments_lexer": "ipython3",
   "version": "3.7.0"
  }
 },
 "nbformat": 4,
 "nbformat_minor": 2
}
