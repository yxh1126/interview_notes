{
 "cells": [
  {
   "cell_type": "markdown",
   "metadata": {},
   "source": [
    "# Section 1: Comparison Based Sorting"
   ]
  },
  {
   "cell_type": "markdown",
   "metadata": {},
   "source": [
    "### 1. Selection Sort Algorithm"
   ]
  },
  {
   "cell_type": "code",
   "execution_count": 12,
   "metadata": {},
   "outputs": [
    {
     "name": "stdout",
     "output_type": "stream",
     "text": [
      "Sorted array is:\n",
      "[11, 12, 22, 25, 64]\n"
     ]
    }
   ],
   "source": [
    "# Python program for implementation of Selection Sort  \n",
    "A = [64, 25, 12, 22, 11] \n",
    "\n",
    "# Traverse through all array elements \n",
    "for i in range(len(A)-1):\n",
    "    # Find the minimum element in remaining \n",
    "    # unsorted array \n",
    "    min_idx = i \n",
    "    for j in range(i+1, len(A)): \n",
    "        if A[min_idx] > A[j]: \n",
    "            min_idx = j \n",
    "         \n",
    "    # Swap the found minimum element with \n",
    "    # the first element\n",
    "    if min_idx != i:\n",
    "        A[i], A[min_idx] = A[min_idx], A[i] \n",
    "\n",
    "# Driver code to test above \n",
    "print(\"Sorted array is:\") \n",
    "print(A)"
   ]
  },
  {
   "cell_type": "markdown",
   "metadata": {},
   "source": [
    "### 2. Bubble Sort Algorithm"
   ]
  },
  {
   "cell_type": "code",
   "execution_count": 3,
   "metadata": {},
   "outputs": [
    {
     "name": "stdout",
     "output_type": "stream",
     "text": [
      "Sorted array is:\n",
      "[11, 12, 22, 25, 34, 64, 90]\n"
     ]
    }
   ],
   "source": [
    "# Python program for implementation of Bubble Sort \n",
    "def bubbleSort(arr): \n",
    "    n = len(arr) \n",
    "\n",
    "    # Traverse through all array elements \n",
    "    for i in range(n-1): \n",
    "    # range(n) also work but outer loop will repeat one time more than needed. \n",
    "        flag = True\n",
    "        # Last i elements are already in place \n",
    "        for j in range(0, n-i-1): \n",
    "            \n",
    "            # Traverse the array from 0 to n-i-1 \n",
    "            # Swap if the element found is greater \n",
    "            # than the next element \n",
    "            if arr[j] > arr[j+1] : \n",
    "                arr[j], arr[j+1] = arr[j+1], arr[j] \n",
    "                flag = False\n",
    "        \n",
    "        if flag:\n",
    "            break\n",
    "                \n",
    "# Driver code to test above \n",
    "arr = [64, 34, 25, 12, 22, 11, 90] \n",
    "\n",
    "bubbleSort(arr) \n",
    "\n",
    "print (\"Sorted array is:\") \n",
    "print(arr)"
   ]
  },
  {
   "cell_type": "markdown",
   "metadata": {},
   "source": [
    "### 3. Insertion Sort Algorithm"
   ]
  },
  {
   "cell_type": "code",
   "execution_count": 4,
   "metadata": {},
   "outputs": [
    {
     "name": "stdout",
     "output_type": "stream",
     "text": [
      "Sorted array is:\n",
      "[2, 3, 4, 5, 6, 11, 12, 13, 134]\n"
     ]
    }
   ],
   "source": [
    "# Python program for implementation of Insertion Sort\n",
    "def insertionSort(arr): \n",
    "    # Traverse through 1 to len(arr) \n",
    "    for i in range(1, len(arr)): \n",
    "        \n",
    "        key = arr[i] \n",
    "\n",
    "        # Move elements of arr[0..i-1], that are \n",
    "        # greater than key, to one position ahead \n",
    "        # of their current position \n",
    "        j = i\n",
    "        while j > 0 and arr[j-1] > key: \n",
    "            arr[j] = arr[j-1] \n",
    "            j = j - 1\n",
    "            \n",
    "        arr[j] = key \n",
    "\n",
    "# Driver code to test above \n",
    "arr = [12, 11, 13, 5, 6, 3, 2, 4, 134] \n",
    "\n",
    "insertionSort(arr)\n",
    "\n",
    "print(\"Sorted array is:\") \n",
    "print(arr)"
   ]
  },
  {
   "cell_type": "markdown",
   "metadata": {},
   "source": [
    "### 4. Quick Sort Algorithm"
   ]
  },
  {
   "cell_type": "code",
   "execution_count": 30,
   "metadata": {},
   "outputs": [
    {
     "name": "stdout",
     "output_type": "stream",
     "text": [
      "Sorted array is:\n",
      "[2, 4, 10, 13, 22, 61, 82, 100, 1231]\n"
     ]
    }
   ],
   "source": [
    "def quickSort(arr):\n",
    "    if len(arr) <= 1:\n",
    "        return arr\n",
    "    pivot = arr[len(arr) // 2]\n",
    "    left = [x for x in arr if x < pivot]\n",
    "    middle = [x for x in arr if x == pivot]\n",
    "    right = [x for x in arr if x > pivot]\n",
    "    return quickSort(left) + middle + quickSort(right)\n",
    "\n",
    "arr = [13, 61, 82, 10, 1231, 22, 100, 2, 4]\n",
    "\n",
    "print(\"Sorted array is:\") \n",
    "print(quickSort(arr))"
   ]
  },
  {
   "cell_type": "markdown",
   "metadata": {},
   "source": [
    "### 5. Merge Sort Algorithm"
   ]
  },
  {
   "cell_type": "code",
   "execution_count": 25,
   "metadata": {},
   "outputs": [
    {
     "name": "stdout",
     "output_type": "stream",
     "text": [
      "Sorted array is:\n",
      "[2, 4, 5, 6, 7, 11, 12, 13, 46, 123, 343]\n"
     ]
    }
   ],
   "source": [
    "def mergeArray(lt, rt):\n",
    "    merge_list = []\n",
    "    i = j = 0\n",
    "    \n",
    "    while i < len(lt) and j < len(rt):\n",
    "        if lt[i] < rt[j]:\n",
    "            merge_list.append(lt[i])\n",
    "            i += 1\n",
    "        else:\n",
    "            merge_list.append(rt[j])\n",
    "            j += 1\n",
    "    \n",
    "    while i < len(lt):\n",
    "        merge_list.append(lt[i])\n",
    "        i += 1\n",
    "    \n",
    "    while j < len(rt):\n",
    "        merge_list.append(rt[j])\n",
    "        j += 1\n",
    "    \n",
    "    return merge_list\n",
    "\n",
    "\n",
    "def mergeSort(arr):    \n",
    "    if len(arr) > 1:\n",
    "        m = len(arr) // 2\n",
    "        lt = arr[:m]\n",
    "        rt = arr[m:]\n",
    "        \n",
    "        left = mergeSort(lt)\n",
    "        right = mergeSort(rt)\n",
    "        \n",
    "        merge = mergeArray(left, right)\n",
    "        return merge\n",
    "    \n",
    "    else:\n",
    "        return arr\n",
    "\n",
    "arr = [12, 11, 13, 5, 6, 7, 123, 2, 343, 4, 46]  \n",
    "\n",
    "ans = mergeSort(arr) \n",
    "print(\"Sorted array is:\") \n",
    "print(ans) "
   ]
  },
  {
   "cell_type": "markdown",
   "metadata": {},
   "source": [
    "### 6. Heap Sort Algorithm"
   ]
  },
  {
   "cell_type": "code",
   "execution_count": 31,
   "metadata": {},
   "outputs": [
    {
     "name": "stdout",
     "output_type": "stream",
     "text": [
      "Sorted array is:\n",
      "[0, 1, 2, 3, 4, 5, 6, 7, 8, 9]\n"
     ]
    }
   ],
   "source": [
    "from heapq import heappush, heappop\n",
    "\n",
    "heap = []\n",
    "data = [1, 3, 5, 7, 9, 2, 4, 6, 8, 0]\n",
    "\n",
    "for item in data:\n",
    "    heappush(heap, item)\n",
    "\n",
    "ordered = []\n",
    "while len(heap) > 0:\n",
    "    ordered.append(heappop(heap))\n",
    "    \n",
    "print(\"Sorted array is:\") \n",
    "print(ordered)"
   ]
  },
  {
   "cell_type": "markdown",
   "metadata": {},
   "source": [
    "### 7. Binary Search Tree (BST) Sort Algorithm"
   ]
  },
  {
   "cell_type": "code",
   "execution_count": 32,
   "metadata": {},
   "outputs": [
    {
     "name": "stdout",
     "output_type": "stream",
     "text": [
      "Sorted array is:\n",
      "A B C D E F G H I J K \n"
     ]
    }
   ],
   "source": [
    "class Tree:\n",
    "    def __init__(self, data):\n",
    "        self.left = None\n",
    "        self.right = None\n",
    "        self.data = data\n",
    "\n",
    "    def __str__(self):\n",
    "        return str(self.data)\n",
    "\n",
    "def insert_node(node, data):\n",
    "    if node is None:\n",
    "        return Tree(data)\n",
    "    \n",
    "    if data <= node.data:\n",
    "        node.left = insert_node(node.left, data)\n",
    "    else:\n",
    "        node.right = insert_node(node.right, data)\n",
    "    \n",
    "    return node\n",
    "\n",
    "data = ['F', 'D', 'J', 'B', 'E', 'G', 'K', 'A', 'C', 'I', 'H']\n",
    "root = None\n",
    "\n",
    "for d in data:\n",
    "    root = insert_node(root, d)\n",
    "    \n",
    "def depth_first_search_inOrder(node):\n",
    "    if node is None:\n",
    "        pass\n",
    "    else:\n",
    "        depth_first_search_inOrder(node.left)\n",
    "        print(node.data, end=' ')\n",
    "        depth_first_search_inOrder(node.right)\n",
    "\n",
    "print(\"Sorted array is:\") \n",
    "depth_first_search_inOrder(root)\n",
    "print()"
   ]
  },
  {
   "cell_type": "markdown",
   "metadata": {},
   "source": [
    "# Non-Comparison Based Sorting"
   ]
  },
  {
   "cell_type": "markdown",
   "metadata": {},
   "source": [
    "### 8. Counting Sort Algorithm"
   ]
  },
  {
   "cell_type": "code",
   "execution_count": 22,
   "metadata": {},
   "outputs": [
    {
     "name": "stdout",
     "output_type": "stream",
     "text": [
      "Sorted character array is:\n",
      "eeeefggkkorss\n"
     ]
    }
   ],
   "source": [
    "# Python program for counting sort \n",
    "\n",
    "# The main function that sort the given string arr[] in \n",
    "# alphabetical order \n",
    "def countSort(arr): \n",
    "    \n",
    "    # The output character array that will have sorted arr \n",
    "    output = [0 for i in range(len(arr))] \n",
    "\n",
    "    # Create a count array to store count of inidividul \n",
    "    # characters and initialize count array as 0 \n",
    "    count = [0 for i in range(256)] \n",
    "\n",
    "    # For storing the resulting answer since the \n",
    "    # string is immutable \n",
    "    ans = [0 for _ in arr] \n",
    "\n",
    "    # Store count of each character \n",
    "    for i in arr: \n",
    "        count[ord(i)] += 1\n",
    "\n",
    "    # Change count[i] so that count[i] now contains actual \n",
    "    # position of this character in output array \n",
    "    for i in range(1, 256): \n",
    "        count[i] += count[i-1] \n",
    "\n",
    "    # Build the output character array \n",
    "    for i in range(len(arr)): \n",
    "        output[count[ord(arr[i])]-1] = arr[i] \n",
    "        count[ord(arr[i])] -= 1\n",
    "\n",
    "    # Copy the output array to arr, so that arr now \n",
    "    # contains sorted characters \n",
    "    for i in range(len(arr)): \n",
    "        ans[i] = output[i] \n",
    "    \n",
    "    return ans \n",
    "\n",
    "# Driver program to test above function \n",
    "arr = \"geeksforgeeks\"\n",
    "ans = countSort(arr) \n",
    "print(\"Sorted character array is:\\n%s\" % (\"\".join(ans)))"
   ]
  },
  {
   "cell_type": "code",
   "execution_count": 24,
   "metadata": {},
   "outputs": [
    {
     "name": "stdout",
     "output_type": "stream",
     "text": [
      "[[0], [1], [2], [3, 3], [4], [5, 5], [6], [7, 7], [8], None]\n",
      "[0, 1, 2, 3, 3, 4, 5, 5, 6, 7, 7, 8]\n"
     ]
    }
   ],
   "source": [
    "# Counting sort of only 1 digit numbers\n",
    "arr = [3, 4, 6, 7, 3, 2, 1, 7, 5, 8, 5, 0]\n",
    "\n",
    "# Use array of list\n",
    "L = [None] * 10\n",
    "\n",
    "for v in arr:\n",
    "    if L[v] is None:\n",
    "        L[v] = list()\n",
    "        L[v].append(v)\n",
    "    else:\n",
    "        L[v].append(v)\n",
    "\n",
    "output = []\n",
    "\n",
    "for l in L:\n",
    "    if l is not None:\n",
    "        output.extend(l)\n",
    "\n",
    "print(L)\n",
    "print(output)"
   ]
  },
  {
   "cell_type": "code",
   "execution_count": 23,
   "metadata": {},
   "outputs": [
    {
     "name": "stdout",
     "output_type": "stream",
     "text": [
      "[1, 1, 1, 2, 1, 2, 1, 2, 1, 0]\n",
      "[0, 1, 2, 3, 3, 4, 5, 5, 6, 7, 7, 8]\n"
     ]
    }
   ],
   "source": [
    "# Counting sort of only 1 digit numbers\n",
    "arr = [3, 4, 6, 7, 3, 2, 1, 7, 5, 8, 5, 0]\n",
    "\n",
    "# Use array with count of the index\n",
    "L = [0] * 10\n",
    "\n",
    "for v in arr:\n",
    "    L[v] += 1\n",
    "\n",
    "output = []\n",
    "for i in range(10):\n",
    "    for l in range(L[i]):\n",
    "        output.append(i)\n",
    "            \n",
    "print(L)\n",
    "print(output)"
   ]
  },
  {
   "cell_type": "code",
   "execution_count": 26,
   "metadata": {},
   "outputs": [
    {
     "name": "stdout",
     "output_type": "stream",
     "text": [
      "[1, 1, 1, 2, 1, 2, 1, 2, 1, 0]\n",
      "[1, 2, 3, 5, 6, 8, 9, 11, 12, 12]\n",
      "[0, 1, 2, 3, 3, 4, 5, 5, 6, 7, 7, 8]\n"
     ]
    }
   ],
   "source": [
    "# Counting sort of only 1 digit numbers\n",
    "arr = [3, 4, 6, 7, 3, 2, 1, 7, 5, 8, 5, 0]\n",
    "output = [0] * len(arr)\n",
    "\n",
    "# Other way of use array with count of the index\n",
    "L = [0] * 10\n",
    "\n",
    "for v in arr:\n",
    "    L[v] += 1\n",
    "\n",
    "print(L)\n",
    "\n",
    "for i in range(1, 10):\n",
    "    L[i] += L[i-1]\n",
    "\n",
    "print(L)\n",
    "\n",
    "for v in arr:\n",
    "    idx = L[v] - 1\n",
    "    L[v] -= 1\n",
    "    output[idx] = v\n",
    "\n",
    "print(output)"
   ]
  },
  {
   "cell_type": "markdown",
   "metadata": {},
   "source": [
    "### 9. Radix Sort Algorithm"
   ]
  },
  {
   "cell_type": "code",
   "execution_count": 45,
   "metadata": {},
   "outputs": [
    {
     "name": "stdout",
     "output_type": "stream",
     "text": [
      "Bucket:  [[], [], [62, 12], [123, 253], [234, 234, 94, 304, 24], [], [56], [], [578, 8], []]\n",
      "Array:  [62, 12, 123, 253, 234, 234, 94, 304, 24, 56, 578, 8]\n",
      "Placement for next:  10\n",
      "Bucket:  [[304, 8], [12], [123, 24], [234, 234], [], [253, 56], [62], [578], [], [94]]\n",
      "Array:  [304, 8, 12, 123, 24, 234, 234, 253, 56, 62, 578, 94]\n",
      "Placement for next:  100\n",
      "Bucket:  [[8, 12, 24, 56, 62, 94], [123], [234, 234, 253], [304], [], [578], [], [], [], []]\n",
      "Array:  [8, 12, 24, 56, 62, 94, 123, 234, 234, 253, 304, 578]\n",
      "Placement for next:  1000\n",
      "Bucket:  [[8, 12, 24, 56, 62, 94, 123, 234, 234, 253, 304, 578], [], [], [], [], [], [], [], [], []]\n",
      "\n",
      "Sorted array is:\n",
      "[8, 12, 24, 56, 62, 94, 123, 234, 234, 253, 304, 578]\n"
     ]
    }
   ],
   "source": [
    "def RadixSort(A):\n",
    "    RADIX = 10\n",
    "    placement = 1\n",
    "    \n",
    "    # array of 10 list\n",
    "    buckets = [list() for _ in range(RADIX)]\n",
    "    \n",
    "    while True:\n",
    "        maxLength = True\n",
    "        \n",
    "        for i in A:\n",
    "            tmp = i // placement\n",
    "            buckets[tmp % RADIX].append(i)\n",
    "            \n",
    "            if maxLength and tmp > 0:\n",
    "                maxLength = False\n",
    "        \n",
    "        print(\"Bucket: \", buckets)\n",
    "        if maxLength:\n",
    "            break\n",
    "            \n",
    "        a = 0\n",
    "        for b in range(RADIX):\n",
    "            buck = buckets[b]\n",
    "            \n",
    "            # check if the list has elements added\n",
    "            if len(buck) > 0:\n",
    "                for i in buck:\n",
    "                    A[a] = i\n",
    "                    a += 1\n",
    "                \n",
    "                # reset the list back to empty\n",
    "                buckets[b] = []\n",
    "        \n",
    "        print(\"Array: \", A)\n",
    "        \n",
    "        # move to next digit\n",
    "        placement *= RADIX\n",
    "        print(\"Placement for next: \", placement)\n",
    "        \n",
    "A = [123, 234, 62, 234, 253, 578, 94, 304, 56, 24, 12, 8]\n",
    "RadixSort(A)\n",
    "\n",
    "print(\"\\nSorted array is:\")\n",
    "print(A)"
   ]
  },
  {
   "cell_type": "markdown",
   "metadata": {},
   "source": [
    "### 10. Bucket Sort Algorithm"
   ]
  },
  {
   "cell_type": "code",
   "execution_count": 24,
   "metadata": {},
   "outputs": [
    {
     "name": "stdout",
     "output_type": "stream",
     "text": [
      "Sorted Array is:\n",
      "[0.1234, 0.3434, 0.565, 0.656, 0.665, 0.897]\n"
     ]
    }
   ],
   "source": [
    "# Python3 program to sort an array \n",
    "# using bucket sort \n",
    "def insertionSort(b): \n",
    "    for i in range(1, len(b)): \n",
    "        up = b[i] \n",
    "        j = i - 1\n",
    "        while j >=0 and b[j] > up: \n",
    "            b[j + 1] = b[j] \n",
    "            j -= 1\n",
    "        b[j + 1] = up    \n",
    "    return b     \n",
    "            \n",
    "def bucketSort(x): \n",
    "    arr = [] \n",
    "    # 10 means 10 slots, each slot's size is 0.1 \n",
    "    slot_num = 10 \n",
    "    for i in range(slot_num): \n",
    "        arr.append(list()) \n",
    "        \n",
    "    # Put array elements in different buckets \n",
    "    for j in x: \n",
    "        index_b = int(slot_num * j) \n",
    "        arr[index_b].append(j) \n",
    "    \n",
    "    # Sort individual buckets \n",
    "    for i in range(slot_num): \n",
    "        arr[i] = insertionSort(arr[i]) \n",
    "        \n",
    "    # concatenate the result \n",
    "    k = 0\n",
    "    for i in range(slot_num): \n",
    "        for j in range(len(arr[i])): \n",
    "            x[k] = arr[i][j] \n",
    "            k += 1\n",
    "    return x \n",
    "\n",
    "# Driver Code \n",
    "arr = [0.897, 0.565, 0.656, 0.1234, 0.665, 0.3434] \n",
    "print(\"Sorted Array is:\") \n",
    "print(bucketSort(arr)) "
   ]
  },
  {
   "cell_type": "code",
   "execution_count": null,
   "metadata": {},
   "outputs": [],
   "source": []
  }
 ],
 "metadata": {
  "kernelspec": {
   "display_name": "Python 3",
   "language": "python",
   "name": "python3"
  },
  "language_info": {
   "codemirror_mode": {
    "name": "ipython",
    "version": 3
   },
   "file_extension": ".py",
   "mimetype": "text/x-python",
   "name": "python",
   "nbconvert_exporter": "python",
   "pygments_lexer": "ipython3",
   "version": "3.7.0"
  }
 },
 "nbformat": 4,
 "nbformat_minor": 2
}
