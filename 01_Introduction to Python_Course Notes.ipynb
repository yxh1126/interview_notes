{
 "cells": [
  {
   "cell_type": "markdown",
   "metadata": {},
   "source": [
    "### Task 1: Getting a Program Running"
   ]
  },
  {
   "cell_type": "code",
   "execution_count": 1,
   "metadata": {},
   "outputs": [
    {
     "name": "stdout",
     "output_type": "stream",
     "text": [
      "Hello World!\n"
     ]
    }
   ],
   "source": [
    "def main():\n",
    "    print(\"Hello World!\")\n",
    "\n",
    "main()"
   ]
  },
  {
   "cell_type": "markdown",
   "metadata": {},
   "source": [
    "### Task 2: Function Calls"
   ]
  },
  {
   "cell_type": "code",
   "execution_count": 28,
   "metadata": {},
   "outputs": [
    {
     "name": "stdout",
     "output_type": "stream",
     "text": [
      "Hello World!\n",
      "In func1\n",
      "foo\n",
      "2\n",
      "2.1\n",
      "sum 5\n",
      "In func4 adding: 1 2\n",
      "In func4 adding: 2 3\n",
      "5\n",
      "In func4 adding: 3 4\n",
      "7\n"
     ]
    }
   ],
   "source": [
    "def func1():\n",
    "    print(\"In func1\")\n",
    "\n",
    "def func2(value):\n",
    "    print(value)\n",
    "\n",
    "def func3(p1, p2, p3):\n",
    "    total = p1 + p2\n",
    "    print(p3, total)\n",
    "\n",
    "def func4(p1, p2):\n",
    "    print(\"In func4 adding:\", p1, p2)\n",
    "    return p1 + p2\n",
    "\n",
    "def main():\n",
    "    print(\"Hello World!\")\n",
    "    \n",
    "    func1()\n",
    "    \n",
    "    func2(\"foo\")\n",
    "    func2(2)\n",
    "    func2(2.1)\n",
    "    \n",
    "    func3(2, 3, \"sum\")\n",
    "    \n",
    "    func4(1, 2)\n",
    "    print(func4(2, 3))\n",
    "    val = func4(3, 4)\n",
    "    print(val)\n",
    "\n",
    "    \n",
    "main()"
   ]
  },
  {
   "cell_type": "markdown",
   "metadata": {},
   "source": [
    "### Task 3: User Input"
   ]
  },
  {
   "cell_type": "code",
   "execution_count": 6,
   "metadata": {},
   "outputs": [
    {
     "name": "stdout",
     "output_type": "stream",
     "text": [
      "Hello World!\n",
      "Please enter a number:0\n",
      "3\n",
      "54\n"
     ]
    }
   ],
   "source": [
    "def func5(num): \n",
    "    # Why did this program crash? The input command returns a string\n",
    "    # val = input(\"Please enter a number:\")\n",
    "    # Convert a string into a number if it can\n",
    "    val = int(input(\"Please enter a number:\"))\n",
    "    return val + num\n",
    "\n",
    "def main():\n",
    "    print(\"Hello World!\")\n",
    "    print(func5(3))\n",
    "\n",
    "\n",
    "main()\n",
    "\n",
    "a = 5\n",
    "b = '5'\n",
    "\n",
    "print(b + '4')"
   ]
  },
  {
   "cell_type": "markdown",
   "metadata": {},
   "source": [
    "### Task 4: Conditionals"
   ]
  },
  {
   "cell_type": "code",
   "execution_count": 7,
   "metadata": {},
   "outputs": [
    {
     "name": "stdout",
     "output_type": "stream",
     "text": [
      "Yes\n",
      "No\n",
      "No\n"
     ]
    }
   ],
   "source": [
    "def func6(val):\n",
    "    if val < 3:\n",
    "        print(\"Yes\")\n",
    "    else:\n",
    "        print(\"No\")\n",
    "\n",
    "func6(2)\n",
    "# Add # in front of the code, this tells python to ignore this line\n",
    "# func6(5)\n",
    "func6(4)\n",
    "func6(3)"
   ]
  },
  {
   "cell_type": "code",
   "execution_count": 31,
   "metadata": {},
   "outputs": [
    {
     "name": "stdout",
     "output_type": "stream",
     "text": [
      "Yes\n",
      "Equal\n",
      "No\n"
     ]
    }
   ],
   "source": [
    "def func6(val):\n",
    "    if val < 3:\n",
    "        print(\"Yes\")\n",
    "    elif val == 3:\n",
    "        print(\"Equal\")\n",
    "    else:\n",
    "        print(\"No\")\n",
    "\n",
    "func6(2)\n",
    "func6(3)\n",
    "func6(4)"
   ]
  },
  {
   "cell_type": "code",
   "execution_count": 32,
   "metadata": {},
   "outputs": [
    {
     "name": "stdout",
     "output_type": "stream",
     "text": [
      "Here2\n",
      "Here1\n",
      "Here3\n"
     ]
    }
   ],
   "source": [
    "def func7(a, b):\n",
    "    if a < 2:\n",
    "        if b > 3:\n",
    "            print(\"Here1\")\n",
    "        else:\n",
    "            print(\"Here2\")\n",
    "    else:\n",
    "        print(\"Here3\")\n",
    "\n",
    "func7(1, 2)\n",
    "func7(1, 4)\n",
    "func7(4, 5)"
   ]
  },
  {
   "cell_type": "markdown",
   "metadata": {},
   "source": [
    "### You should understand after this lesson:\n",
    "* Parameters and arguments\n",
    "* Conditional statements (if-elif-else) as a selection mechanism\n",
    "* Relational and logical expressions and operators\n",
    "* Pre-conditions and post-conditions for functions\n",
    "* Using input() to get user input\n",
    "* Using int() to convert string user input into integer form\n",
    "* Using print() with default argument values and end=\"\" option\n",
    "* Type casting: conversion of text input to integer form\n",
    "* Using = to bind values to names\n",
    "* Concept of stub functions for developing multi-function programs\n",
    "* Diagrams of execution traces, showing call sequences and call nesting\n",
    "* Diagrams of call stack and stack frames"
   ]
  },
  {
   "cell_type": "markdown",
   "metadata": {},
   "source": [
    "### You will have gotten more practice:\n",
    "* Writing and documenting Python functions and programs;\n",
    "* Using editors and the interpreter 'console';\n",
    "* Finding information on functions and procedures in built-in modules; and\n",
    "* Tracing execution of code with execution diagrams."
   ]
  },
  {
   "cell_type": "code",
   "execution_count": null,
   "metadata": {},
   "outputs": [],
   "source": []
  }
 ],
 "metadata": {
  "kernelspec": {
   "display_name": "Python 3",
   "language": "python",
   "name": "python3"
  },
  "language_info": {
   "codemirror_mode": {
    "name": "ipython",
    "version": 3
   },
   "file_extension": ".py",
   "mimetype": "text/x-python",
   "name": "python",
   "nbconvert_exporter": "python",
   "pygments_lexer": "ipython3",
   "version": "3.7.4"
  }
 },
 "nbformat": 4,
 "nbformat_minor": 2
}
