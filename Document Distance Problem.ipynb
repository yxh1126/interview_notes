{
 "cells": [
  {
   "cell_type": "markdown",
   "metadata": {},
   "source": [
    "### Review of String methods\n",
    "\n",
    "These string methods is useful, but it's not enough to solve our `Document Distance Problem`"
   ]
  },
  {
   "cell_type": "code",
   "execution_count": 85,
   "metadata": {},
   "outputs": [
    {
     "name": "stdout",
     "output_type": "stream",
     "text": [
      "  ；The Zen of Python, by Tim Peters  \n",
      "；The Zen of Python, by Tim Peters\n",
      "；the zen of python, by tim peters\n",
      "['；the', 'zen', 'of', 'python,', 'by', 'tim', 'peters']\n"
     ]
    }
   ],
   "source": [
    "# 1. read the text from a file\n",
    "text = '  ；The Zen of Python, by Tim Peters  '\n",
    "print(text)\n",
    "\n",
    "# 2. remove the front and end space of the line\n",
    "output1 = text.strip()\n",
    "print(output1)\n",
    "\n",
    "# 3. to convert all the characters in the string to lower case\n",
    "output2 = output1.lower()\n",
    "print(output2)\n",
    "\n",
    "# 4. split the long string to individual words\n",
    "output3 = output2.split()\n",
    "print(output3)"
   ]
  },
  {
   "cell_type": "markdown",
   "metadata": {},
   "source": [
    "### Step 1: Read document from file"
   ]
  },
  {
   "cell_type": "code",
   "execution_count": 86,
   "metadata": {},
   "outputs": [
    {
     "name": "stdout",
     "output_type": "stream",
     "text": [
      "['a b c\\n', '\\n']\n"
     ]
    }
   ],
   "source": [
    "import sys\n",
    "\n",
    "def read_file(filename):\n",
    "    \"\"\" \n",
    "    Read the text file with the given filename;\n",
    "    return a list of the lines of text in the file.\n",
    "    \"\"\"\n",
    "    try:\n",
    "        f = open(filename, 'r')\n",
    "        text = f.readlines()\n",
    "        f.close()\n",
    "        return text\n",
    "    except IOError:\n",
    "        print(\"Error opening or reading input file: \",filename)\n",
    "        sys.exit()\n",
    "\n",
    "# Test the function\n",
    "read_text = read_file('zen_of_python.txt')\n",
    "print(read_text)"
   ]
  },
  {
   "cell_type": "markdown",
   "metadata": {},
   "source": [
    "### Step 2: Split each string into words"
   ]
  },
  {
   "cell_type": "code",
   "execution_count": 87,
   "metadata": {},
   "outputs": [
    {
     "name": "stdout",
     "output_type": "stream",
     "text": [
      "['sdf1aj', 'dkfv', 'v', 'jakl', 'dkf', 'al']\n"
     ]
    }
   ],
   "source": [
    "def get_words_from_string(line):\n",
    "    word_list = []\n",
    "    char_list = []\n",
    "    \n",
    "    # c is the character\n",
    "    for c in line:\n",
    "        if c.isalnum():\n",
    "            char_list.append(c.lower())\n",
    "        elif len(char_list) > 0:\n",
    "            word = ''.join(char_list)\n",
    "            word_list.append(word)\n",
    "            char_list = []\n",
    "    else:\n",
    "        if len(char_list) > 0:\n",
    "            word = ''.join(char_list)\n",
    "            word_list.append(word)\n",
    "    \n",
    "    return word_list\n",
    "\n",
    "# Test the function\n",
    "test_str = \"   sdf1aj dkfv v'jakl dkf al \\n\"\n",
    "test_out = get_words_from_string(test_str)\n",
    "print(test_out)"
   ]
  },
  {
   "cell_type": "markdown",
   "metadata": {},
   "source": [
    "### Step 3: Collect all the words at each document into a list\n",
    "\n",
    "Each line of string treat as a `document`."
   ]
  },
  {
   "cell_type": "code",
   "execution_count": 88,
   "metadata": {},
   "outputs": [
    {
     "name": "stdout",
     "output_type": "stream",
     "text": [
      "['a', 'b', 'c']\n"
     ]
    }
   ],
   "source": [
    "def get_words_from_line_list(line_list):\n",
    "    word_list = []\n",
    "    for line in line_list:\n",
    "        words_in_line = get_words_from_string(line)\n",
    "        word_list.extend(words_in_line)\n",
    "    return word_list\n",
    "\n",
    "# Test the function\n",
    "words = get_words_from_line_list(read_text)\n",
    "print(words)"
   ]
  },
  {
   "cell_type": "markdown",
   "metadata": {},
   "source": [
    "### Step 4: Count the frequency of distinct word in the list"
   ]
  },
  {
   "cell_type": "code",
   "execution_count": 89,
   "metadata": {},
   "outputs": [
    {
     "name": "stdout",
     "output_type": "stream",
     "text": [
      "{'a': 1, 'b': 1, 'c': 1}\n"
     ]
    }
   ],
   "source": [
    "def count_frequency(word_list):\n",
    "    res = {}\n",
    "    for word in word_list:\n",
    "        if word in res:\n",
    "            res[word] += 1\n",
    "        else:\n",
    "            res[word] = 1\n",
    "    return res\n",
    "\n",
    "# Test the function\n",
    "word_freq = count_frequency(words)\n",
    "print(word_freq)"
   ]
  },
  {
   "cell_type": "markdown",
   "metadata": {},
   "source": [
    "### Step 5: Use all the functions above in one place"
   ]
  },
  {
   "cell_type": "code",
   "execution_count": 90,
   "metadata": {},
   "outputs": [
    {
     "name": "stdout",
     "output_type": "stream",
     "text": [
      "File < zen_of_python.txt >:\n",
      "2 lines,\n",
      "3 words,\n",
      "3 distinct words.\n",
      "\n",
      "{'a': 1, 'b': 1, 'c': 1}\n"
     ]
    }
   ],
   "source": [
    "def word_frequencies_for_file(file_path):\n",
    "    # Step1 - read file\n",
    "    line_list = read_file(file_path)\n",
    "    # Step2 used as a subroutine in Step3\n",
    "    word_list = get_words_from_line_list(line_list)\n",
    "    # Step4 - count the frequency of distinct words in word_list\n",
    "    word_freq = count_frequency(word_list)\n",
    "    \n",
    "    print(\"File <\", file_path, \">:\")\n",
    "    print(len(line_list), \"lines,\")\n",
    "    print(len(word_list), \"words,\")\n",
    "    print(len(word_freq), \"distinct words.\\n\")\n",
    "    return word_freq\n",
    "\n",
    "res = word_frequencies_for_file('zen_of_python.txt')\n",
    "print(res)"
   ]
  },
  {
   "cell_type": "markdown",
   "metadata": {},
   "source": [
    "### Step 6: Inner product of two vectors"
   ]
  },
  {
   "cell_type": "code",
   "execution_count": 91,
   "metadata": {},
   "outputs": [
    {
     "name": "stdout",
     "output_type": "stream",
     "text": [
      "4.0\n"
     ]
    }
   ],
   "source": [
    "# Version 1 beta\n",
    "# the inputs are 2 docs\n",
    "def inner_product_beta(v1, v2):\n",
    "    sum = 0.0\n",
    "    \n",
    "    for key in v1:\n",
    "        sum = sum + v1[key] * v2[key]\n",
    "    \n",
    "    return sum\n",
    "\n",
    "v1 = {'the': 4, 'cat': 1, 'dog': 0}    # 4, 1, 0\n",
    "v2 = {'the': 1, 'cat': 0, 'dog': 1}    # 1, 0, 1   \n",
    "\n",
    "# 4* 1 + 1 * 0 + 0* 1 = 4\n",
    "ans = inner_product_beta(v1, v2)\n",
    "print(ans)"
   ]
  },
  {
   "cell_type": "code",
   "execution_count": 92,
   "metadata": {},
   "outputs": [
    {
     "name": "stdout",
     "output_type": "stream",
     "text": [
      "4.0\n"
     ]
    }
   ],
   "source": [
    "# Version 2\n",
    "# the inputs are 2 docs\n",
    "def inner_product(v1, v2):\n",
    "    sum = 0.0\n",
    "    \n",
    "    for key in v1:\n",
    "        if key in v2:\n",
    "            # sum = sum + v1[key] * v2[key]\n",
    "            sum += v1[key] * v2[key]\n",
    "        # else:\n",
    "        #   sum += 0\n",
    "    \n",
    "    return sum\n",
    "\n",
    "# dot product\n",
    "# assume it will be the output of our step 5\n",
    "v1 = {'the': 4, 'cat': 1}    # 4, 1, 0\n",
    "v2 = {'the': 1, 'dog': 1}    # 1, 0, 1   \n",
    "\n",
    "# 4* 1 + 1 * 0 + 0* 1 = 4\n",
    "ans = inner_product(v1, v2)\n",
    "print(ans)"
   ]
  },
  {
   "cell_type": "markdown",
   "metadata": {},
   "source": [
    "### Step 7: Length of the vector"
   ]
  },
  {
   "cell_type": "code",
   "execution_count": 93,
   "metadata": {},
   "outputs": [
    {
     "name": "stdout",
     "output_type": "stream",
     "text": [
      "25.0\n",
      "100.0\n"
     ]
    }
   ],
   "source": [
    "def vector_length_square(vector):\n",
    "    sum = 0.0\n",
    "    for key in vector:\n",
    "        # sum += vector[key] * vector[key]\n",
    "        sum += vector[key] ** 2\n",
    "    return sum\n",
    "\n",
    "v1 = {'the': 3, 'cat': 4}    # 4, 1, 0\n",
    "v2 = {'the': 6, 'dog': 8}    # 1, 0, 1   \n",
    "\n",
    "ans1 = vector_length_square(v1)\n",
    "print(ans1)\n",
    "\n",
    "ans2 = vector_length_square(v2)\n",
    "print(ans2)"
   ]
  },
  {
   "cell_type": "markdown",
   "metadata": {},
   "source": [
    "### Step 8: Vector angle"
   ]
  },
  {
   "cell_type": "code",
   "execution_count": 94,
   "metadata": {},
   "outputs": [
    {
     "name": "stdout",
     "output_type": "stream",
     "text": [
      "0.0\n"
     ]
    }
   ],
   "source": [
    "import math\n",
    "\n",
    "def vector_angle(v1, v2):\n",
    "    # call Step 6\n",
    "    numerator = inner_product(v1, v2)\n",
    "    # call Step 7\n",
    "    # sqrt(len_square_v1) * sqrt(len_square_v2)\n",
    "    denominator = math.sqrt(vector_length_square(v1) * vector_length_square(v2))\n",
    "    radians_angle = math.acos(numerator / denominator)\n",
    "    return radians_angle\n",
    "\n",
    "v1 = {'the': 1, 'dog': 1}    # 4, 1, 0\n",
    "v2 = {'the': 1, 'dog': 1}    # 1, 0, 1\n",
    "ans = vector_angle(v1, v2)\n",
    "print(ans)"
   ]
  },
  {
   "cell_type": "markdown",
   "metadata": {},
   "source": [
    "### Step 9: Run the application"
   ]
  },
  {
   "cell_type": "code",
   "execution_count": 95,
   "metadata": {},
   "outputs": [
    {
     "name": "stdout",
     "output_type": "stream",
     "text": [
      "File < notes_plan.txt >:\n",
      "1 lines,\n",
      "1 words,\n",
      "1 distinct words.\n",
      "\n",
      "File < zen_of_python.txt >:\n",
      "2 lines,\n",
      "3 words,\n",
      "3 distinct words.\n",
      "\n",
      "The distance between the documents is: 1.570796 (radians)\n",
      "The distance between the documents is: 90.000000 (degrees)\n"
     ]
    }
   ],
   "source": [
    "import math\n",
    "\n",
    "def run_app(filename_1, filename_2):\n",
    "    vector_1 = word_frequencies_for_file(filename_1)\n",
    "    vector_2 = word_frequencies_for_file(filename_2)\n",
    "    distance = vector_angle(vector_1, vector_2)\n",
    "    \n",
    "    print(\"The distance between the documents is: %0.6f (radians)\" % distance)\n",
    "    print(\"The distance between the documents is: %0.6f (degrees)\" % math.degrees(distance))\n",
    "\n",
    "run_app(\"notes_plan.txt\", \"zen_of_python.txt\")"
   ]
  },
  {
   "cell_type": "code",
   "execution_count": 96,
   "metadata": {},
   "outputs": [
    {
     "data": {
      "text/plain": [
       "5.0"
      ]
     },
     "execution_count": 96,
     "metadata": {},
     "output_type": "execute_result"
    }
   ],
   "source": [
    "import math\n",
    "math.sqrt(3**2 + 4**2)"
   ]
  },
  {
   "cell_type": "code",
   "execution_count": 97,
   "metadata": {},
   "outputs": [
    {
     "name": "stdout",
     "output_type": "stream",
     "text": [
      "25\n",
      "100\n",
      "2500\n",
      "50.0\n"
     ]
    }
   ],
   "source": [
    "import math\n",
    "\n",
    "def vector_length_square(vec):\n",
    "    res = 0\n",
    "    for v in vec:\n",
    "        res += v**2\n",
    "    return res\n",
    "    \n",
    "    \n",
    "v1 = [3, 4] # 5\n",
    "v2 = [6, 8] # 10\n",
    "\n",
    "len1_square = vector_length(v1)\n",
    "len2_square = vector_length(v2)\n",
    "\n",
    "print(len1)\n",
    "print(len2)\n",
    "\n",
    "print(len1 * len2)\n",
    "print(math.sqrt(len1 * len2))"
   ]
  },
  {
   "cell_type": "code",
   "execution_count": 98,
   "metadata": {},
   "outputs": [],
   "source": [
    "# This will gives you a poem\n",
    "# An interesting poem that tells you the philosophy behind Python\n",
    "import this"
   ]
  },
  {
   "cell_type": "code",
   "execution_count": null,
   "metadata": {},
   "outputs": [],
   "source": []
  },
  {
   "cell_type": "code",
   "execution_count": null,
   "metadata": {},
   "outputs": [],
   "source": []
  },
  {
   "cell_type": "code",
   "execution_count": null,
   "metadata": {},
   "outputs": [],
   "source": []
  },
  {
   "cell_type": "code",
   "execution_count": null,
   "metadata": {},
   "outputs": [],
   "source": []
  },
  {
   "cell_type": "code",
   "execution_count": null,
   "metadata": {},
   "outputs": [],
   "source": []
  },
  {
   "cell_type": "code",
   "execution_count": null,
   "metadata": {},
   "outputs": [],
   "source": []
  }
 ],
 "metadata": {
  "kernelspec": {
   "display_name": "Python 3",
   "language": "python",
   "name": "python3"
  },
  "language_info": {
   "codemirror_mode": {
    "name": "ipython",
    "version": 3
   },
   "file_extension": ".py",
   "mimetype": "text/x-python",
   "name": "python",
   "nbconvert_exporter": "python",
   "pygments_lexer": "ipython3",
   "version": "3.7.0"
  }
 },
 "nbformat": 4,
 "nbformat_minor": 2
}
