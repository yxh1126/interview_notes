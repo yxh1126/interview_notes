{
 "cells": [
  {
   "cell_type": "code",
   "execution_count": 2,
   "metadata": {},
   "outputs": [
    {
     "name": "stdout",
     "output_type": "stream",
     "text": [
      "a b\n"
     ]
    }
   ],
   "source": [
    "a = \"ab\"\n",
    "c = len(a) // 2\n",
    "one = a[:c]\n",
    "two = a[c:]\n",
    "print(one, two)"
   ]
  },
  {
   "cell_type": "code",
   "execution_count": 14,
   "metadata": {},
   "outputs": [
    {
     "name": "stdout",
     "output_type": "stream",
     "text": [
      "Paul\n"
     ]
    }
   ],
   "source": [
    "class Greeter(object):\n",
    "    \n",
    "    name = \"Timothy\"\n",
    "    \n",
    "    # Constructor\n",
    "    def __init__(self, a_name):\n",
    "        self.name = a_name\n",
    "    \n",
    "    \n",
    "    \n",
    "    def say_hello(self):\n",
    "        print(\"hello world\")\n",
    "        \n",
    "    def say_bye(self):\n",
    "        print(\"bye bye\")\n",
    "        \n",
    "    def add_something(self, a, b):\n",
    "        print(\"sum is: \", a+b)\n",
    "    \n",
    "    def print_name(self):\n",
    "        print(self.name)\n",
    "\n",
    "\n",
    "            \n",
    "g = Greeter(\"Paul\")  # Construct an instance of the Greeter class\n",
    "\n",
    "g.print_name()"
   ]
  },
  {
   "cell_type": "code",
   "execution_count": 29,
   "metadata": {},
   "outputs": [],
   "source": [
    "class Dog:\n",
    "    # Class Attribute\n",
    "    species = 'mammal'\n",
    "    \n",
    "    # Initializer / Instance Attributes\n",
    "    def __init__(self, name, age):\n",
    "        self.name = name\n",
    "        self.age = age\n",
    "        \n",
    "    def __str__(self):\n",
    "        return self.name + ' is ' + str(self.age)\n",
    "    \n",
    "    # member function\n",
    "    def print_species(self):\n",
    "        print(self.species)"
   ]
  },
  {
   "cell_type": "code",
   "execution_count": 32,
   "metadata": {},
   "outputs": [
    {
     "name": "stdout",
     "output_type": "stream",
     "text": [
      "Philo is 5\n",
      "Mikey is 6\n",
      "mammal\n"
     ]
    }
   ],
   "source": [
    "# Instantiate the Dog object\n",
    "philo = Dog(\"Philo\", 5)\n",
    "mikey = Dog(\"Mikey\", 6)\n",
    "\n",
    "print(philo)\n",
    "print(mikey)\n",
    "\n",
    "philo.print_species()"
   ]
  },
  {
   "cell_type": "code",
   "execution_count": null,
   "metadata": {},
   "outputs": [],
   "source": [
    "class Node:\n",
    "    value = 0\n",
    "    next = None\n",
    "    \n",
    "    def __str__(self):\n",
    "        return str(self.value)\n",
    "\n",
    "n = Node()\n",
    "n.value = 100\n",
    "print(n)"
   ]
  }
 ],
 "metadata": {
  "kernelspec": {
   "display_name": "Python 3",
   "language": "python",
   "name": "python3"
  },
  "language_info": {
   "codemirror_mode": {
    "name": "ipython",
    "version": 3
   },
   "file_extension": ".py",
   "mimetype": "text/x-python",
   "name": "python",
   "nbconvert_exporter": "python",
   "pygments_lexer": "ipython3",
   "version": "3.7.0"
  }
 },
 "nbformat": 4,
 "nbformat_minor": 2
}
