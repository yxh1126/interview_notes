{
 "cells": [
  {
   "cell_type": "markdown",
   "metadata": {},
   "source": [
    "# Insert Node to a Binary Tree"
   ]
  },
  {
   "cell_type": "markdown",
   "metadata": {},
   "source": [
    "### 1. Create a Tree data type"
   ]
  },
  {
   "cell_type": "code",
   "execution_count": 2,
   "metadata": {},
   "outputs": [],
   "source": [
    "class Tree:\n",
    "    def __init__(self, data):\n",
    "        self.left = None\n",
    "        self.right = None\n",
    "        self.data = data\n",
    "\n",
    "    def __str__(self):\n",
    "        return str(self.data)"
   ]
  },
  {
   "cell_type": "code",
   "execution_count": 3,
   "metadata": {},
   "outputs": [
    {
     "name": "stdout",
     "output_type": "stream",
     "text": [
      "7\n",
      "None\n",
      "None\n"
     ]
    }
   ],
   "source": [
    "root = Tree(7)\n",
    "\n",
    "print(root)\n",
    "print(root.left)\n",
    "print(root.right)"
   ]
  },
  {
   "cell_type": "markdown",
   "metadata": {},
   "source": [
    "### 2. Create a simple function to insert one value\n",
    "\n",
    "Creat a root node"
   ]
  },
  {
   "cell_type": "code",
   "execution_count": 8,
   "metadata": {},
   "outputs": [],
   "source": [
    "root = Tree(1)"
   ]
  },
  {
   "cell_type": "markdown",
   "metadata": {},
   "source": [
    "Following is the tree after above statement:\n",
    "\n",
    "```python\n",
    "        1 \n",
    "      /   \\ \n",
    "     None  None\n",
    "```"
   ]
  },
  {
   "cell_type": "code",
   "execution_count": 11,
   "metadata": {},
   "outputs": [],
   "source": [
    "root.left = Tree(2)\n",
    "root.right = Tree(3)"
   ]
  },
  {
   "cell_type": "markdown",
   "metadata": {},
   "source": [
    "After above code, 2 and 3 become left and right children of 1:\n",
    "\n",
    "```python\n",
    "\n",
    "           1 \n",
    "         /   \\ \n",
    "        2      3 \n",
    "     /    \\    /  \\ \n",
    "   None None None None\n",
    "```"
   ]
  },
  {
   "cell_type": "code",
   "execution_count": 12,
   "metadata": {},
   "outputs": [],
   "source": [
    "root.left.left = Tree(4)"
   ]
  },
  {
   "cell_type": "markdown",
   "metadata": {},
   "source": [
    "After above code, 4 becomes left child of 2:\n",
    "\n",
    "```python\n",
    "           1 \n",
    "       /       \\ \n",
    "      2          3 \n",
    "    /   \\       /  \\ \n",
    "   4    None  None  None \n",
    "  /  \\ \n",
    "None None\n",
    "```"
   ]
  },
  {
   "cell_type": "markdown",
   "metadata": {},
   "source": [
    "### 3. Update the insert function to add data on left and right"
   ]
  },
  {
   "cell_type": "code",
   "execution_count": 5,
   "metadata": {},
   "outputs": [],
   "source": [
    "def insert_two_nodes(node, data):\n",
    "    if node is None:\n",
    "        return Tree(data)\n",
    "    \n",
    "    if data <= node.data:\n",
    "        node.left = Tree(data)\n",
    "    else:\n",
    "        node.right = Tree(data)\n",
    "        \n",
    "    return node"
   ]
  },
  {
   "cell_type": "code",
   "execution_count": 6,
   "metadata": {},
   "outputs": [
    {
     "name": "stdout",
     "output_type": "stream",
     "text": [
      "10\n",
      "9\n",
      "30\n"
     ]
    }
   ],
   "source": [
    "root = None\n",
    "root = insert_two_nodes(root, 10)\n",
    "root = insert_two_nodes(root, 9)\n",
    "root = insert_two_nodes(root, 30)\n",
    "\n",
    "print(root)\n",
    "print(root.left)\n",
    "print(root.right)"
   ]
  },
  {
   "cell_type": "markdown",
   "metadata": {},
   "source": [
    "### 4. Use recursive call to add a Node"
   ]
  },
  {
   "cell_type": "code",
   "execution_count": 7,
   "metadata": {},
   "outputs": [],
   "source": [
    "def insert_node(node, data):\n",
    "    if node is None:\n",
    "        return Tree(data)\n",
    "    \n",
    "    if data <= node.data:\n",
    "        node.left = insert_node(node.left, data)\n",
    "    else:\n",
    "        node.right = insert_node(node.right, data)\n",
    "    \n",
    "    return node"
   ]
  },
  {
   "cell_type": "markdown",
   "metadata": {},
   "source": [
    "### 5. Insert data to the Binary Tree"
   ]
  },
  {
   "cell_type": "code",
   "execution_count": 8,
   "metadata": {},
   "outputs": [
    {
     "name": "stdout",
     "output_type": "stream",
     "text": [
      "F\n",
      "D\n",
      "J\n",
      "B\n",
      "E\n",
      "G\n",
      "K\n",
      "A\n",
      "C\n",
      "I\n",
      "H\n"
     ]
    }
   ],
   "source": [
    "data = ['F', 'D', 'J', 'B', 'E', 'G', 'K', 'A', 'C', 'I', 'H']\n",
    "root = None\n",
    "\n",
    "for d in data:\n",
    "    print(d)\n",
    "    root = insert_node(root, d)"
   ]
  },
  {
   "cell_type": "markdown",
   "metadata": {},
   "source": [
    "The Binary Tree will be visualize as follow:\n",
    "\n",
    "![Binary Search Tree](img/binary_tree.png)"
   ]
  },
  {
   "cell_type": "markdown",
   "metadata": {},
   "source": [
    "# Search Data in Binary Tree"
   ]
  },
  {
   "cell_type": "code",
   "execution_count": 9,
   "metadata": {},
   "outputs": [],
   "source": [
    "def search_binary_tree(node, data):\n",
    "    if node is None:\n",
    "        return False\n",
    "    elif node.data == data:\n",
    "        return True\n",
    "    elif data <= node.data:\n",
    "        return search_binary_tree(node.left, data)\n",
    "    else:\n",
    "        return search_binary_tree(node.right, data)"
   ]
  },
  {
   "cell_type": "code",
   "execution_count": 10,
   "metadata": {},
   "outputs": [
    {
     "name": "stdout",
     "output_type": "stream",
     "text": [
      "C\n",
      "True\n"
     ]
    }
   ],
   "source": [
    "# target = input('Enter number to be searched: ')\n",
    "target = 'C'\n",
    "print(target)\n",
    "res = search_binary_tree(root, target)\n",
    "print(res)"
   ]
  },
  {
   "cell_type": "code",
   "execution_count": 11,
   "metadata": {},
   "outputs": [
    {
     "name": "stdout",
     "output_type": "stream",
     "text": [
      "A is in the Binary Tree: True\n",
      "B is in the Binary Tree: True\n",
      "C is in the Binary Tree: True\n",
      "D is in the Binary Tree: True\n",
      "E is in the Binary Tree: True\n",
      "F is in the Binary Tree: True\n",
      "G is in the Binary Tree: True\n",
      "H is in the Binary Tree: True\n",
      "I is in the Binary Tree: True\n",
      "J is in the Binary Tree: True\n",
      "K is in the Binary Tree: True\n",
      "L is in the Binary Tree: False\n",
      "M is in the Binary Tree: False\n",
      "N is in the Binary Tree: False\n",
      "a is in the Binary Tree: False\n",
      "b is in the Binary Tree: False\n",
      "c is in the Binary Tree: False\n",
      "d is in the Binary Tree: False\n",
      "e is in the Binary Tree: False\n",
      "f is in the Binary Tree: False\n",
      "g is in the Binary Tree: False\n"
     ]
    }
   ],
   "source": [
    "targets = 'ABCDEFGHIJKLMNabcdefg'\n",
    "for target in targets:\n",
    "    res = search_binary_tree(root, target)\n",
    "    print('{0} is in the Binary Tree: {1}'.format(target, res))"
   ]
  },
  {
   "cell_type": "markdown",
   "metadata": {},
   "source": [
    "# BFS and DFS for Binary Tree"
   ]
  },
  {
   "cell_type": "markdown",
   "metadata": {},
   "source": [
    "### Depth first search\n",
    "\n",
    "* Preorder Traversal (Root-Left-Right)\n",
    "![Binary Search Tree](img/binary_tree.png)"
   ]
  },
  {
   "cell_type": "code",
   "execution_count": 12,
   "metadata": {},
   "outputs": [
    {
     "name": "stdout",
     "output_type": "stream",
     "text": [
      "F\n",
      "D\n",
      "B\n",
      "A\n",
      "C\n",
      "E\n",
      "J\n",
      "G\n",
      "I\n",
      "H\n",
      "K\n"
     ]
    }
   ],
   "source": [
    "def depth_first_search(node):\n",
    "    if node is None:\n",
    "        pass\n",
    "    else:\n",
    "        print(node.data)\n",
    "        depth_first_search(node.left)\n",
    "        depth_first_search(node.right)\n",
    "\n",
    "depth_first_search(root)"
   ]
  },
  {
   "cell_type": "markdown",
   "metadata": {},
   "source": [
    "* Inorder Traversal (Left-Root-Right)\n",
    "![Binary Search Tree](img/binary_tree.png)"
   ]
  },
  {
   "cell_type": "code",
   "execution_count": 13,
   "metadata": {},
   "outputs": [
    {
     "name": "stdout",
     "output_type": "stream",
     "text": [
      "A\n",
      "B\n",
      "C\n",
      "D\n",
      "E\n",
      "F\n",
      "G\n",
      "H\n",
      "I\n",
      "J\n",
      "K\n"
     ]
    }
   ],
   "source": [
    "def depth_first_search(node):\n",
    "    if node is None:\n",
    "        pass\n",
    "    else:\n",
    "        depth_first_search(node.left)\n",
    "        print(node.data)\n",
    "        depth_first_search(node.right)\n",
    "\n",
    "depth_first_search(root)"
   ]
  },
  {
   "cell_type": "markdown",
   "metadata": {},
   "source": [
    "* Postorder Traversal (Left-Right-Root)\n",
    "![Binary Search Tree](img/binary_tree.png)"
   ]
  },
  {
   "cell_type": "code",
   "execution_count": 14,
   "metadata": {},
   "outputs": [
    {
     "name": "stdout",
     "output_type": "stream",
     "text": [
      "A\n",
      "C\n",
      "B\n",
      "E\n",
      "D\n",
      "H\n",
      "I\n",
      "G\n",
      "K\n",
      "J\n",
      "F\n"
     ]
    }
   ],
   "source": [
    "def depth_first_search(node):\n",
    "    if node is None:\n",
    "        pass\n",
    "    else:\n",
    "        depth_first_search(node.left)\n",
    "        depth_first_search(node.right)\n",
    "        print(node.data)\n",
    "\n",
    "depth_first_search(root)"
   ]
  },
  {
   "cell_type": "markdown",
   "metadata": {},
   "source": [
    "### Breadth first search\n",
    "![Binary Search Tree](img/binary_tree.png)"
   ]
  },
  {
   "cell_type": "code",
   "execution_count": 15,
   "metadata": {},
   "outputs": [
    {
     "name": "stdout",
     "output_type": "stream",
     "text": [
      "F\n",
      "D\n",
      "J\n",
      "B\n",
      "E\n",
      "G\n",
      "K\n",
      "A\n",
      "C\n",
      "I\n",
      "H\n"
     ]
    }
   ],
   "source": []
  },
  {
   "cell_type": "code",
   "execution_count": null,
   "metadata": {},
   "outputs": [],
   "source": []
  }
 ],
 "metadata": {
  "kernelspec": {
   "display_name": "Python 3",
   "language": "python",
   "name": "python3"
  },
  "language_info": {
   "codemirror_mode": {
    "name": "ipython",
    "version": 3
   },
   "file_extension": ".py",
   "mimetype": "text/x-python",
   "name": "python",
   "nbconvert_exporter": "python",
   "pygments_lexer": "ipython3",
   "version": "3.7.0"
  }
 },
 "nbformat": 4,
 "nbformat_minor": 2
}
