{
 "cells": [
  {
   "cell_type": "markdown",
   "metadata": {},
   "source": [
    "# Insert Node to a Binary Tree"
   ]
  },
  {
   "cell_type": "markdown",
   "metadata": {},
   "source": [
    "### 1. Create a Tree data type"
   ]
  },
  {
   "cell_type": "code",
   "execution_count": 57,
   "metadata": {},
   "outputs": [],
   "source": [
    "class Tree:\n",
    "    def __init__(self, data):\n",
    "        self.left = None\n",
    "        self.right = None\n",
    "        self.data = data\n",
    "\n",
    "    def __str__(self):\n",
    "        return str(self.data)"
   ]
  },
  {
   "cell_type": "markdown",
   "metadata": {},
   "source": [
    "### 2. Insert node use iteration - method 1"
   ]
  },
  {
   "cell_type": "code",
   "execution_count": 58,
   "metadata": {},
   "outputs": [],
   "source": [
    "def insert_node_iter_1(node, data):\n",
    "    if node is None:\n",
    "        return Tree(data)\n",
    "    \n",
    "    leaf = node\n",
    "    while True:\n",
    "        if data <= leaf.data:\n",
    "            if leaf.left is not None:\n",
    "                leaf = leaf.left\n",
    "            else:\n",
    "                leaf.left = Tree(data)\n",
    "                return node \n",
    "        else:\n",
    "            if leaf.right is not None:\n",
    "                leaf = leaf.right\n",
    "            else:\n",
    "                leaf.right = Tree(data)\n",
    "                return node"
   ]
  },
  {
   "cell_type": "markdown",
   "metadata": {},
   "source": [
    "### 3. Insert node use iteration - method 2"
   ]
  },
  {
   "cell_type": "code",
   "execution_count": 59,
   "metadata": {},
   "outputs": [],
   "source": [
    "def insert_node_iter_2(node, data):\n",
    "    # Check if the root node has data\n",
    "    if node is None:\n",
    "        return Tree(data)\n",
    "    \n",
    "    # Find the leaf node able to insert data\n",
    "    leaf = node\n",
    "    while leaf is not None:\n",
    "        parent = leaf\n",
    "        if data <= leaf.data:\n",
    "            leaf = leaf.left \n",
    "            direction = True\n",
    "        else:\n",
    "            leaf = leaf.right\n",
    "            direction = False\n",
    "            \n",
    "    # We got the leaf at is able to insert and store in parent\n",
    "    if direction:\n",
    "        parent.left = Tree(data)\n",
    "    else:\n",
    "        parent.right = Tree(data)\n",
    "    \n",
    "    return node"
   ]
  },
  {
   "cell_type": "markdown",
   "metadata": {},
   "source": [
    "### 4. Insert data to the Binary Tree"
   ]
  },
  {
   "cell_type": "code",
   "execution_count": 60,
   "metadata": {},
   "outputs": [
    {
     "name": "stdout",
     "output_type": "stream",
     "text": [
      "F  D  J  B  E  G  K  A  C  I  H  \n"
     ]
    }
   ],
   "source": [
    "data = ['F', 'D', 'J', 'B', 'E', 'G', 'K', 'A', 'C', 'I', 'H']\n",
    "root = None\n",
    "root_o = None\n",
    "\n",
    "for d in data:\n",
    "    print(d, end=' '*2)\n",
    "    root = insert_node_iter_1(root, d)\n",
    "    root_o = insert_node_iter_2(root_o, d)\n",
    "print()"
   ]
  },
  {
   "cell_type": "markdown",
   "metadata": {},
   "source": [
    "The Binary Tree will be visualize as follow:\n",
    "\n",
    "<img src=\"img/binary_tree.png\" align=\"left\"/>"
   ]
  },
  {
   "cell_type": "markdown",
   "metadata": {},
   "source": [
    "# Depth First Search - Interation"
   ]
  },
  {
   "cell_type": "markdown",
   "metadata": {},
   "source": [
    "### 1. Preorder Traversal (Root-Left-Right)"
   ]
  },
  {
   "cell_type": "code",
   "execution_count": 61,
   "metadata": {},
   "outputs": [
    {
     "name": "stdout",
     "output_type": "stream",
     "text": [
      "F  D  B  A  C  E  J  G  I  H  K  \n"
     ]
    }
   ],
   "source": [
    "def depth_first_search_preorder(node):\n",
    "    node_stack = []\n",
    "    \n",
    "    if node is not None:\n",
    "        node_stack.append(node)\n",
    "    \n",
    "    while len(node_stack) > 0:\n",
    "        node = node_stack.pop()\n",
    "        print(node.data, end=' '*2)\n",
    "        \n",
    "        if node.right is not None:\n",
    "            node_stack.append(node.right)\n",
    "        \n",
    "        if node.left is not None:\n",
    "            node_stack.append(node.left)\n",
    "    print()\n",
    "        \n",
    "depth_first_search_preorder(root)"
   ]
  },
  {
   "cell_type": "markdown",
   "metadata": {},
   "source": [
    "The Binary Tree will be visualize as follow:\n",
    "\n",
    "<img src=\"img/binary_tree.png\" align=\"left\"/>"
   ]
  },
  {
   "cell_type": "markdown",
   "metadata": {},
   "source": [
    "### 2. Inorder Traversal (Left-Root-Right)"
   ]
  },
  {
   "cell_type": "markdown",
   "metadata": {},
   "source": [
    "Algorithm for traversing binary tree using stack:"
   ]
  },
  {
   "cell_type": "code",
   "execution_count": 62,
   "metadata": {},
   "outputs": [
    {
     "name": "stdout",
     "output_type": "stream",
     "text": [
      "A  B  C  D  E  F  G  H  I  J  K  \n"
     ]
    }
   ],
   "source": [
    "def depth_first_search_inorder(node):\n",
    "    node_stack = []\n",
    "    curr = node\n",
    "    \n",
    "    while True:\n",
    "        # Reach the left most Node of the current Node\n",
    "        if curr is not None:\n",
    "            node_stack.append(curr)\n",
    "            curr = curr.left\n",
    "        elif len(node_stack) > 0:\n",
    "            # Pop the top item from stack\n",
    "            curr = node_stack.pop()\n",
    "        \n",
    "            # Print the popped item\n",
    "            print(curr.data, end=' '*2)\n",
    "\n",
    "            # Set current = popped_item->right\n",
    "            curr = curr.right\n",
    "        else:\n",
    "            break\n",
    "    print()\n",
    "\n",
    "depth_first_search_inorder(root)"
   ]
  },
  {
   "cell_type": "markdown",
   "metadata": {},
   "source": [
    "Using Morris Traversal - traverse the tree without using stack and recursion."
   ]
  },
  {
   "cell_type": "code",
   "execution_count": 63,
   "metadata": {},
   "outputs": [],
   "source": [
    "def depth_first_search_morris_traversal(node):\n",
    "    # Set current to root of binary tree\n",
    "    curr = node\n",
    "    \n",
    "    while curr is not None:\n",
    "        if curr.left is None:\n",
    "            print(curr.data, end=' '*2)\n",
    "        else:\n",
    "            # Find the inorder predecessor of current\n",
    "            pre = curr.left\n",
    "            while pre.right is not None and pre.right != curr:\n",
    "                pre = pre.right\n",
    "            \n",
    "            # Make current as right child of its inorder predecessor\n",
    "            if pre.right is None:\n",
    "                pre.right = curr\n",
    "                curr = curr.left\n",
    "            \n",
    "            # Revert the changes made in if part to restore the\n",
    "            # original tree i.e., fix the right child of predecessor\n",
    "            else:\n",
    "                pre.right = None\n",
    "                print(curr.data, end=' '*2)\n",
    "                curr = curr.right\n",
    "    print()\n",
    "\n",
    "# depth_first_search_morris_traversal(root)"
   ]
  },
  {
   "cell_type": "markdown",
   "metadata": {},
   "source": [
    "The Binary Tree will be visualize as follow:\n",
    "\n",
    "<img src=\"img/binary_tree.png\" align=\"left\"/>"
   ]
  },
  {
   "cell_type": "markdown",
   "metadata": {},
   "source": [
    "# Breadth First Search - Interation"
   ]
  },
  {
   "cell_type": "markdown",
   "metadata": {},
   "source": [
    "Algorithm for traversing binary tree using queue:"
   ]
  },
  {
   "cell_type": "code",
   "execution_count": 64,
   "metadata": {},
   "outputs": [
    {
     "name": "stdout",
     "output_type": "stream",
     "text": [
      "F  D  J  B  E  G  K  A  C  I  H  \n"
     ]
    }
   ],
   "source": [
    "def breadth_first_search(node):\n",
    "    # Create an empty queue\n",
    "    node_queue = []\n",
    "    \n",
    "    # Add the first node to the queue if it is not None\n",
    "    # If the node is None, while loop will not execute, function will reach end\n",
    "    if node is not None:\n",
    "        node_queue.append(node)\n",
    "        \n",
    "    # Always check the front value in the queue\n",
    "    while len(node_queue) > 0:\n",
    "        # Pop out the front value and print the data\n",
    "        front = node_queue.pop(0)\n",
    "        print(front.data, end=' '*2)   \n",
    "        \n",
    "        if front.left is not None:\n",
    "            node_queue.append(front.left)\n",
    "        \n",
    "        if front.right is not None:\n",
    "            node_queue.append(front.right)\n",
    "    print()\n",
    "    \n",
    "breadth_first_search(root)"
   ]
  },
  {
   "cell_type": "markdown",
   "metadata": {},
   "source": [
    "The Binary Tree will be visualize as follow:\n",
    "\n",
    "<img src=\"img/binary_tree.png\" align=\"left\"/>"
   ]
  }
 ],
 "metadata": {
  "kernelspec": {
   "display_name": "Python 3",
   "language": "python",
   "name": "python3"
  },
  "language_info": {
   "codemirror_mode": {
    "name": "ipython",
    "version": 3
   },
   "file_extension": ".py",
   "mimetype": "text/x-python",
   "name": "python",
   "nbconvert_exporter": "python",
   "pygments_lexer": "ipython3",
   "version": "3.7.0"
  }
 },
 "nbformat": 4,
 "nbformat_minor": 2
}
