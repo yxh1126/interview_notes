{
 "cells": [
  {
   "cell_type": "markdown",
   "metadata": {},
   "source": [
    "# Dictionary\n",
    "\n",
    "A Python dictionary is a special type of data structure that allows you to access data in a\n",
    "<key, value> pairs."
   ]
  },
  {
   "cell_type": "code",
   "execution_count": null,
   "metadata": {},
   "outputs": [],
   "source": [
    "a = [1, 2, 3]\n",
    "print(a[1])\n",
    "\n",
    "# Student Name\n",
    "Bob 3.2, Tim 3.7, Peter 4.0"
   ]
  },
  {
   "cell_type": "code",
   "execution_count": 5,
   "metadata": {},
   "outputs": [
    {
     "name": "stdout",
     "output_type": "stream",
     "text": [
      "3.5\n"
     ]
    }
   ],
   "source": [
    "# key , value\n",
    "my_dict = {'Tim':3.7, 'Peter':4.0, 'Bob2': 3.5, 'Bob1':3.2}\n",
    "\n",
    "print(my_dict['Bob'])"
   ]
  },
  {
   "cell_type": "code",
   "execution_count": 3,
   "metadata": {},
   "outputs": [
    {
     "name": "stdout",
     "output_type": "stream",
     "text": [
      "3.2\n"
     ]
    }
   ],
   "source": [
    "print(my_dict['Bob'])"
   ]
  },
  {
   "cell_type": "code",
   "execution_count": 6,
   "metadata": {},
   "outputs": [
    {
     "name": "stdout",
     "output_type": "stream",
     "text": [
      "{'Bob': 3.5, 'Tim': 3.7, 'Peter': 4.0}\n"
     ]
    }
   ],
   "source": [
    "print(my_dict)"
   ]
  },
  {
   "cell_type": "code",
   "execution_count": 7,
   "metadata": {},
   "outputs": [],
   "source": [
    "my_dict['Paul'] = 2.9"
   ]
  },
  {
   "cell_type": "code",
   "execution_count": 8,
   "metadata": {},
   "outputs": [
    {
     "name": "stdout",
     "output_type": "stream",
     "text": [
      "{'Bob': 3.5, 'Tim': 3.7, 'Peter': 4.0, 'Paul': 2.9}\n"
     ]
    }
   ],
   "source": [
    "print(my_dict)"
   ]
  },
  {
   "cell_type": "code",
   "execution_count": 9,
   "metadata": {},
   "outputs": [],
   "source": [
    "my_dict['Tim'] = 1.0"
   ]
  },
  {
   "cell_type": "code",
   "execution_count": 10,
   "metadata": {},
   "outputs": [
    {
     "name": "stdout",
     "output_type": "stream",
     "text": [
      "{'Bob': 3.5, 'Tim': 1.0, 'Peter': 4.0, 'Paul': 2.9}\n"
     ]
    }
   ],
   "source": [
    "print(my_dict)"
   ]
  },
  {
   "cell_type": "code",
   "execution_count": 17,
   "metadata": {},
   "outputs": [
    {
     "name": "stdout",
     "output_type": "stream",
     "text": [
      "2\n",
      "4\n",
      "8\n"
     ]
    }
   ],
   "source": [
    "dic = {'person': 2, 'cat': 4, 'spider': 8}\n",
    "\n",
    "for i in dic.values():\n",
    "    print(i)"
   ]
  },
  {
   "cell_type": "code",
   "execution_count": 14,
   "metadata": {},
   "outputs": [
    {
     "name": "stdout",
     "output_type": "stream",
     "text": [
      "{'person': 2, 'spider': 8}\n"
     ]
    }
   ],
   "source": [
    "del dic['cat']\n",
    "print(dic)"
   ]
  },
  {
   "cell_type": "code",
   "execution_count": 26,
   "metadata": {},
   "outputs": [
    {
     "name": "stdout",
     "output_type": "stream",
     "text": [
      "{'G': 2, 'e': 4, 'k': 2, 's': 2, 'f': 1, 'o': 1, 'r': 1}\n",
      "f\n"
     ]
    }
   ],
   "source": [
    "my_str = 'GeeksforGeeks'\n",
    "my_str2 = 'TimothyHuang'\n",
    "my_str3 = 'KatherineHuang'\n",
    "\n",
    "# First non-repeating character\n",
    "\n",
    "def first_non_reapeating_char(strs):\n",
    "    my_d = {}\n",
    "    \n",
    "    # 1. find each char in string happens how many time\n",
    "    for c in strs:\n",
    "        if c in my_d:\n",
    "            my_d[c] = my_d[c] + 1\n",
    "        else:\n",
    "            my_d[c] = 1\n",
    "    \n",
    "    print(my_d)\n",
    "    \n",
    "    # 2. check the first non-repeating char\n",
    "    for c in strs:\n",
    "        if my_d[c] == 1:\n",
    "            return c\n",
    "        \n",
    "    return None\n",
    "\n",
    "res = first_non_reapeating_char(my_str)\n",
    "print(res)\n"
   ]
  },
  {
   "cell_type": "code",
   "execution_count": 27,
   "metadata": {},
   "outputs": [
    {
     "name": "stdout",
     "output_type": "stream",
     "text": [
      "{3: 10, 'bar': 'baz', 'foo': 'bar', 'hi': 3}\n"
     ]
    }
   ],
   "source": [
    "d1 = {}\n",
    "\n",
    "d1[3] = 10\n",
    "d1['bar'] = 'foo'\n",
    "d1['foo'] = 'bar'\n",
    "d1['hi'] = True\n",
    "d1[ d1['foo'] ] = 'baz'\n",
    "d1['hi'] = 3\n",
    "\n",
    "print(d1)\n",
    "\n",
    "# {3:10, 'bar':'baz', 'foo':'bar', 'hi':3}"
   ]
  },
  {
   "cell_type": "code",
   "execution_count": null,
   "metadata": {},
   "outputs": [],
   "source": [
    "3848290 = hash(key)"
   ]
  }
 ],
 "metadata": {
  "kernelspec": {
   "display_name": "Python 3",
   "language": "python",
   "name": "python3"
  },
  "language_info": {
   "codemirror_mode": {
    "name": "ipython",
    "version": 3
   },
   "file_extension": ".py",
   "mimetype": "text/x-python",
   "name": "python",
   "nbconvert_exporter": "python",
   "pygments_lexer": "ipython3",
   "version": "3.7.4"
  }
 },
 "nbformat": 4,
 "nbformat_minor": 2
}
